{
 "cells": [
  {
   "cell_type": "code",
   "execution_count": 1,
   "id": "initial_id",
   "metadata": {
    "collapsed": true,
    "ExecuteTime": {
     "end_time": "2024-01-22T15:06:47.122022345Z",
     "start_time": "2024-01-22T15:06:46.617752788Z"
    }
   },
   "outputs": [],
   "source": [
    "from pathlib import Path\n",
    "import os\n",
    "import hjson\n",
    "import json\n",
    "import numpy as np\n",
    "import pandas as pd\n",
    "from collections import OrderedDict\n",
    "from IPython.display import display\n",
    "from loguru import logger\n",
    "\n",
    "# from solhycool_visualizations import save_figure\n",
    "# from solhycool_visualizations.constants import generate_plotly_config\n",
    "\n",
    "from phd_visualizations import save_figure\n",
    "from phd_visualizations.constants import generate_plotly_config\n",
    "\n",
    "# reload\n",
    "%load_ext autoreload\n",
    "\n",
    "# Paths definition\n",
    "src_path = Path(f'{os.getenv(\"HOME\")}/Nextcloud/Juanmi_MED_PSA/WASCOP/Optimización/202312_PID2024')\n",
    "results_path: Path = src_path / 'results'\n",
    "data_path: Path = src_path / 'data'\n",
    "\n",
    "filename_opt_result = '20240108_optimization_results.json'\n",
    "filename_process_data = '20240108_process_timeseries.csv'\n",
    "\n",
    "sample_rate = '60s'\n",
    "\n",
    "initial_datetime = '2024-01-08 10:55'\n",
    "final_datetime = '2024-01-08 14:00'\n",
    "\n",
    "active_idxs = [1, 3, 5, 7]"
   ]
  },
  {
   "cell_type": "markdown",
   "source": [
    "# Pre-processing"
   ],
   "metadata": {
    "collapsed": false
   },
   "id": "eeccf9e03b6c78bd"
  },
  {
   "cell_type": "code",
   "outputs": [
    {
     "name": "stderr",
     "output_type": "stream",
     "text": [
      "\u001B[32m2024-01-10 20:28:31.013\u001B[0m | \u001B[1mINFO    \u001B[0m | \u001B[36m__main__\u001B[0m:\u001B[36m<module>\u001B[0m:\u001B[36m8\u001B[0m - \u001B[1mNumber of evaluations prior to selection: 11\u001B[0m\n",
      "\u001B[32m2024-01-10 20:28:31.502\u001B[0m | \u001B[1mINFO    \u001B[0m | \u001B[36m__main__\u001B[0m:\u001B[36m<module>\u001B[0m:\u001B[36m30\u001B[0m - \u001B[1mNumber of evaluations after selection: 4\u001B[0m\n"
     ]
    }
   ],
   "source": [
    "# Load system information and data\n",
    "with open(data_path / 'config.json') as f:\n",
    "    config = json.load(f)\n",
    "    \n",
    "with open(results_path / filename_opt_result) as f:\n",
    "    opt_results = json.load(f)\n",
    "\n",
    "logger.info(f'Number of evaluations prior to selection: {len(opt_results)}')\n",
    "\n",
    "# Filter out the results that are not active\n",
    "# Convert the ordered dictionary to a list of key-value pairs\n",
    "items_to_delete = list(opt_results.items())\n",
    "# Indexes not in active_idxs and [0...len(opt_results)]\n",
    "opt_results_list = [i for i in range(len(opt_results)) if i not in active_idxs]\n",
    "# Iterate over the indexes in reverse order and delete the corresponding items\n",
    "for index in sorted(opt_results_list, reverse=True):\n",
    "    del items_to_delete[index]\n",
    "# Create a new ordered dictionary with the remaining items\n",
    "opt_results = OrderedDict(items_to_delete)\n",
    "\n",
    "with open(src_path / \"visualizations\" / \"plot_config.hjson\") as f:\n",
    "    plt_config = hjson.load(f)\n",
    "    \n",
    "# Read data from csv, the index column is the one named \"time\", which is not the first one\n",
    "df = pd.read_csv(results_path / filename_process_data, parse_dates=True, index_col='time')\n",
    "\n",
    "# Set UTC timezone\n",
    "df = df.tz_localize('UTC')\n",
    "\n",
    "logger.info(f'Number of evaluations after selection: {len(opt_results)}')"
   ],
   "metadata": {
    "collapsed": false,
    "ExecuteTime": {
     "end_time": "2024-01-10T19:28:31.506938811Z",
     "start_time": "2024-01-10T19:28:30.958544012Z"
    }
   },
   "id": "e6ce7b6b8d78dfa6",
   "execution_count": 45
  },
  {
   "cell_type": "code",
   "outputs": [],
   "source": [
    "# Sample every 60 seconds to reduce the size of the dataframe\n",
    "df = df.resample(sample_rate).mean()"
   ],
   "metadata": {
    "collapsed": false,
    "ExecuteTime": {
     "end_time": "2024-01-10T19:28:31.580500498Z",
     "start_time": "2024-01-10T19:28:31.511155922Z"
    }
   },
   "id": "68a9c292c116fede",
   "execution_count": 46
  },
  {
   "cell_type": "code",
   "execution_count": 47,
   "outputs": [
    {
     "name": "stderr",
     "output_type": "stream",
     "text": [
      "\u001B[32m2024-01-10 20:28:31.617\u001B[0m | \u001B[33m\u001B[1mWARNING \u001B[0m | \u001B[36m__main__\u001B[0m:\u001B[36m<module>\u001B[0m:\u001B[36m16\u001B[0m - \u001B[33m\u001B[1mManually change valued of Pth for case study CS_20240108_13H30M_Ta14_HR39_Tv45_Pth195 to 160.01 kW\u001B[0m\n"
     ]
    }
   ],
   "source": [
    "# Add missing variables, this should be done in the optimization code\n",
    "# opt_results[ list(opt_results.keys())[0] ]['selected_solution_idx'] = 3\n",
    "\n",
    "from iapws import IAPWS97\n",
    "\n",
    "# TODO: Add Pth\n",
    "\n",
    "# for idx, row in df.iterrows():\n",
    "#     cp = IAPWS97(P=2, T=row.mean() + 273.15).cp\n",
    "df['Pth'] = 4.178 * df['q_c']/3.6 * (df['Tc_out'] - df['Tc_in'])\n",
    "\n",
    "# Cambiar valor de Pth para optimziatión de las 13:30\n",
    "cs_id = 'CS_20240108_13H30M_Ta14_HR39_Tv45_Pth195'\n",
    "opt_results[cs_id]['cooling_requirements']['Pth'] = df.loc['2024-01-08 13:25':'2024-01-08 13:30']['Pth'].mean()\n",
    "\n",
    "logger.warning(f\"Manually change valued of Pth for case study CS_20240108_13H30M_Ta14_HR39_Tv45_Pth195 to {opt_results[cs_id]['cooling_requirements']['Pth']:.2f} kW\")"
   ],
   "metadata": {
    "collapsed": false,
    "ExecuteTime": {
     "end_time": "2024-01-10T19:28:31.641578605Z",
     "start_time": "2024-01-10T19:28:31.578826008Z"
    }
   },
   "id": "c018a6dd68cf3422"
  },
  {
   "cell_type": "code",
   "execution_count": 48,
   "outputs": [],
   "source": [
    "# From each dictionary in opt_results, append a row to the dataframe with:\n",
    "# time, computation_time, and the values of solutions[selected_solution_idx+1]\n",
    "\n",
    "temp_data = []\n",
    "\n",
    "for i, opt_result in enumerate(opt_results.values()):\n",
    "    solution_obj = opt_result['solutions'][opt_result['selected_solution_idx'] - 1] # MATLAB index starts at 1\n",
    "    solution_obj['time'] = opt_result['time']\n",
    "    solution_obj['computation_time'] = opt_result['computation_time']\n",
    "    \n",
    "    temp_data.append(solution_obj)\n",
    "    \n",
    "temp_df = pd.DataFrame(temp_data)\n",
    "\n",
    "\n",
    "# First convert the time field to datetime\n",
    "# temp_df = pd.DataFrame(opt_results)\n",
    "temp_df['time'] = pd.to_datetime(temp_df['time'])\n",
    "temp_df.set_index('time', inplace=True)\n",
    "# temp_df = temp_df.tz_localize('UTC')\n",
    "\n",
    "continuous_time_index = pd.date_range(start=temp_df.index.min(), end=df.index.max(), freq='1S')\n",
    "df_opt = temp_df.reindex(continuous_time_index)\n",
    "df_opt.ffill(inplace=True)\n",
    "df_opt = df_opt.resample(sample_rate).mean()"
   ],
   "metadata": {
    "collapsed": false,
    "ExecuteTime": {
     "end_time": "2024-01-10T19:28:31.781430881Z",
     "start_time": "2024-01-10T19:28:31.629863591Z"
    }
   },
   "id": "577e9c110f0ca125"
  },
  {
   "cell_type": "code",
   "execution_count": 49,
   "outputs": [],
   "source": [
    "# Combine the optimization results with the timeseries data\n",
    "# From optimization result, build a dataframe with the same index as df, by concatenating the values using the time field\n",
    "\n",
    "# Add suffix to colums and join with df\n",
    "df_opt = df_opt.add_suffix('_opt')\n",
    "\n",
    "df = df.join(df_opt, how='outer')\n",
    "\n",
    "# Return to original index to be used later in the plot\n",
    "df_opt = temp_df"
   ],
   "metadata": {
    "collapsed": false,
    "ExecuteTime": {
     "end_time": "2024-01-10T19:28:31.841464165Z",
     "start_time": "2024-01-10T19:28:31.696536234Z"
    }
   },
   "id": "185de370f5b92ff8"
  },
  {
   "cell_type": "code",
   "outputs": [],
   "source": [
    "# Filter out unreasonable consumption values\n",
    "\n",
    "df['Ce_opt'].where(df['Ce_opt'] < 100, np.nan, inplace=True)\n",
    "df['Cw_opt'].where(df['Cw_opt'] < 1000, np.nan, inplace=True)\n",
    "df_opt['Ce'].where(df_opt['Ce'] < 100, np.nan, inplace=True)\n",
    "df_opt['Cw'].where(df_opt['Cw'] < 1000, np.nan, inplace=True)\n",
    "\n",
    "# Calculate active states for DC and WCT, this should be read from the timeseries data\n",
    "df['dc_active'] = df['w_dc'] > 11\n",
    "df['wct_active'] = df['w_wct'] > 21"
   ],
   "metadata": {
    "collapsed": false,
    "ExecuteTime": {
     "end_time": "2024-01-10T19:28:31.913206202Z",
     "start_time": "2024-01-10T19:28:31.764488838Z"
    }
   },
   "id": "e769c5db0f9cd129",
   "execution_count": 50
  },
  {
   "cell_type": "code",
   "outputs": [],
   "source": [
    "# Calculate additional variables\n",
    "from solhycool_visualizations.calculations import power_consumption\n",
    "\n",
    "# df[\"C_e\"] = consumption_fit(df[\"pump flow or freq\"]) ...\n",
    "# df[\"C\"] = df[\"C_e\"] * lambda_e + df[\"C_w\"] * lambda_w\n",
    "\n",
    "df[\"Ce_dc\"] = power_consumption(df[\"w_dc\"].to_numpy(), actuator='fan_dc')\n",
    "df[\"Ce_wct\"] = power_consumption(df[\"w_wct\"].to_numpy(), actuator='fan_wct')\n",
    "df[\"Ce_c\"] = power_consumption(df[\"q_c\"].to_numpy(), actuator='pump_c')\n",
    "\n",
    "df[\"Ce\"] = df[\"Ce_dc\"] + df[\"Ce_wct\"] + df[\"Ce_c\"] \n",
    "df[\"Cw\"] = df[\"Cw\"] * 60"
   ],
   "metadata": {
    "collapsed": false,
    "ExecuteTime": {
     "end_time": "2024-01-10T19:28:31.974149978Z",
     "start_time": "2024-01-10T19:28:31.831641187Z"
    }
   },
   "id": "e6fc7b4303850e60",
   "execution_count": 51
  },
  {
   "cell_type": "code",
   "outputs": [
    {
     "name": "stderr",
     "output_type": "stream",
     "text": [
      "\u001B[32m2024-01-10 20:28:31.969\u001B[0m | \u001B[1mINFO    \u001B[0m | \u001B[36m__main__\u001B[0m:\u001B[36m<module>\u001B[0m:\u001B[36m7\u001B[0m - \u001B[1mTrimmed dataframe from 2024-01-08 10:55:00+00:00 to 2024-01-08 14:00:00+00:00\u001B[0m\n"
     ]
    }
   ],
   "source": [
    "# Cut the dataframe to the desired time range\n",
    "\n",
    "# df = df[:-19*60]\n",
    "# Remove until 10:30\n",
    "\n",
    "df = df[initial_datetime:final_datetime]\n",
    "logger.info(f'Trimmed dataframe from {df.index[0]} to {df.index[-1]}')"
   ],
   "metadata": {
    "collapsed": false,
    "ExecuteTime": {
     "end_time": "2024-01-10T19:28:32.079354812Z",
     "start_time": "2024-01-10T19:28:31.906891931Z"
    }
   },
   "id": "107e31f36993e8e1",
   "execution_count": 52
  },
  {
   "cell_type": "markdown",
   "source": [
    "# Visualizations"
   ],
   "metadata": {
    "collapsed": false
   },
   "id": "8f698323d3d2b901"
  },
  {
   "cell_type": "markdown",
   "source": [
    "## Frente de pareto\n",
    "Frentes de pareto acumulados hasta ahora para los distintos casos de estudio, punto seleccionado se muestra resaltado"
   ],
   "metadata": {
    "collapsed": false
   },
   "id": "ee00600ea001f1b9"
  },
  {
   "cell_type": "code",
   "outputs": [
    {
     "data": {
      "application/vnd.plotly.v1+json": {
       "data": [
        {
         "customdata": [
          [
           22.40653310122608,
           11.786297355300196,
           8.977240603970072,
           34.22613301647057,
           32.1190632942469
          ],
          [
           21.584705015839575,
           14.65821313772683,
           11.453476353892098,
           35.61795587657205,
           31.978145627635257
          ],
          [
           20.642058061461817,
           12.152693468813684,
           10.527259359791499,
           35.200944904588795,
           32.26878027704918
          ],
          [
           18.483388390570088,
           9.993076906000537,
           8.8262563199423,
           34.73607502256009,
           31.896521030220725
          ],
          [
           18.05486236350952,
           10.06554538685956,
           9.223106809298304,
           35.1013796070852,
           31.971362580847362
          ],
          [
           18.206847512367844,
           10.532676111040928,
           9.549151966827544,
           35.384263949170794,
           31.969526563536615
          ],
          [
           17.92853363182849,
           10.22470474357181,
           9.319923653897616,
           35.37841047679094,
           31.99159700627803
          ],
          [
           17.671913495281995,
           10.27132165291351,
           9.321347843208443,
           35.58573695973864,
           32.01079821690918
          ],
          [
           17.32894317998386,
           9.827998356273376,
           8.86054511035205,
           35.539727510374,
           31.915926706689973
          ],
          [
           17.165440878899776,
           9.592024407188935,
           8.723634443884517,
           35.53886199052024,
           31.920315006449904
          ],
          [
           17.11274610894421,
           9.87017146925668,
           8.835297608034328,
           35.77849419085335,
           31.81014302819289
          ],
          [
           16.9153568645385,
           9.978990951390946,
           9.11706901465518,
           35.98094759598728,
           31.934102396540922
          ],
          [
           16.836771580981623,
           10.06447068816313,
           9.274272121286511,
           36.146302509383986,
           31.886242949126387
          ],
          [
           16.742511328162557,
           9.50703564950531,
           8.40096605339221,
           35.95952601838292,
           31.847625668669185
          ],
          [
           16.457063465169153,
           8.846936304072564,
           8.029864480607415,
           35.67520076275112,
           31.837468055937183
          ],
          [
           16.409665714367762,
           8.41679671657898,
           7.555022303829266,
           35.66421065927777,
           31.852867487021953
          ],
          [
           16.123302998615745,
           8.201048825349536,
           7.294829670798605,
           35.65883836892172,
           31.84212149196105
          ],
          [
           15.907222067622419,
           7.9790288750744285,
           7.231871932438072,
           35.786966363305446,
           31.868371840626896
          ],
          [
           15.745677962250362,
           8.15046019540776,
           7.7485709080335425,
           36.061145464588165,
           31.85877035376942
          ],
          [
           15.495667579005922,
           8.511549446088052,
           7.8154426254687275,
           37.545367163976486,
           32.260990890753234
          ],
          [
           15.461368079157792,
           7.759372003741516,
           7.048556681801024,
           37.15043165131238,
           32.044999979591715
          ],
          [
           15.42693262937823,
           7.38358480817655,
           7.112005875423563,
           37.40112843306997,
           32.469191297554
          ],
          [
           15.411804457061603,
           6.822649738564393,
           6.428055046691994,
           37.458910441339796,
           32.36282424243944
          ],
          [
           15.18471484026608,
           6.94939840648749,
           6.6886140572783574,
           37.54085554335159,
           32.16251427530907
          ],
          [
           15.115532090766184,
           6.556272853388215,
           6.53677560402421,
           37.881567991208556,
           32.182206744648504
          ]
         ],
         "hovertemplate": "\n<b>Decision variables</b><br>\n    - q<sub>c</sub>: %{customdata[0]:.2f} m³/h<br>\n    - q<sub>dc</sub>: %{customdata[1]:.2f} m³/h<br>\n    - q<sub>vm</sub>: %{customdata[2]:.1f} m³/h<br>\n    - T<sub>dc,out</sub>: %{customdata[3]:.1f} ºC<br>\n    - T<sub>wct,out</sub>: %{customdata[4]:.1f} ºC<br>\nC<sub>e</sub>: %{y:.2f} kW<sub>e</sub>, C<sub>w</sub>: %{x:.2f} l/h<extra></extra>\n",
         "line": {
          "color": "#636EFA",
          "dash": "dot",
          "width": 0.5
         },
         "marker": {
          "color": "#636EFA",
          "opacity": 0.7,
          "size": 10,
          "symbol": "circle"
         },
         "mode": "lines+markers",
         "name": "11:12 | T<sub>amb</sub>=12.2 ºC, ɸ=48 %, T<sub>v</sub>=45.3 ºC, P<sub>th</sub>=165 kW<sub>th</sub>",
         "x": [
          122.20723568106493,
          125.01830732907388,
          126.06843885236563,
          126.71889025053417,
          128.55656323993537,
          129.91581269167722,
          130.23689329061253,
          131.0618533892605,
          132.29905746090026,
          133.10044678994552,
          134.71396381621753,
          134.7535682374185,
          136.55239626097867,
          136.75840339474155,
          136.7949551710687,
          139.25123336872673,
          139.2782282182819,
          141.21654060641305,
          142.76927856762433,
          152.1983825411465,
          153.59437149895538,
          156.6211518074782,
          160.7792589082844,
          161.08819811446125,
          166.40807804273447
         ],
         "y": [
          4.402797579937106,
          3.936501324384041,
          3.637210329041628,
          2.970999102750161,
          2.8189032423489135,
          2.4957839218881426,
          2.405418816220291,
          2.333797619826724,
          2.227396979321342,
          2.1784565344268345,
          2.174224338189378,
          2.12444044720105,
          2.109350098129176,
          2.0727942725701727,
          1.981316729045104,
          1.9662079356161843,
          1.888376949659101,
          1.8365047096070142,
          1.8070553871341337,
          1.7909529878437285,
          1.7692165447756385,
          1.7663498673650757,
          1.7631092864293223,
          1.7126687711834303,
          1.7069117595573906
         ],
         "type": "scatter"
        },
        {
         "marker": {
          "color": "#636EFA",
          "line": {
           "width": 3
          },
          "opacity": 0.7,
          "size": 20,
          "symbol": 100
         },
         "mode": "markers",
         "name": "11:12",
         "showlegend": false,
         "x": [
          142.76927856762433
         ],
         "y": [
          1.8070553871341337
         ],
         "type": "scatter"
        },
        {
         "customdata": [
          [
           19.601707578399186,
           11.830602878908799,
           9.118156599520761,
           34.01710081410965,
           31.44487248772853
          ],
          [
           17.26400089975842,
           9.434746782224034,
           8.874600996151594,
           34.026696526595835,
           31.87535204786731
          ],
          [
           17.473578460983237,
           11.572852228655531,
           10.20559040523385,
           36.001466775729426,
           31.826065543885296
          ],
          [
           18.364130620714363,
           11.35714127522012,
           9.760807683124945,
           35.68267830581337,
           31.61014988202894
          ],
          [
           17.33001938374051,
           7.673084045478626,
           5.620042255033028,
           37.40067261512745,
           31.54595848818654
          ]
         ],
         "hovertemplate": "\n<b>Decision variables</b><br>\n    - q<sub>c</sub>: %{customdata[0]:.2f} m³/h<br>\n    - q<sub>dc</sub>: %{customdata[1]:.2f} m³/h<br>\n    - q<sub>vm</sub>: %{customdata[2]:.1f} m³/h<br>\n    - T<sub>dc,out</sub>: %{customdata[3]:.1f} ºC<br>\n    - T<sub>wct,out</sub>: %{customdata[4]:.1f} ºC<br>\nC<sub>e</sub>: %{y:.2f} kW<sub>e</sub>, C<sub>w</sub>: %{x:.2f} l/h<extra></extra>\n",
         "line": {
          "color": "#EF553B",
          "dash": "dot",
          "width": 0.5
         },
         "marker": {
          "color": "#EF553B",
          "opacity": 0.7,
          "size": 10,
          "symbol": "square"
         },
         "mode": "lines+markers",
         "name": "11:45 | T<sub>amb</sub>=12.6 ºC, ɸ=47 %, T<sub>v</sub>=44.7 ºC, P<sub>th</sub>=190 kW<sub>th</sub>",
         "x": [
          124.95710519307957,
          130.4828108937204,
          139.20665249422524,
          144.4198227854564,
          181.95734587680283
         ],
         "y": [
          3.4978291444600473,
          2.9652000878799445,
          2.7395520483403004,
          2.57107591084658,
          2.3026849933469387
         ],
         "type": "scatter"
        },
        {
         "marker": {
          "color": "#EF553B",
          "line": {
           "width": 3
          },
          "opacity": 0.7,
          "size": 20,
          "symbol": 101
         },
         "mode": "markers",
         "name": "11:45",
         "showlegend": false,
         "x": [
          144.4198227854564
         ],
         "y": [
          2.57107591084658
         ],
         "type": "scatter"
        },
        {
         "customdata": [
          [
           22.579306531979263,
           20.16523062784757,
           18.618552164635624,
           35.82530023526126,
           32.20461808861202
          ],
          [
           20.896004897870053,
           17.53563401587261,
           15.219008765760698,
           35.71337592829069,
           31.673356660508507
          ],
          [
           19.2884763980027,
           12.090108066088456,
           11.56555615991122,
           34.872608232409476,
           31.93426605396812
          ],
          [
           17.400835039017906,
           8.542998516683308,
           8.369363975552183,
           33.47590066304342,
           31.77139937447039
          ],
          [
           17.608615005247756,
           11.662287714107526,
           10.284459634200266,
           35.853505807621616,
           31.82606656000413
          ],
          [
           17.54375282578476,
           11.619329116941532,
           10.246576332971031,
           35.91175135213583,
           31.826066556808843
          ],
          [
           17.473578460983237,
           11.572852228655531,
           10.20559040523385,
           36.00146673949873,
           31.826066605076434
          ],
          [
           17.473578460983237,
           11.572852228655531,
           10.20559040523385,
           36.00146673949873,
           31.826066605076434
          ],
          [
           17.473578460983237,
           11.572852228655531,
           10.20559040523385,
           36.00146673949873,
           31.826066605076434
          ],
          [
           17.415738575678827,
           10.904567451552412,
           10.102388425653889,
           35.73310902606937,
           31.789053272586635
          ],
          [
           17.347769575075752,
           11.424837223753554,
           10.068085669358677,
           36.29048956167509,
           31.905522818328343
          ],
          [
           17.29375282578476,
           10.37289311723012,
           9.14739913550407,
           35.911751356683375,
           31.951066584543327
          ],
          [
           16.3657391641264,
           10.619331199945233,
           9.501983469048557,
           37.45640139112036,
           32.17909728888074
          ],
          [
           15.772361318627729,
           6.623271706529378,
           6.112697073796471,
           37.57596627892556,
           31.91492449416122
          ],
          [
           15.456645142418457,
           7.306770265595954,
           6.732512249570324,
           38.33248501485427,
           31.92587472635781
          ]
         ],
         "hovertemplate": "\n<b>Decision variables</b><br>\n    - q<sub>c</sub>: %{customdata[0]:.2f} m³/h<br>\n    - q<sub>dc</sub>: %{customdata[1]:.2f} m³/h<br>\n    - q<sub>vm</sub>: %{customdata[2]:.1f} m³/h<br>\n    - T<sub>dc,out</sub>: %{customdata[3]:.1f} ºC<br>\n    - T<sub>wct,out</sub>: %{customdata[4]:.1f} ºC<br>\nC<sub>e</sub>: %{y:.2f} kW<sub>e</sub>, C<sub>w</sub>: %{x:.2f} l/h<extra></extra>\n",
         "line": {
          "color": "#00CC96",
          "dash": "dot",
          "width": 0.5
         },
         "marker": {
          "color": "#00CC96",
          "opacity": 0.7,
          "size": 10,
          "symbol": "diamond"
         },
         "mode": "lines+markers",
         "name": "12:17 | T<sub>amb</sub>=13.2 ºC, ɸ=46 %, T<sub>v</sub>=44.7 ºC, P<sub>th</sub>=174 kW<sub>th</sub>",
         "x": [
          116.24845604348604,
          119.41950515043546,
          124.86569761317725,
          125.7544894600281,
          131.3261749567488,
          132.03992271172797,
          133.2045739724772,
          133.2045739724772,
          133.2045739724772,
          135.179789258636,
          136.72566522335381,
          137.96413966819478,
          149.26197445709766,
          173.7864192021135,
          175.3828680536241
         ],
         "y": [
          4.254493910643182,
          3.657368776687984,
          3.233710230183384,
          2.9646744038917068,
          2.3269828834021005,
          2.3093217914918798,
          2.291360286009377,
          2.291360286009377,
          2.291360286009377,
          2.2647706981765143,
          2.26307293209159,
          2.2301310247957145,
          2.0190945617609297,
          1.8630443375217995,
          1.8089243779203656
         ],
         "type": "scatter"
        },
        {
         "marker": {
          "color": "#00CC96",
          "line": {
           "width": 3
          },
          "opacity": 0.7,
          "size": 20,
          "symbol": 102
         },
         "mode": "markers",
         "name": "12:17",
         "showlegend": false,
         "x": [
          149.26197445709766
         ],
         "y": [
          2.0190945617609297
         ],
         "type": "scatter"
        },
        {
         "customdata": [
          [
           21.611791124983657,
           19.26435289680296,
           17.579992164561265,
           35.79027799050033,
           31.975979761498515
          ],
          [
           18.643366434972844,
           15.278481026641305,
           14.362501300192356,
           35.75869659109219,
           31.7516703087286
          ],
          [
           18.34461933948128,
           12.545422412496775,
           9.862606226478203,
           35.24914145468643,
           31.45971105911027
          ],
          [
           17.618384787177792,
           12.515652753159403,
           11.007934569375763,
           37.91909332851332,
           31.76363934716073
          ]
         ],
         "hovertemplate": "\n<b>Decision variables</b><br>\n    - q<sub>c</sub>: %{customdata[0]:.2f} m³/h<br>\n    - q<sub>dc</sub>: %{customdata[1]:.2f} m³/h<br>\n    - q<sub>vm</sub>: %{customdata[2]:.1f} m³/h<br>\n    - T<sub>dc,out</sub>: %{customdata[3]:.1f} ºC<br>\n    - T<sub>wct,out</sub>: %{customdata[4]:.1f} ºC<br>\nC<sub>e</sub>: %{y:.2f} kW<sub>e</sub>, C<sub>w</sub>: %{x:.2f} l/h<extra></extra>\n",
         "line": {
          "color": "#AB63FA",
          "dash": "dot",
          "width": 0.5
         },
         "marker": {
          "color": "#AB63FA",
          "opacity": 0.7,
          "size": 10,
          "symbol": "cross"
         },
         "mode": "lines+markers",
         "name": "13:30 | T<sub>amb</sub>=14.1 ºC, ɸ=39 %, T<sub>v</sub>=44.8 ºC, P<sub>th</sub>=160 kW<sub>th</sub>",
         "x": [
          119.95279485025868,
          123.90785523015435,
          132.09390510469888,
          168.50002544884325
         ],
         "y": [
          4.021878896636664,
          2.66457645376105,
          2.536852286035813,
          2.411172449589126
         ],
         "type": "scatter"
        },
        {
         "marker": {
          "color": "#AB63FA",
          "line": {
           "width": 3
          },
          "opacity": 0.7,
          "size": 20,
          "symbol": 103
         },
         "mode": "markers",
         "name": "13:30",
         "showlegend": false,
         "x": [
          123.90785523015435
         ],
         "y": [
          2.66457645376105
         ],
         "type": "scatter"
        }
       ],
       "layout": {
        "template": {
         "data": {
          "histogram2dcontour": [
           {
            "type": "histogram2dcontour",
            "colorbar": {
             "outlinewidth": 0,
             "ticks": ""
            },
            "colorscale": [
             [
              0.0,
              "#0d0887"
             ],
             [
              0.1111111111111111,
              "#46039f"
             ],
             [
              0.2222222222222222,
              "#7201a8"
             ],
             [
              0.3333333333333333,
              "#9c179e"
             ],
             [
              0.4444444444444444,
              "#bd3786"
             ],
             [
              0.5555555555555556,
              "#d8576b"
             ],
             [
              0.6666666666666666,
              "#ed7953"
             ],
             [
              0.7777777777777778,
              "#fb9f3a"
             ],
             [
              0.8888888888888888,
              "#fdca26"
             ],
             [
              1.0,
              "#f0f921"
             ]
            ]
           }
          ],
          "choropleth": [
           {
            "type": "choropleth",
            "colorbar": {
             "outlinewidth": 0,
             "ticks": ""
            }
           }
          ],
          "histogram2d": [
           {
            "type": "histogram2d",
            "colorbar": {
             "outlinewidth": 0,
             "ticks": ""
            },
            "colorscale": [
             [
              0.0,
              "#0d0887"
             ],
             [
              0.1111111111111111,
              "#46039f"
             ],
             [
              0.2222222222222222,
              "#7201a8"
             ],
             [
              0.3333333333333333,
              "#9c179e"
             ],
             [
              0.4444444444444444,
              "#bd3786"
             ],
             [
              0.5555555555555556,
              "#d8576b"
             ],
             [
              0.6666666666666666,
              "#ed7953"
             ],
             [
              0.7777777777777778,
              "#fb9f3a"
             ],
             [
              0.8888888888888888,
              "#fdca26"
             ],
             [
              1.0,
              "#f0f921"
             ]
            ]
           }
          ],
          "heatmap": [
           {
            "type": "heatmap",
            "colorbar": {
             "outlinewidth": 0,
             "ticks": ""
            },
            "colorscale": [
             [
              0.0,
              "#0d0887"
             ],
             [
              0.1111111111111111,
              "#46039f"
             ],
             [
              0.2222222222222222,
              "#7201a8"
             ],
             [
              0.3333333333333333,
              "#9c179e"
             ],
             [
              0.4444444444444444,
              "#bd3786"
             ],
             [
              0.5555555555555556,
              "#d8576b"
             ],
             [
              0.6666666666666666,
              "#ed7953"
             ],
             [
              0.7777777777777778,
              "#fb9f3a"
             ],
             [
              0.8888888888888888,
              "#fdca26"
             ],
             [
              1.0,
              "#f0f921"
             ]
            ]
           }
          ],
          "heatmapgl": [
           {
            "type": "heatmapgl",
            "colorbar": {
             "outlinewidth": 0,
             "ticks": ""
            },
            "colorscale": [
             [
              0.0,
              "#0d0887"
             ],
             [
              0.1111111111111111,
              "#46039f"
             ],
             [
              0.2222222222222222,
              "#7201a8"
             ],
             [
              0.3333333333333333,
              "#9c179e"
             ],
             [
              0.4444444444444444,
              "#bd3786"
             ],
             [
              0.5555555555555556,
              "#d8576b"
             ],
             [
              0.6666666666666666,
              "#ed7953"
             ],
             [
              0.7777777777777778,
              "#fb9f3a"
             ],
             [
              0.8888888888888888,
              "#fdca26"
             ],
             [
              1.0,
              "#f0f921"
             ]
            ]
           }
          ],
          "contourcarpet": [
           {
            "type": "contourcarpet",
            "colorbar": {
             "outlinewidth": 0,
             "ticks": ""
            }
           }
          ],
          "contour": [
           {
            "type": "contour",
            "colorbar": {
             "outlinewidth": 0,
             "ticks": ""
            },
            "colorscale": [
             [
              0.0,
              "#0d0887"
             ],
             [
              0.1111111111111111,
              "#46039f"
             ],
             [
              0.2222222222222222,
              "#7201a8"
             ],
             [
              0.3333333333333333,
              "#9c179e"
             ],
             [
              0.4444444444444444,
              "#bd3786"
             ],
             [
              0.5555555555555556,
              "#d8576b"
             ],
             [
              0.6666666666666666,
              "#ed7953"
             ],
             [
              0.7777777777777778,
              "#fb9f3a"
             ],
             [
              0.8888888888888888,
              "#fdca26"
             ],
             [
              1.0,
              "#f0f921"
             ]
            ]
           }
          ],
          "surface": [
           {
            "type": "surface",
            "colorbar": {
             "outlinewidth": 0,
             "ticks": ""
            },
            "colorscale": [
             [
              0.0,
              "#0d0887"
             ],
             [
              0.1111111111111111,
              "#46039f"
             ],
             [
              0.2222222222222222,
              "#7201a8"
             ],
             [
              0.3333333333333333,
              "#9c179e"
             ],
             [
              0.4444444444444444,
              "#bd3786"
             ],
             [
              0.5555555555555556,
              "#d8576b"
             ],
             [
              0.6666666666666666,
              "#ed7953"
             ],
             [
              0.7777777777777778,
              "#fb9f3a"
             ],
             [
              0.8888888888888888,
              "#fdca26"
             ],
             [
              1.0,
              "#f0f921"
             ]
            ]
           }
          ],
          "mesh3d": [
           {
            "type": "mesh3d",
            "colorbar": {
             "outlinewidth": 0,
             "ticks": ""
            }
           }
          ],
          "scatter": [
           {
            "fillpattern": {
             "fillmode": "overlay",
             "size": 10,
             "solidity": 0.2
            },
            "type": "scatter"
           }
          ],
          "parcoords": [
           {
            "type": "parcoords",
            "line": {
             "colorbar": {
              "outlinewidth": 0,
              "ticks": ""
             }
            }
           }
          ],
          "scatterpolargl": [
           {
            "type": "scatterpolargl",
            "marker": {
             "colorbar": {
              "outlinewidth": 0,
              "ticks": ""
             }
            }
           }
          ],
          "bar": [
           {
            "error_x": {
             "color": "#2a3f5f"
            },
            "error_y": {
             "color": "#2a3f5f"
            },
            "marker": {
             "line": {
              "color": "#E5ECF6",
              "width": 0.5
             },
             "pattern": {
              "fillmode": "overlay",
              "size": 10,
              "solidity": 0.2
             }
            },
            "type": "bar"
           }
          ],
          "scattergeo": [
           {
            "type": "scattergeo",
            "marker": {
             "colorbar": {
              "outlinewidth": 0,
              "ticks": ""
             }
            }
           }
          ],
          "scatterpolar": [
           {
            "type": "scatterpolar",
            "marker": {
             "colorbar": {
              "outlinewidth": 0,
              "ticks": ""
             }
            }
           }
          ],
          "histogram": [
           {
            "marker": {
             "pattern": {
              "fillmode": "overlay",
              "size": 10,
              "solidity": 0.2
             }
            },
            "type": "histogram"
           }
          ],
          "scattergl": [
           {
            "type": "scattergl",
            "marker": {
             "colorbar": {
              "outlinewidth": 0,
              "ticks": ""
             }
            }
           }
          ],
          "scatter3d": [
           {
            "type": "scatter3d",
            "line": {
             "colorbar": {
              "outlinewidth": 0,
              "ticks": ""
             }
            },
            "marker": {
             "colorbar": {
              "outlinewidth": 0,
              "ticks": ""
             }
            }
           }
          ],
          "scattermapbox": [
           {
            "type": "scattermapbox",
            "marker": {
             "colorbar": {
              "outlinewidth": 0,
              "ticks": ""
             }
            }
           }
          ],
          "scatterternary": [
           {
            "type": "scatterternary",
            "marker": {
             "colorbar": {
              "outlinewidth": 0,
              "ticks": ""
             }
            }
           }
          ],
          "scattercarpet": [
           {
            "type": "scattercarpet",
            "marker": {
             "colorbar": {
              "outlinewidth": 0,
              "ticks": ""
             }
            }
           }
          ],
          "carpet": [
           {
            "aaxis": {
             "endlinecolor": "#2a3f5f",
             "gridcolor": "white",
             "linecolor": "white",
             "minorgridcolor": "white",
             "startlinecolor": "#2a3f5f"
            },
            "baxis": {
             "endlinecolor": "#2a3f5f",
             "gridcolor": "white",
             "linecolor": "white",
             "minorgridcolor": "white",
             "startlinecolor": "#2a3f5f"
            },
            "type": "carpet"
           }
          ],
          "table": [
           {
            "cells": {
             "fill": {
              "color": "#EBF0F8"
             },
             "line": {
              "color": "white"
             }
            },
            "header": {
             "fill": {
              "color": "#C8D4E3"
             },
             "line": {
              "color": "white"
             }
            },
            "type": "table"
           }
          ],
          "barpolar": [
           {
            "marker": {
             "line": {
              "color": "#E5ECF6",
              "width": 0.5
             },
             "pattern": {
              "fillmode": "overlay",
              "size": 10,
              "solidity": 0.2
             }
            },
            "type": "barpolar"
           }
          ],
          "pie": [
           {
            "automargin": true,
            "type": "pie"
           }
          ]
         },
         "layout": {
          "autotypenumbers": "strict",
          "colorway": [
           "#636efa",
           "#EF553B",
           "#00cc96",
           "#ab63fa",
           "#FFA15A",
           "#19d3f3",
           "#FF6692",
           "#B6E880",
           "#FF97FF",
           "#FECB52"
          ],
          "font": {
           "color": "#2a3f5f"
          },
          "hovermode": "closest",
          "hoverlabel": {
           "align": "left"
          },
          "paper_bgcolor": "white",
          "plot_bgcolor": "#E5ECF6",
          "polar": {
           "bgcolor": "#E5ECF6",
           "angularaxis": {
            "gridcolor": "white",
            "linecolor": "white",
            "ticks": ""
           },
           "radialaxis": {
            "gridcolor": "white",
            "linecolor": "white",
            "ticks": ""
           }
          },
          "ternary": {
           "bgcolor": "#E5ECF6",
           "aaxis": {
            "gridcolor": "white",
            "linecolor": "white",
            "ticks": ""
           },
           "baxis": {
            "gridcolor": "white",
            "linecolor": "white",
            "ticks": ""
           },
           "caxis": {
            "gridcolor": "white",
            "linecolor": "white",
            "ticks": ""
           }
          },
          "coloraxis": {
           "colorbar": {
            "outlinewidth": 0,
            "ticks": ""
           }
          },
          "colorscale": {
           "sequential": [
            [
             0.0,
             "#0d0887"
            ],
            [
             0.1111111111111111,
             "#46039f"
            ],
            [
             0.2222222222222222,
             "#7201a8"
            ],
            [
             0.3333333333333333,
             "#9c179e"
            ],
            [
             0.4444444444444444,
             "#bd3786"
            ],
            [
             0.5555555555555556,
             "#d8576b"
            ],
            [
             0.6666666666666666,
             "#ed7953"
            ],
            [
             0.7777777777777778,
             "#fb9f3a"
            ],
            [
             0.8888888888888888,
             "#fdca26"
            ],
            [
             1.0,
             "#f0f921"
            ]
           ],
           "sequentialminus": [
            [
             0.0,
             "#0d0887"
            ],
            [
             0.1111111111111111,
             "#46039f"
            ],
            [
             0.2222222222222222,
             "#7201a8"
            ],
            [
             0.3333333333333333,
             "#9c179e"
            ],
            [
             0.4444444444444444,
             "#bd3786"
            ],
            [
             0.5555555555555556,
             "#d8576b"
            ],
            [
             0.6666666666666666,
             "#ed7953"
            ],
            [
             0.7777777777777778,
             "#fb9f3a"
            ],
            [
             0.8888888888888888,
             "#fdca26"
            ],
            [
             1.0,
             "#f0f921"
            ]
           ],
           "diverging": [
            [
             0,
             "#8e0152"
            ],
            [
             0.1,
             "#c51b7d"
            ],
            [
             0.2,
             "#de77ae"
            ],
            [
             0.3,
             "#f1b6da"
            ],
            [
             0.4,
             "#fde0ef"
            ],
            [
             0.5,
             "#f7f7f7"
            ],
            [
             0.6,
             "#e6f5d0"
            ],
            [
             0.7,
             "#b8e186"
            ],
            [
             0.8,
             "#7fbc41"
            ],
            [
             0.9,
             "#4d9221"
            ],
            [
             1,
             "#276419"
            ]
           ]
          },
          "xaxis": {
           "gridcolor": "white",
           "linecolor": "white",
           "ticks": "",
           "title": {
            "standoff": 15
           },
           "zerolinecolor": "white",
           "automargin": true,
           "zerolinewidth": 2
          },
          "yaxis": {
           "gridcolor": "white",
           "linecolor": "white",
           "ticks": "",
           "title": {
            "standoff": 15
           },
           "zerolinecolor": "white",
           "automargin": true,
           "zerolinewidth": 2
          },
          "scene": {
           "xaxis": {
            "backgroundcolor": "#E5ECF6",
            "gridcolor": "white",
            "linecolor": "white",
            "showbackground": true,
            "ticks": "",
            "zerolinecolor": "white",
            "gridwidth": 2
           },
           "yaxis": {
            "backgroundcolor": "#E5ECF6",
            "gridcolor": "white",
            "linecolor": "white",
            "showbackground": true,
            "ticks": "",
            "zerolinecolor": "white",
            "gridwidth": 2
           },
           "zaxis": {
            "backgroundcolor": "#E5ECF6",
            "gridcolor": "white",
            "linecolor": "white",
            "showbackground": true,
            "ticks": "",
            "zerolinecolor": "white",
            "gridwidth": 2
           }
          },
          "shapedefaults": {
           "line": {
            "color": "#2a3f5f"
           }
          },
          "annotationdefaults": {
           "arrowcolor": "#2a3f5f",
           "arrowhead": 0,
           "arrowwidth": 1
          },
          "geo": {
           "bgcolor": "white",
           "landcolor": "#E5ECF6",
           "subunitcolor": "white",
           "showland": true,
           "showlakes": true,
           "lakecolor": "white"
          },
          "title": {
           "x": 0.05
          },
          "mapbox": {
           "style": "light"
          }
         }
        },
        "shapes": [
         {
          "fillcolor": "#FECB52",
          "layer": "below",
          "line": {
           "width": 0
          },
          "opacity": 0.2,
          "type": "rect",
          "x0": -5,
          "x1": 125,
          "xref": "x",
          "y0": 0,
          "y1": 1,
          "yref": "paper"
         },
         {
          "fillcolor": "#FECB52",
          "layer": "below",
          "line": {
           "width": 0
          },
          "opacity": 0.2,
          "type": "rect",
          "x0": -5,
          "x1": 150,
          "xref": "x",
          "y0": 0,
          "y1": 1,
          "yref": "paper"
         }
        ],
        "xaxis": {
         "title": {
          "text": "Water consumption (l/h)"
         },
         "range": [
          50,
          190
         ],
         "showspikes": true
        },
        "yaxis": {
         "title": {
          "text": "Electricity consumption (kW<sub>e</sub>)"
         },
         "range": [
          -0.5,
          5
         ],
         "showspikes": true
        },
        "font": {
         "size": 16
        },
        "newshape": {
         "line": {
          "color": "#00CC96"
         },
         "fillcolor": "#00CC96",
         "opacity": 0.5,
         "layer": "below"
        },
        "legend": {
         "yanchor": "bottom",
         "xanchor": "left",
         "x": 0,
         "y": 0,
         "bgcolor": "rgba(255,255,255,0.5)"
        },
        "margin": {
         "l": 20,
         "r": 20,
         "t": 20,
         "b": 20,
         "pad": 5
        },
        "width": 750,
        "height": 450
       },
       "config": {
        "toImageButtonOptions": {
         "format": "png",
         "filename": "solhycool_plot",
         "height": 450,
         "width": 750,
         "scale": 2
        },
        "modeBarButtonsToAdd": [
         "drawline",
         "drawopenpath",
         "drawclosedpath",
         "drawcircle",
         "drawrect",
         "eraseshape"
        ],
        "plotlyServerURL": "https://plot.ly"
       }
      },
      "text/html": "<div>                            <div id=\"486f226e-6ac8-4394-b887-96ce5bfb9a6d\" class=\"plotly-graph-div\" style=\"height:450px; width:750px;\"></div>            <script type=\"text/javascript\">                require([\"plotly\"], function(Plotly) {                    window.PLOTLYENV=window.PLOTLYENV || {};                                    if (document.getElementById(\"486f226e-6ac8-4394-b887-96ce5bfb9a6d\")) {                    Plotly.newPlot(                        \"486f226e-6ac8-4394-b887-96ce5bfb9a6d\",                        [{\"customdata\":[[22.40653310122608,11.786297355300196,8.977240603970072,34.22613301647057,32.1190632942469],[21.584705015839575,14.65821313772683,11.453476353892098,35.61795587657205,31.978145627635257],[20.642058061461817,12.152693468813684,10.527259359791499,35.200944904588795,32.26878027704918],[18.483388390570088,9.993076906000537,8.8262563199423,34.73607502256009,31.896521030220725],[18.05486236350952,10.06554538685956,9.223106809298304,35.1013796070852,31.971362580847362],[18.206847512367844,10.532676111040928,9.549151966827544,35.384263949170794,31.969526563536615],[17.92853363182849,10.22470474357181,9.319923653897616,35.37841047679094,31.99159700627803],[17.671913495281995,10.27132165291351,9.321347843208443,35.58573695973864,32.01079821690918],[17.32894317998386,9.827998356273376,8.86054511035205,35.539727510374,31.915926706689973],[17.165440878899776,9.592024407188935,8.723634443884517,35.53886199052024,31.920315006449904],[17.11274610894421,9.87017146925668,8.835297608034328,35.77849419085335,31.81014302819289],[16.9153568645385,9.978990951390946,9.11706901465518,35.98094759598728,31.934102396540922],[16.836771580981623,10.06447068816313,9.274272121286511,36.146302509383986,31.886242949126387],[16.742511328162557,9.50703564950531,8.40096605339221,35.95952601838292,31.847625668669185],[16.457063465169153,8.846936304072564,8.029864480607415,35.67520076275112,31.837468055937183],[16.409665714367762,8.41679671657898,7.555022303829266,35.66421065927777,31.852867487021953],[16.123302998615745,8.201048825349536,7.294829670798605,35.65883836892172,31.84212149196105],[15.907222067622419,7.9790288750744285,7.231871932438072,35.786966363305446,31.868371840626896],[15.745677962250362,8.15046019540776,7.7485709080335425,36.061145464588165,31.85877035376942],[15.495667579005922,8.511549446088052,7.8154426254687275,37.545367163976486,32.260990890753234],[15.461368079157792,7.759372003741516,7.048556681801024,37.15043165131238,32.044999979591715],[15.42693262937823,7.38358480817655,7.112005875423563,37.40112843306997,32.469191297554],[15.411804457061603,6.822649738564393,6.428055046691994,37.458910441339796,32.36282424243944],[15.18471484026608,6.94939840648749,6.6886140572783574,37.54085554335159,32.16251427530907],[15.115532090766184,6.556272853388215,6.53677560402421,37.881567991208556,32.182206744648504]],\"hovertemplate\":\"\\n\\u003cb\\u003eDecision variables\\u003c\\u002fb\\u003e\\u003cbr\\u003e\\n    - q\\u003csub\\u003ec\\u003c\\u002fsub\\u003e: %{customdata[0]:.2f} m\\u00b3\\u002fh\\u003cbr\\u003e\\n    - q\\u003csub\\u003edc\\u003c\\u002fsub\\u003e: %{customdata[1]:.2f} m\\u00b3\\u002fh\\u003cbr\\u003e\\n    - q\\u003csub\\u003evm\\u003c\\u002fsub\\u003e: %{customdata[2]:.1f} m\\u00b3\\u002fh\\u003cbr\\u003e\\n    - T\\u003csub\\u003edc,out\\u003c\\u002fsub\\u003e: %{customdata[3]:.1f} \\u00baC\\u003cbr\\u003e\\n    - T\\u003csub\\u003ewct,out\\u003c\\u002fsub\\u003e: %{customdata[4]:.1f} \\u00baC\\u003cbr\\u003e\\nC\\u003csub\\u003ee\\u003c\\u002fsub\\u003e: %{y:.2f} kW\\u003csub\\u003ee\\u003c\\u002fsub\\u003e, C\\u003csub\\u003ew\\u003c\\u002fsub\\u003e: %{x:.2f} l\\u002fh\\u003cextra\\u003e\\u003c\\u002fextra\\u003e\\n\",\"line\":{\"color\":\"#636EFA\",\"dash\":\"dot\",\"width\":0.5},\"marker\":{\"color\":\"#636EFA\",\"opacity\":0.7,\"size\":10,\"symbol\":\"circle\"},\"mode\":\"lines+markers\",\"name\":\"11:12 | T\\u003csub\\u003eamb\\u003c\\u002fsub\\u003e=12.2 \\u00baC, \\u0278=48 %, T\\u003csub\\u003ev\\u003c\\u002fsub\\u003e=45.3 \\u00baC, P\\u003csub\\u003eth\\u003c\\u002fsub\\u003e=165 kW\\u003csub\\u003eth\\u003c\\u002fsub\\u003e\",\"x\":[122.20723568106493,125.01830732907388,126.06843885236563,126.71889025053417,128.55656323993537,129.91581269167722,130.23689329061253,131.0618533892605,132.29905746090026,133.10044678994552,134.71396381621753,134.7535682374185,136.55239626097867,136.75840339474155,136.7949551710687,139.25123336872673,139.2782282182819,141.21654060641305,142.76927856762433,152.1983825411465,153.59437149895538,156.6211518074782,160.7792589082844,161.08819811446125,166.40807804273447],\"y\":[4.402797579937106,3.936501324384041,3.637210329041628,2.970999102750161,2.8189032423489135,2.4957839218881426,2.405418816220291,2.333797619826724,2.227396979321342,2.1784565344268345,2.174224338189378,2.12444044720105,2.109350098129176,2.0727942725701727,1.981316729045104,1.9662079356161843,1.888376949659101,1.8365047096070142,1.8070553871341337,1.7909529878437285,1.7692165447756385,1.7663498673650757,1.7631092864293223,1.7126687711834303,1.7069117595573906],\"type\":\"scatter\"},{\"marker\":{\"color\":\"#636EFA\",\"line\":{\"width\":3},\"opacity\":0.7,\"size\":20,\"symbol\":100},\"mode\":\"markers\",\"name\":\"11:12\",\"showlegend\":false,\"x\":[142.76927856762433],\"y\":[1.8070553871341337],\"type\":\"scatter\"},{\"customdata\":[[19.601707578399186,11.830602878908799,9.118156599520761,34.01710081410965,31.44487248772853],[17.26400089975842,9.434746782224034,8.874600996151594,34.026696526595835,31.87535204786731],[17.473578460983237,11.572852228655531,10.20559040523385,36.001466775729426,31.826065543885296],[18.364130620714363,11.35714127522012,9.760807683124945,35.68267830581337,31.61014988202894],[17.33001938374051,7.673084045478626,5.620042255033028,37.40067261512745,31.54595848818654]],\"hovertemplate\":\"\\n\\u003cb\\u003eDecision variables\\u003c\\u002fb\\u003e\\u003cbr\\u003e\\n    - q\\u003csub\\u003ec\\u003c\\u002fsub\\u003e: %{customdata[0]:.2f} m\\u00b3\\u002fh\\u003cbr\\u003e\\n    - q\\u003csub\\u003edc\\u003c\\u002fsub\\u003e: %{customdata[1]:.2f} m\\u00b3\\u002fh\\u003cbr\\u003e\\n    - q\\u003csub\\u003evm\\u003c\\u002fsub\\u003e: %{customdata[2]:.1f} m\\u00b3\\u002fh\\u003cbr\\u003e\\n    - T\\u003csub\\u003edc,out\\u003c\\u002fsub\\u003e: %{customdata[3]:.1f} \\u00baC\\u003cbr\\u003e\\n    - T\\u003csub\\u003ewct,out\\u003c\\u002fsub\\u003e: %{customdata[4]:.1f} \\u00baC\\u003cbr\\u003e\\nC\\u003csub\\u003ee\\u003c\\u002fsub\\u003e: %{y:.2f} kW\\u003csub\\u003ee\\u003c\\u002fsub\\u003e, C\\u003csub\\u003ew\\u003c\\u002fsub\\u003e: %{x:.2f} l\\u002fh\\u003cextra\\u003e\\u003c\\u002fextra\\u003e\\n\",\"line\":{\"color\":\"#EF553B\",\"dash\":\"dot\",\"width\":0.5},\"marker\":{\"color\":\"#EF553B\",\"opacity\":0.7,\"size\":10,\"symbol\":\"square\"},\"mode\":\"lines+markers\",\"name\":\"11:45 | T\\u003csub\\u003eamb\\u003c\\u002fsub\\u003e=12.6 \\u00baC, \\u0278=47 %, T\\u003csub\\u003ev\\u003c\\u002fsub\\u003e=44.7 \\u00baC, P\\u003csub\\u003eth\\u003c\\u002fsub\\u003e=190 kW\\u003csub\\u003eth\\u003c\\u002fsub\\u003e\",\"x\":[124.95710519307957,130.4828108937204,139.20665249422524,144.4198227854564,181.95734587680283],\"y\":[3.4978291444600473,2.9652000878799445,2.7395520483403004,2.57107591084658,2.3026849933469387],\"type\":\"scatter\"},{\"marker\":{\"color\":\"#EF553B\",\"line\":{\"width\":3},\"opacity\":0.7,\"size\":20,\"symbol\":101},\"mode\":\"markers\",\"name\":\"11:45\",\"showlegend\":false,\"x\":[144.4198227854564],\"y\":[2.57107591084658],\"type\":\"scatter\"},{\"customdata\":[[22.579306531979263,20.16523062784757,18.618552164635624,35.82530023526126,32.20461808861202],[20.896004897870053,17.53563401587261,15.219008765760698,35.71337592829069,31.673356660508507],[19.2884763980027,12.090108066088456,11.56555615991122,34.872608232409476,31.93426605396812],[17.400835039017906,8.542998516683308,8.369363975552183,33.47590066304342,31.77139937447039],[17.608615005247756,11.662287714107526,10.284459634200266,35.853505807621616,31.82606656000413],[17.54375282578476,11.619329116941532,10.246576332971031,35.91175135213583,31.826066556808843],[17.473578460983237,11.572852228655531,10.20559040523385,36.00146673949873,31.826066605076434],[17.473578460983237,11.572852228655531,10.20559040523385,36.00146673949873,31.826066605076434],[17.473578460983237,11.572852228655531,10.20559040523385,36.00146673949873,31.826066605076434],[17.415738575678827,10.904567451552412,10.102388425653889,35.73310902606937,31.789053272586635],[17.347769575075752,11.424837223753554,10.068085669358677,36.29048956167509,31.905522818328343],[17.29375282578476,10.37289311723012,9.14739913550407,35.911751356683375,31.951066584543327],[16.3657391641264,10.619331199945233,9.501983469048557,37.45640139112036,32.17909728888074],[15.772361318627729,6.623271706529378,6.112697073796471,37.57596627892556,31.91492449416122],[15.456645142418457,7.306770265595954,6.732512249570324,38.33248501485427,31.92587472635781]],\"hovertemplate\":\"\\n\\u003cb\\u003eDecision variables\\u003c\\u002fb\\u003e\\u003cbr\\u003e\\n    - q\\u003csub\\u003ec\\u003c\\u002fsub\\u003e: %{customdata[0]:.2f} m\\u00b3\\u002fh\\u003cbr\\u003e\\n    - q\\u003csub\\u003edc\\u003c\\u002fsub\\u003e: %{customdata[1]:.2f} m\\u00b3\\u002fh\\u003cbr\\u003e\\n    - q\\u003csub\\u003evm\\u003c\\u002fsub\\u003e: %{customdata[2]:.1f} m\\u00b3\\u002fh\\u003cbr\\u003e\\n    - T\\u003csub\\u003edc,out\\u003c\\u002fsub\\u003e: %{customdata[3]:.1f} \\u00baC\\u003cbr\\u003e\\n    - T\\u003csub\\u003ewct,out\\u003c\\u002fsub\\u003e: %{customdata[4]:.1f} \\u00baC\\u003cbr\\u003e\\nC\\u003csub\\u003ee\\u003c\\u002fsub\\u003e: %{y:.2f} kW\\u003csub\\u003ee\\u003c\\u002fsub\\u003e, C\\u003csub\\u003ew\\u003c\\u002fsub\\u003e: %{x:.2f} l\\u002fh\\u003cextra\\u003e\\u003c\\u002fextra\\u003e\\n\",\"line\":{\"color\":\"#00CC96\",\"dash\":\"dot\",\"width\":0.5},\"marker\":{\"color\":\"#00CC96\",\"opacity\":0.7,\"size\":10,\"symbol\":\"diamond\"},\"mode\":\"lines+markers\",\"name\":\"12:17 | T\\u003csub\\u003eamb\\u003c\\u002fsub\\u003e=13.2 \\u00baC, \\u0278=46 %, T\\u003csub\\u003ev\\u003c\\u002fsub\\u003e=44.7 \\u00baC, P\\u003csub\\u003eth\\u003c\\u002fsub\\u003e=174 kW\\u003csub\\u003eth\\u003c\\u002fsub\\u003e\",\"x\":[116.24845604348604,119.41950515043546,124.86569761317725,125.7544894600281,131.3261749567488,132.03992271172797,133.2045739724772,133.2045739724772,133.2045739724772,135.179789258636,136.72566522335381,137.96413966819478,149.26197445709766,173.7864192021135,175.3828680536241],\"y\":[4.254493910643182,3.657368776687984,3.233710230183384,2.9646744038917068,2.3269828834021005,2.3093217914918798,2.291360286009377,2.291360286009377,2.291360286009377,2.2647706981765143,2.26307293209159,2.2301310247957145,2.0190945617609297,1.8630443375217995,1.8089243779203656],\"type\":\"scatter\"},{\"marker\":{\"color\":\"#00CC96\",\"line\":{\"width\":3},\"opacity\":0.7,\"size\":20,\"symbol\":102},\"mode\":\"markers\",\"name\":\"12:17\",\"showlegend\":false,\"x\":[149.26197445709766],\"y\":[2.0190945617609297],\"type\":\"scatter\"},{\"customdata\":[[21.611791124983657,19.26435289680296,17.579992164561265,35.79027799050033,31.975979761498515],[18.643366434972844,15.278481026641305,14.362501300192356,35.75869659109219,31.7516703087286],[18.34461933948128,12.545422412496775,9.862606226478203,35.24914145468643,31.45971105911027],[17.618384787177792,12.515652753159403,11.007934569375763,37.91909332851332,31.76363934716073]],\"hovertemplate\":\"\\n\\u003cb\\u003eDecision variables\\u003c\\u002fb\\u003e\\u003cbr\\u003e\\n    - q\\u003csub\\u003ec\\u003c\\u002fsub\\u003e: %{customdata[0]:.2f} m\\u00b3\\u002fh\\u003cbr\\u003e\\n    - q\\u003csub\\u003edc\\u003c\\u002fsub\\u003e: %{customdata[1]:.2f} m\\u00b3\\u002fh\\u003cbr\\u003e\\n    - q\\u003csub\\u003evm\\u003c\\u002fsub\\u003e: %{customdata[2]:.1f} m\\u00b3\\u002fh\\u003cbr\\u003e\\n    - T\\u003csub\\u003edc,out\\u003c\\u002fsub\\u003e: %{customdata[3]:.1f} \\u00baC\\u003cbr\\u003e\\n    - T\\u003csub\\u003ewct,out\\u003c\\u002fsub\\u003e: %{customdata[4]:.1f} \\u00baC\\u003cbr\\u003e\\nC\\u003csub\\u003ee\\u003c\\u002fsub\\u003e: %{y:.2f} kW\\u003csub\\u003ee\\u003c\\u002fsub\\u003e, C\\u003csub\\u003ew\\u003c\\u002fsub\\u003e: %{x:.2f} l\\u002fh\\u003cextra\\u003e\\u003c\\u002fextra\\u003e\\n\",\"line\":{\"color\":\"#AB63FA\",\"dash\":\"dot\",\"width\":0.5},\"marker\":{\"color\":\"#AB63FA\",\"opacity\":0.7,\"size\":10,\"symbol\":\"cross\"},\"mode\":\"lines+markers\",\"name\":\"13:30 | T\\u003csub\\u003eamb\\u003c\\u002fsub\\u003e=14.1 \\u00baC, \\u0278=39 %, T\\u003csub\\u003ev\\u003c\\u002fsub\\u003e=44.8 \\u00baC, P\\u003csub\\u003eth\\u003c\\u002fsub\\u003e=160 kW\\u003csub\\u003eth\\u003c\\u002fsub\\u003e\",\"x\":[119.95279485025868,123.90785523015435,132.09390510469888,168.50002544884325],\"y\":[4.021878896636664,2.66457645376105,2.536852286035813,2.411172449589126],\"type\":\"scatter\"},{\"marker\":{\"color\":\"#AB63FA\",\"line\":{\"width\":3},\"opacity\":0.7,\"size\":20,\"symbol\":103},\"mode\":\"markers\",\"name\":\"13:30\",\"showlegend\":false,\"x\":[123.90785523015435],\"y\":[2.66457645376105],\"type\":\"scatter\"}],                        {\"template\":{\"data\":{\"histogram2dcontour\":[{\"type\":\"histogram2dcontour\",\"colorbar\":{\"outlinewidth\":0,\"ticks\":\"\"},\"colorscale\":[[0.0,\"#0d0887\"],[0.1111111111111111,\"#46039f\"],[0.2222222222222222,\"#7201a8\"],[0.3333333333333333,\"#9c179e\"],[0.4444444444444444,\"#bd3786\"],[0.5555555555555556,\"#d8576b\"],[0.6666666666666666,\"#ed7953\"],[0.7777777777777778,\"#fb9f3a\"],[0.8888888888888888,\"#fdca26\"],[1.0,\"#f0f921\"]]}],\"choropleth\":[{\"type\":\"choropleth\",\"colorbar\":{\"outlinewidth\":0,\"ticks\":\"\"}}],\"histogram2d\":[{\"type\":\"histogram2d\",\"colorbar\":{\"outlinewidth\":0,\"ticks\":\"\"},\"colorscale\":[[0.0,\"#0d0887\"],[0.1111111111111111,\"#46039f\"],[0.2222222222222222,\"#7201a8\"],[0.3333333333333333,\"#9c179e\"],[0.4444444444444444,\"#bd3786\"],[0.5555555555555556,\"#d8576b\"],[0.6666666666666666,\"#ed7953\"],[0.7777777777777778,\"#fb9f3a\"],[0.8888888888888888,\"#fdca26\"],[1.0,\"#f0f921\"]]}],\"heatmap\":[{\"type\":\"heatmap\",\"colorbar\":{\"outlinewidth\":0,\"ticks\":\"\"},\"colorscale\":[[0.0,\"#0d0887\"],[0.1111111111111111,\"#46039f\"],[0.2222222222222222,\"#7201a8\"],[0.3333333333333333,\"#9c179e\"],[0.4444444444444444,\"#bd3786\"],[0.5555555555555556,\"#d8576b\"],[0.6666666666666666,\"#ed7953\"],[0.7777777777777778,\"#fb9f3a\"],[0.8888888888888888,\"#fdca26\"],[1.0,\"#f0f921\"]]}],\"heatmapgl\":[{\"type\":\"heatmapgl\",\"colorbar\":{\"outlinewidth\":0,\"ticks\":\"\"},\"colorscale\":[[0.0,\"#0d0887\"],[0.1111111111111111,\"#46039f\"],[0.2222222222222222,\"#7201a8\"],[0.3333333333333333,\"#9c179e\"],[0.4444444444444444,\"#bd3786\"],[0.5555555555555556,\"#d8576b\"],[0.6666666666666666,\"#ed7953\"],[0.7777777777777778,\"#fb9f3a\"],[0.8888888888888888,\"#fdca26\"],[1.0,\"#f0f921\"]]}],\"contourcarpet\":[{\"type\":\"contourcarpet\",\"colorbar\":{\"outlinewidth\":0,\"ticks\":\"\"}}],\"contour\":[{\"type\":\"contour\",\"colorbar\":{\"outlinewidth\":0,\"ticks\":\"\"},\"colorscale\":[[0.0,\"#0d0887\"],[0.1111111111111111,\"#46039f\"],[0.2222222222222222,\"#7201a8\"],[0.3333333333333333,\"#9c179e\"],[0.4444444444444444,\"#bd3786\"],[0.5555555555555556,\"#d8576b\"],[0.6666666666666666,\"#ed7953\"],[0.7777777777777778,\"#fb9f3a\"],[0.8888888888888888,\"#fdca26\"],[1.0,\"#f0f921\"]]}],\"surface\":[{\"type\":\"surface\",\"colorbar\":{\"outlinewidth\":0,\"ticks\":\"\"},\"colorscale\":[[0.0,\"#0d0887\"],[0.1111111111111111,\"#46039f\"],[0.2222222222222222,\"#7201a8\"],[0.3333333333333333,\"#9c179e\"],[0.4444444444444444,\"#bd3786\"],[0.5555555555555556,\"#d8576b\"],[0.6666666666666666,\"#ed7953\"],[0.7777777777777778,\"#fb9f3a\"],[0.8888888888888888,\"#fdca26\"],[1.0,\"#f0f921\"]]}],\"mesh3d\":[{\"type\":\"mesh3d\",\"colorbar\":{\"outlinewidth\":0,\"ticks\":\"\"}}],\"scatter\":[{\"fillpattern\":{\"fillmode\":\"overlay\",\"size\":10,\"solidity\":0.2},\"type\":\"scatter\"}],\"parcoords\":[{\"type\":\"parcoords\",\"line\":{\"colorbar\":{\"outlinewidth\":0,\"ticks\":\"\"}}}],\"scatterpolargl\":[{\"type\":\"scatterpolargl\",\"marker\":{\"colorbar\":{\"outlinewidth\":0,\"ticks\":\"\"}}}],\"bar\":[{\"error_x\":{\"color\":\"#2a3f5f\"},\"error_y\":{\"color\":\"#2a3f5f\"},\"marker\":{\"line\":{\"color\":\"#E5ECF6\",\"width\":0.5},\"pattern\":{\"fillmode\":\"overlay\",\"size\":10,\"solidity\":0.2}},\"type\":\"bar\"}],\"scattergeo\":[{\"type\":\"scattergeo\",\"marker\":{\"colorbar\":{\"outlinewidth\":0,\"ticks\":\"\"}}}],\"scatterpolar\":[{\"type\":\"scatterpolar\",\"marker\":{\"colorbar\":{\"outlinewidth\":0,\"ticks\":\"\"}}}],\"histogram\":[{\"marker\":{\"pattern\":{\"fillmode\":\"overlay\",\"size\":10,\"solidity\":0.2}},\"type\":\"histogram\"}],\"scattergl\":[{\"type\":\"scattergl\",\"marker\":{\"colorbar\":{\"outlinewidth\":0,\"ticks\":\"\"}}}],\"scatter3d\":[{\"type\":\"scatter3d\",\"line\":{\"colorbar\":{\"outlinewidth\":0,\"ticks\":\"\"}},\"marker\":{\"colorbar\":{\"outlinewidth\":0,\"ticks\":\"\"}}}],\"scattermapbox\":[{\"type\":\"scattermapbox\",\"marker\":{\"colorbar\":{\"outlinewidth\":0,\"ticks\":\"\"}}}],\"scatterternary\":[{\"type\":\"scatterternary\",\"marker\":{\"colorbar\":{\"outlinewidth\":0,\"ticks\":\"\"}}}],\"scattercarpet\":[{\"type\":\"scattercarpet\",\"marker\":{\"colorbar\":{\"outlinewidth\":0,\"ticks\":\"\"}}}],\"carpet\":[{\"aaxis\":{\"endlinecolor\":\"#2a3f5f\",\"gridcolor\":\"white\",\"linecolor\":\"white\",\"minorgridcolor\":\"white\",\"startlinecolor\":\"#2a3f5f\"},\"baxis\":{\"endlinecolor\":\"#2a3f5f\",\"gridcolor\":\"white\",\"linecolor\":\"white\",\"minorgridcolor\":\"white\",\"startlinecolor\":\"#2a3f5f\"},\"type\":\"carpet\"}],\"table\":[{\"cells\":{\"fill\":{\"color\":\"#EBF0F8\"},\"line\":{\"color\":\"white\"}},\"header\":{\"fill\":{\"color\":\"#C8D4E3\"},\"line\":{\"color\":\"white\"}},\"type\":\"table\"}],\"barpolar\":[{\"marker\":{\"line\":{\"color\":\"#E5ECF6\",\"width\":0.5},\"pattern\":{\"fillmode\":\"overlay\",\"size\":10,\"solidity\":0.2}},\"type\":\"barpolar\"}],\"pie\":[{\"automargin\":true,\"type\":\"pie\"}]},\"layout\":{\"autotypenumbers\":\"strict\",\"colorway\":[\"#636efa\",\"#EF553B\",\"#00cc96\",\"#ab63fa\",\"#FFA15A\",\"#19d3f3\",\"#FF6692\",\"#B6E880\",\"#FF97FF\",\"#FECB52\"],\"font\":{\"color\":\"#2a3f5f\"},\"hovermode\":\"closest\",\"hoverlabel\":{\"align\":\"left\"},\"paper_bgcolor\":\"white\",\"plot_bgcolor\":\"#E5ECF6\",\"polar\":{\"bgcolor\":\"#E5ECF6\",\"angularaxis\":{\"gridcolor\":\"white\",\"linecolor\":\"white\",\"ticks\":\"\"},\"radialaxis\":{\"gridcolor\":\"white\",\"linecolor\":\"white\",\"ticks\":\"\"}},\"ternary\":{\"bgcolor\":\"#E5ECF6\",\"aaxis\":{\"gridcolor\":\"white\",\"linecolor\":\"white\",\"ticks\":\"\"},\"baxis\":{\"gridcolor\":\"white\",\"linecolor\":\"white\",\"ticks\":\"\"},\"caxis\":{\"gridcolor\":\"white\",\"linecolor\":\"white\",\"ticks\":\"\"}},\"coloraxis\":{\"colorbar\":{\"outlinewidth\":0,\"ticks\":\"\"}},\"colorscale\":{\"sequential\":[[0.0,\"#0d0887\"],[0.1111111111111111,\"#46039f\"],[0.2222222222222222,\"#7201a8\"],[0.3333333333333333,\"#9c179e\"],[0.4444444444444444,\"#bd3786\"],[0.5555555555555556,\"#d8576b\"],[0.6666666666666666,\"#ed7953\"],[0.7777777777777778,\"#fb9f3a\"],[0.8888888888888888,\"#fdca26\"],[1.0,\"#f0f921\"]],\"sequentialminus\":[[0.0,\"#0d0887\"],[0.1111111111111111,\"#46039f\"],[0.2222222222222222,\"#7201a8\"],[0.3333333333333333,\"#9c179e\"],[0.4444444444444444,\"#bd3786\"],[0.5555555555555556,\"#d8576b\"],[0.6666666666666666,\"#ed7953\"],[0.7777777777777778,\"#fb9f3a\"],[0.8888888888888888,\"#fdca26\"],[1.0,\"#f0f921\"]],\"diverging\":[[0,\"#8e0152\"],[0.1,\"#c51b7d\"],[0.2,\"#de77ae\"],[0.3,\"#f1b6da\"],[0.4,\"#fde0ef\"],[0.5,\"#f7f7f7\"],[0.6,\"#e6f5d0\"],[0.7,\"#b8e186\"],[0.8,\"#7fbc41\"],[0.9,\"#4d9221\"],[1,\"#276419\"]]},\"xaxis\":{\"gridcolor\":\"white\",\"linecolor\":\"white\",\"ticks\":\"\",\"title\":{\"standoff\":15},\"zerolinecolor\":\"white\",\"automargin\":true,\"zerolinewidth\":2},\"yaxis\":{\"gridcolor\":\"white\",\"linecolor\":\"white\",\"ticks\":\"\",\"title\":{\"standoff\":15},\"zerolinecolor\":\"white\",\"automargin\":true,\"zerolinewidth\":2},\"scene\":{\"xaxis\":{\"backgroundcolor\":\"#E5ECF6\",\"gridcolor\":\"white\",\"linecolor\":\"white\",\"showbackground\":true,\"ticks\":\"\",\"zerolinecolor\":\"white\",\"gridwidth\":2},\"yaxis\":{\"backgroundcolor\":\"#E5ECF6\",\"gridcolor\":\"white\",\"linecolor\":\"white\",\"showbackground\":true,\"ticks\":\"\",\"zerolinecolor\":\"white\",\"gridwidth\":2},\"zaxis\":{\"backgroundcolor\":\"#E5ECF6\",\"gridcolor\":\"white\",\"linecolor\":\"white\",\"showbackground\":true,\"ticks\":\"\",\"zerolinecolor\":\"white\",\"gridwidth\":2}},\"shapedefaults\":{\"line\":{\"color\":\"#2a3f5f\"}},\"annotationdefaults\":{\"arrowcolor\":\"#2a3f5f\",\"arrowhead\":0,\"arrowwidth\":1},\"geo\":{\"bgcolor\":\"white\",\"landcolor\":\"#E5ECF6\",\"subunitcolor\":\"white\",\"showland\":true,\"showlakes\":true,\"lakecolor\":\"white\"},\"title\":{\"x\":0.05},\"mapbox\":{\"style\":\"light\"}}},\"shapes\":[{\"fillcolor\":\"#FECB52\",\"layer\":\"below\",\"line\":{\"width\":0},\"opacity\":0.2,\"type\":\"rect\",\"x0\":-5,\"x1\":125,\"xref\":\"x\",\"y0\":0,\"y1\":1,\"yref\":\"paper\"},{\"fillcolor\":\"#FECB52\",\"layer\":\"below\",\"line\":{\"width\":0},\"opacity\":0.2,\"type\":\"rect\",\"x0\":-5,\"x1\":150,\"xref\":\"x\",\"y0\":0,\"y1\":1,\"yref\":\"paper\"}],\"xaxis\":{\"title\":{\"text\":\"Water consumption (l\\u002fh)\"},\"range\":[50,190],\"showspikes\":true},\"yaxis\":{\"title\":{\"text\":\"Electricity consumption (kW\\u003csub\\u003ee\\u003c\\u002fsub\\u003e)\"},\"range\":[-0.5,5],\"showspikes\":true},\"font\":{\"size\":16},\"newshape\":{\"line\":{\"color\":\"#00CC96\"},\"fillcolor\":\"#00CC96\",\"opacity\":0.5,\"layer\":\"below\"},\"legend\":{\"yanchor\":\"bottom\",\"xanchor\":\"left\",\"x\":0,\"y\":0,\"bgcolor\":\"rgba(255,255,255,0.5)\"},\"margin\":{\"l\":20,\"r\":20,\"t\":20,\"b\":20,\"pad\":5},\"width\":750,\"height\":450},                        {\"toImageButtonOptions\": {\"format\": \"png\", \"filename\": \"solhycool_plot\", \"height\": 450, \"width\": 750, \"scale\": 2}, \"modeBarButtonsToAdd\": [\"drawline\", \"drawopenpath\", \"drawclosedpath\", \"drawcircle\", \"drawrect\", \"eraseshape\"], \"responsive\": true}                    ).then(function(){\n                            \nvar gd = document.getElementById('486f226e-6ac8-4394-b887-96ce5bfb9a6d');\nvar x = new MutationObserver(function (mutations, observer) {{\n        var display = window.getComputedStyle(gd).display;\n        if (!display || display === 'none') {{\n            console.log([gd, 'removed!']);\n            Plotly.purge(gd);\n            observer.disconnect();\n        }}\n}});\n\n// Listen for the removal of the full notebook cells\nvar notebookContainer = gd.closest('#notebook-container');\nif (notebookContainer) {{\n    x.observe(notebookContainer, {childList: true});\n}}\n\n// Listen for the clearing of the current output cell\nvar outputEl = gd.closest('.output');\nif (outputEl) {{\n    x.observe(outputEl, {childList: true});\n}}\n\n                        })                };                });            </script>        </div>"
     },
     "metadata": {},
     "output_type": "display_data"
    }
   ],
   "source": [
    "%autoreload 2\n",
    "\n",
    "from solhycool_visualizations.pareto import pareto_plot\n",
    "\n",
    "fig = pareto_plot(opt_results, Cws_max=(125, 150), xlim=(50, 190), ylim=(-0.5, 5), full_legend=True)\n",
    "\n",
    "fig.show(config=generate_plotly_config(fig))"
   ],
   "metadata": {
    "collapsed": false,
    "ExecuteTime": {
     "end_time": "2024-01-10T19:28:34.490988443Z",
     "start_time": "2024-01-10T19:28:34.342160443Z"
    }
   },
   "id": "479f0c92f3f150c6",
   "execution_count": 53
  },
  {
   "cell_type": "code",
   "execution_count": 54,
   "outputs": [
    {
     "name": "stderr",
     "output_type": "stream",
     "text": [
      "\u001B[32m2024-01-10 20:28:47.314\u001B[0m | \u001B[1mINFO    \u001B[0m | \u001B[36msolhycool_visualizations\u001B[0m:\u001B[36msave_figure\u001B[0m:\u001B[36m24\u001B[0m - \u001B[1mFigure saved in /home/patomareao/Nextcloud/Juanmi_MED_PSA/WASCOP/Optimización/202312_PID2024/results/figures/pareto_20240108.png\u001B[0m\n",
      "\u001B[32m2024-01-10 20:28:47.482\u001B[0m | \u001B[1mINFO    \u001B[0m | \u001B[36msolhycool_visualizations\u001B[0m:\u001B[36msave_figure\u001B[0m:\u001B[36m24\u001B[0m - \u001B[1mFigure saved in /home/patomareao/Nextcloud/Juanmi_MED_PSA/WASCOP/Optimización/202312_PID2024/results/figures/pareto_20240108.svg\u001B[0m\n",
      "\u001B[32m2024-01-10 20:28:47.490\u001B[0m | \u001B[1mINFO    \u001B[0m | \u001B[36msolhycool_visualizations\u001B[0m:\u001B[36msave_figure\u001B[0m:\u001B[36m24\u001B[0m - \u001B[1mFigure saved in /home/patomareao/Nextcloud/Juanmi_MED_PSA/WASCOP/Optimización/202312_PID2024/results/figures/pareto_20240108.html\u001B[0m\n"
     ]
    }
   ],
   "source": [
    "save_figure(\n",
    "    figure_name=f\"pareto_{df.index[0].strftime('%Y%m%d')}\", \n",
    "    figure_path=results_path / \"figures\", \n",
    "    fig=fig, formats=['png', 'svg', 'html'], \n",
    "    width=fig.layout.width, height=fig.layout.height, scale=2\n",
    ")"
   ],
   "metadata": {
    "collapsed": false,
    "ExecuteTime": {
     "end_time": "2024-01-10T19:28:47.530649677Z",
     "start_time": "2024-01-10T19:28:46.267006120Z"
    }
   },
   "id": "5b7272981d9583c"
  },
  {
   "cell_type": "markdown",
   "source": [
    "## Evolución temporal de consumos\n",
    "Comparación de los consumos de consumos entre la evolución de la serie temporal y los estimados por el modelo "
   ],
   "metadata": {
    "collapsed": false
   },
   "id": "15ea8f16f3d82c2e"
  },
  {
   "cell_type": "code",
   "outputs": [
    {
     "ename": "NameError",
     "evalue": "name 'costs_plot' is not defined",
     "output_type": "error",
     "traceback": [
      "\u001B[0;31m---------------------------------------------------------------------------\u001B[0m",
      "\u001B[0;31mNameError\u001B[0m                                 Traceback (most recent call last)",
      "Cell \u001B[0;32mIn[15], line 3\u001B[0m\n\u001B[1;32m      1\u001B[0m \u001B[38;5;28;01mfrom\u001B[39;00m \u001B[38;5;21;01msolhycool_visualizations\u001B[39;00m\u001B[38;5;21;01m.\u001B[39;00m\u001B[38;5;21;01mcosts\u001B[39;00m \u001B[38;5;28;01mimport\u001B[39;00m costs_evolution_plot\n\u001B[0;32m----> 3\u001B[0m fig \u001B[38;5;241m=\u001B[39m \u001B[43mcosts_plot\u001B[49m(df)\n\u001B[1;32m      5\u001B[0m fig\u001B[38;5;241m.\u001B[39mshow()\n",
      "\u001B[0;31mNameError\u001B[0m: name 'costs_plot' is not defined"
     ]
    }
   ],
   "source": [
    "from solhycool_visualizations.costs import costs_evolution_plot\n",
    "\n",
    "fig = costs_plot(df)\n",
    "\n",
    "fig.show()"
   ],
   "metadata": {
    "collapsed": false,
    "ExecuteTime": {
     "end_time": "2024-01-10T11:50:56.241055707Z",
     "start_time": "2024-01-10T11:50:56.179516289Z"
    }
   },
   "id": "f0b761dc61f111fb",
   "execution_count": 15
  },
  {
   "cell_type": "code",
   "execution_count": null,
   "outputs": [],
   "source": [
    "save_figure(\n",
    "    figure_name=f\"costs_{df.index[0].strftime('%Y%m%d')}\", \n",
    "    figure_path=results_path / \"figures\", \n",
    "    fig=fig, formats=['png', 'svg', 'html'], \n",
    "    width=fig.layout.width, height=fig.layout.height, scale=2\n",
    ")"
   ],
   "metadata": {
    "collapsed": false,
    "ExecuteTime": {
     "end_time": "2024-01-10T11:50:56.242749003Z",
     "start_time": "2024-01-10T11:50:56.241770834Z"
    }
   },
   "id": "c55f8912f84df9b1"
  },
  {
   "cell_type": "markdown",
   "source": [],
   "metadata": {
    "collapsed": false
   },
   "id": "e40a5c978bbd8cab"
  },
  {
   "cell_type": "markdown",
   "source": [
    "## Resultados experimentales\n",
    "Gráfica del sistema completo mostrando comparativa entre las series temporales obtenidas experimentalmente y las estimadas por el modelo"
   ],
   "metadata": {
    "collapsed": false
   },
   "id": "92e832f3335abfd1"
  },
  {
   "cell_type": "code",
   "outputs": [
    {
     "ename": "NameError",
     "evalue": "name 'df' is not defined",
     "output_type": "error",
     "traceback": [
      "\u001B[0;31m---------------------------------------------------------------------------\u001B[0m",
      "\u001B[0;31mNameError\u001B[0m                                 Traceback (most recent call last)",
      "Cell \u001B[0;32mIn[2], line 8\u001B[0m\n\u001B[1;32m      5\u001B[0m \u001B[38;5;28;01mwith\u001B[39;00m \u001B[38;5;28mopen\u001B[39m(src_path \u001B[38;5;241m/\u001B[39m \u001B[38;5;124m\"\u001B[39m\u001B[38;5;124mvisualizations\u001B[39m\u001B[38;5;124m\"\u001B[39m \u001B[38;5;241m/\u001B[39m \u001B[38;5;124m\"\u001B[39m\u001B[38;5;124mplot_config.hjson\u001B[39m\u001B[38;5;124m\"\u001B[39m) \u001B[38;5;28;01mas\u001B[39;00m f:\n\u001B[1;32m      6\u001B[0m     plt_config \u001B[38;5;241m=\u001B[39m hjson\u001B[38;5;241m.\u001B[39mload(f)\n\u001B[0;32m----> 8\u001B[0m fig \u001B[38;5;241m=\u001B[39m experimental_results_plot(plt_config, \u001B[43mdf\u001B[49m, df_opt)\n\u001B[1;32m     10\u001B[0m fig\u001B[38;5;241m.\u001B[39mshow()\n",
      "\u001B[0;31mNameError\u001B[0m: name 'df' is not defined"
     ]
    }
   ],
   "source": [
    "# from solhycool_visualizations.experimental_results import experimental_results_plot\n",
    "from phd_visualizations.test_timeseries import experimental_results_plot\n",
    "\n",
    "# Load plot configuration here as well to not have to go back and forth\n",
    "with open(src_path / \"visualizations\" / \"plot_config.hjson\") as f:\n",
    "    plt_config = hjson.load(f)\n",
    "\n",
    "fig = experimental_results_plot(plt_config, df, df_opt)\n",
    "\n",
    "fig.show()"
   ],
   "metadata": {
    "collapsed": false,
    "ExecuteTime": {
     "end_time": "2024-01-22T15:13:15.076082160Z",
     "start_time": "2024-01-22T15:13:14.821345158Z"
    }
   },
   "id": "e495c01b2d4a7441",
   "execution_count": 2
  },
  {
   "cell_type": "code",
   "outputs": [],
   "source": [
    "save_figure(\n",
    "    figure_name=f\"experimental_results_{df.index[0].strftime('%Y%m%d')}\",\n",
    "    figure_path=results_path / \"figures\",\n",
    "    fig=fig, formats=['png', 'svg', 'html'],\n",
    "    width=fig.layout.width, height=fig.layout.height, scale=2\n",
    ")"
   ],
   "metadata": {
    "collapsed": false,
    "ExecuteTime": {
     "start_time": "2024-01-10T08:04:22.520302847Z"
    }
   },
   "id": "5ef45d26e81da3f6",
   "execution_count": null
  },
  {
   "cell_type": "markdown",
   "source": [
    "## Distribución de caudales\n",
    "Distribución de caudales en el sistema"
   ],
   "metadata": {
    "collapsed": false
   },
   "id": "2ca5091ee70ccade"
  },
  {
   "cell_type": "code",
   "outputs": [
    {
     "data": {
      "application/vnd.plotly.v1+json": {
       "data": [
        {
         "arrangement": "freeform",
         "link": {
          "arrowlen": 1,
          "color": [
           "rgba(131, 179, 102, 0.6)",
           "rgba(149, 115, 166, 0.6)",
           "rgba(131, 179, 102, 0.6)",
           "rgba(108, 142, 191, 0.6)",
           "rgba(149, 115, 166, 0.6)",
           "rgba(149, 115, 166, 0.6)",
           "rgba(149, 115, 166, 0.6)",
           "rgba(108, 142, 191, 0.6)"
          ],
          "source": [
           0,
           0,
           1,
           4,
           1,
           2,
           3,
           5
          ],
          "target": [
           1,
           2,
           4,
           0,
           3,
           5,
           5,
           0
          ],
          "value": [
           0.5375768479471943,
           0.46242315205280565,
           0.04964870100880724,
           0.04964870100880724,
           0.48792814693838704,
           0.46242315205280565,
           0.48792814693838704,
           0.9503512989911926
          ]
         },
         "node": {
          "color": "steelblue",
          "label": [
           "q<sub>c</sub>",
           "DC",
           "WCT PP",
           "DC-WCT",
           "just DC",
           "WCT",
           "q<sub>c</sub>"
          ],
          "line": {
           "color": "steelblue",
           "width": 0.5
          },
          "pad": 15,
          "thickness": 20,
          "x": [
           0.1,
           0.3,
           0.3,
           0.5,
           0.5,
           0.7,
           0.9
          ]
         },
         "type": "sankey"
        }
       ],
       "layout": {
        "template": {
         "data": {
          "histogram2dcontour": [
           {
            "type": "histogram2dcontour",
            "colorbar": {
             "outlinewidth": 0,
             "ticks": ""
            },
            "colorscale": [
             [
              0.0,
              "#0d0887"
             ],
             [
              0.1111111111111111,
              "#46039f"
             ],
             [
              0.2222222222222222,
              "#7201a8"
             ],
             [
              0.3333333333333333,
              "#9c179e"
             ],
             [
              0.4444444444444444,
              "#bd3786"
             ],
             [
              0.5555555555555556,
              "#d8576b"
             ],
             [
              0.6666666666666666,
              "#ed7953"
             ],
             [
              0.7777777777777778,
              "#fb9f3a"
             ],
             [
              0.8888888888888888,
              "#fdca26"
             ],
             [
              1.0,
              "#f0f921"
             ]
            ]
           }
          ],
          "choropleth": [
           {
            "type": "choropleth",
            "colorbar": {
             "outlinewidth": 0,
             "ticks": ""
            }
           }
          ],
          "histogram2d": [
           {
            "type": "histogram2d",
            "colorbar": {
             "outlinewidth": 0,
             "ticks": ""
            },
            "colorscale": [
             [
              0.0,
              "#0d0887"
             ],
             [
              0.1111111111111111,
              "#46039f"
             ],
             [
              0.2222222222222222,
              "#7201a8"
             ],
             [
              0.3333333333333333,
              "#9c179e"
             ],
             [
              0.4444444444444444,
              "#bd3786"
             ],
             [
              0.5555555555555556,
              "#d8576b"
             ],
             [
              0.6666666666666666,
              "#ed7953"
             ],
             [
              0.7777777777777778,
              "#fb9f3a"
             ],
             [
              0.8888888888888888,
              "#fdca26"
             ],
             [
              1.0,
              "#f0f921"
             ]
            ]
           }
          ],
          "heatmap": [
           {
            "type": "heatmap",
            "colorbar": {
             "outlinewidth": 0,
             "ticks": ""
            },
            "colorscale": [
             [
              0.0,
              "#0d0887"
             ],
             [
              0.1111111111111111,
              "#46039f"
             ],
             [
              0.2222222222222222,
              "#7201a8"
             ],
             [
              0.3333333333333333,
              "#9c179e"
             ],
             [
              0.4444444444444444,
              "#bd3786"
             ],
             [
              0.5555555555555556,
              "#d8576b"
             ],
             [
              0.6666666666666666,
              "#ed7953"
             ],
             [
              0.7777777777777778,
              "#fb9f3a"
             ],
             [
              0.8888888888888888,
              "#fdca26"
             ],
             [
              1.0,
              "#f0f921"
             ]
            ]
           }
          ],
          "heatmapgl": [
           {
            "type": "heatmapgl",
            "colorbar": {
             "outlinewidth": 0,
             "ticks": ""
            },
            "colorscale": [
             [
              0.0,
              "#0d0887"
             ],
             [
              0.1111111111111111,
              "#46039f"
             ],
             [
              0.2222222222222222,
              "#7201a8"
             ],
             [
              0.3333333333333333,
              "#9c179e"
             ],
             [
              0.4444444444444444,
              "#bd3786"
             ],
             [
              0.5555555555555556,
              "#d8576b"
             ],
             [
              0.6666666666666666,
              "#ed7953"
             ],
             [
              0.7777777777777778,
              "#fb9f3a"
             ],
             [
              0.8888888888888888,
              "#fdca26"
             ],
             [
              1.0,
              "#f0f921"
             ]
            ]
           }
          ],
          "contourcarpet": [
           {
            "type": "contourcarpet",
            "colorbar": {
             "outlinewidth": 0,
             "ticks": ""
            }
           }
          ],
          "contour": [
           {
            "type": "contour",
            "colorbar": {
             "outlinewidth": 0,
             "ticks": ""
            },
            "colorscale": [
             [
              0.0,
              "#0d0887"
             ],
             [
              0.1111111111111111,
              "#46039f"
             ],
             [
              0.2222222222222222,
              "#7201a8"
             ],
             [
              0.3333333333333333,
              "#9c179e"
             ],
             [
              0.4444444444444444,
              "#bd3786"
             ],
             [
              0.5555555555555556,
              "#d8576b"
             ],
             [
              0.6666666666666666,
              "#ed7953"
             ],
             [
              0.7777777777777778,
              "#fb9f3a"
             ],
             [
              0.8888888888888888,
              "#fdca26"
             ],
             [
              1.0,
              "#f0f921"
             ]
            ]
           }
          ],
          "surface": [
           {
            "type": "surface",
            "colorbar": {
             "outlinewidth": 0,
             "ticks": ""
            },
            "colorscale": [
             [
              0.0,
              "#0d0887"
             ],
             [
              0.1111111111111111,
              "#46039f"
             ],
             [
              0.2222222222222222,
              "#7201a8"
             ],
             [
              0.3333333333333333,
              "#9c179e"
             ],
             [
              0.4444444444444444,
              "#bd3786"
             ],
             [
              0.5555555555555556,
              "#d8576b"
             ],
             [
              0.6666666666666666,
              "#ed7953"
             ],
             [
              0.7777777777777778,
              "#fb9f3a"
             ],
             [
              0.8888888888888888,
              "#fdca26"
             ],
             [
              1.0,
              "#f0f921"
             ]
            ]
           }
          ],
          "mesh3d": [
           {
            "type": "mesh3d",
            "colorbar": {
             "outlinewidth": 0,
             "ticks": ""
            }
           }
          ],
          "scatter": [
           {
            "fillpattern": {
             "fillmode": "overlay",
             "size": 10,
             "solidity": 0.2
            },
            "type": "scatter"
           }
          ],
          "parcoords": [
           {
            "type": "parcoords",
            "line": {
             "colorbar": {
              "outlinewidth": 0,
              "ticks": ""
             }
            }
           }
          ],
          "scatterpolargl": [
           {
            "type": "scatterpolargl",
            "marker": {
             "colorbar": {
              "outlinewidth": 0,
              "ticks": ""
             }
            }
           }
          ],
          "bar": [
           {
            "error_x": {
             "color": "#2a3f5f"
            },
            "error_y": {
             "color": "#2a3f5f"
            },
            "marker": {
             "line": {
              "color": "#E5ECF6",
              "width": 0.5
             },
             "pattern": {
              "fillmode": "overlay",
              "size": 10,
              "solidity": 0.2
             }
            },
            "type": "bar"
           }
          ],
          "scattergeo": [
           {
            "type": "scattergeo",
            "marker": {
             "colorbar": {
              "outlinewidth": 0,
              "ticks": ""
             }
            }
           }
          ],
          "scatterpolar": [
           {
            "type": "scatterpolar",
            "marker": {
             "colorbar": {
              "outlinewidth": 0,
              "ticks": ""
             }
            }
           }
          ],
          "histogram": [
           {
            "marker": {
             "pattern": {
              "fillmode": "overlay",
              "size": 10,
              "solidity": 0.2
             }
            },
            "type": "histogram"
           }
          ],
          "scattergl": [
           {
            "type": "scattergl",
            "marker": {
             "colorbar": {
              "outlinewidth": 0,
              "ticks": ""
             }
            }
           }
          ],
          "scatter3d": [
           {
            "type": "scatter3d",
            "line": {
             "colorbar": {
              "outlinewidth": 0,
              "ticks": ""
             }
            },
            "marker": {
             "colorbar": {
              "outlinewidth": 0,
              "ticks": ""
             }
            }
           }
          ],
          "scattermapbox": [
           {
            "type": "scattermapbox",
            "marker": {
             "colorbar": {
              "outlinewidth": 0,
              "ticks": ""
             }
            }
           }
          ],
          "scatterternary": [
           {
            "type": "scatterternary",
            "marker": {
             "colorbar": {
              "outlinewidth": 0,
              "ticks": ""
             }
            }
           }
          ],
          "scattercarpet": [
           {
            "type": "scattercarpet",
            "marker": {
             "colorbar": {
              "outlinewidth": 0,
              "ticks": ""
             }
            }
           }
          ],
          "carpet": [
           {
            "aaxis": {
             "endlinecolor": "#2a3f5f",
             "gridcolor": "white",
             "linecolor": "white",
             "minorgridcolor": "white",
             "startlinecolor": "#2a3f5f"
            },
            "baxis": {
             "endlinecolor": "#2a3f5f",
             "gridcolor": "white",
             "linecolor": "white",
             "minorgridcolor": "white",
             "startlinecolor": "#2a3f5f"
            },
            "type": "carpet"
           }
          ],
          "table": [
           {
            "cells": {
             "fill": {
              "color": "#EBF0F8"
             },
             "line": {
              "color": "white"
             }
            },
            "header": {
             "fill": {
              "color": "#C8D4E3"
             },
             "line": {
              "color": "white"
             }
            },
            "type": "table"
           }
          ],
          "barpolar": [
           {
            "marker": {
             "line": {
              "color": "#E5ECF6",
              "width": 0.5
             },
             "pattern": {
              "fillmode": "overlay",
              "size": 10,
              "solidity": 0.2
             }
            },
            "type": "barpolar"
           }
          ],
          "pie": [
           {
            "automargin": true,
            "type": "pie"
           }
          ]
         },
         "layout": {
          "autotypenumbers": "strict",
          "colorway": [
           "#636efa",
           "#EF553B",
           "#00cc96",
           "#ab63fa",
           "#FFA15A",
           "#19d3f3",
           "#FF6692",
           "#B6E880",
           "#FF97FF",
           "#FECB52"
          ],
          "font": {
           "color": "#2a3f5f"
          },
          "hovermode": "closest",
          "hoverlabel": {
           "align": "left"
          },
          "paper_bgcolor": "white",
          "plot_bgcolor": "#E5ECF6",
          "polar": {
           "bgcolor": "#E5ECF6",
           "angularaxis": {
            "gridcolor": "white",
            "linecolor": "white",
            "ticks": ""
           },
           "radialaxis": {
            "gridcolor": "white",
            "linecolor": "white",
            "ticks": ""
           }
          },
          "ternary": {
           "bgcolor": "#E5ECF6",
           "aaxis": {
            "gridcolor": "white",
            "linecolor": "white",
            "ticks": ""
           },
           "baxis": {
            "gridcolor": "white",
            "linecolor": "white",
            "ticks": ""
           },
           "caxis": {
            "gridcolor": "white",
            "linecolor": "white",
            "ticks": ""
           }
          },
          "coloraxis": {
           "colorbar": {
            "outlinewidth": 0,
            "ticks": ""
           }
          },
          "colorscale": {
           "sequential": [
            [
             0.0,
             "#0d0887"
            ],
            [
             0.1111111111111111,
             "#46039f"
            ],
            [
             0.2222222222222222,
             "#7201a8"
            ],
            [
             0.3333333333333333,
             "#9c179e"
            ],
            [
             0.4444444444444444,
             "#bd3786"
            ],
            [
             0.5555555555555556,
             "#d8576b"
            ],
            [
             0.6666666666666666,
             "#ed7953"
            ],
            [
             0.7777777777777778,
             "#fb9f3a"
            ],
            [
             0.8888888888888888,
             "#fdca26"
            ],
            [
             1.0,
             "#f0f921"
            ]
           ],
           "sequentialminus": [
            [
             0.0,
             "#0d0887"
            ],
            [
             0.1111111111111111,
             "#46039f"
            ],
            [
             0.2222222222222222,
             "#7201a8"
            ],
            [
             0.3333333333333333,
             "#9c179e"
            ],
            [
             0.4444444444444444,
             "#bd3786"
            ],
            [
             0.5555555555555556,
             "#d8576b"
            ],
            [
             0.6666666666666666,
             "#ed7953"
            ],
            [
             0.7777777777777778,
             "#fb9f3a"
            ],
            [
             0.8888888888888888,
             "#fdca26"
            ],
            [
             1.0,
             "#f0f921"
            ]
           ],
           "diverging": [
            [
             0,
             "#8e0152"
            ],
            [
             0.1,
             "#c51b7d"
            ],
            [
             0.2,
             "#de77ae"
            ],
            [
             0.3,
             "#f1b6da"
            ],
            [
             0.4,
             "#fde0ef"
            ],
            [
             0.5,
             "#f7f7f7"
            ],
            [
             0.6,
             "#e6f5d0"
            ],
            [
             0.7,
             "#b8e186"
            ],
            [
             0.8,
             "#7fbc41"
            ],
            [
             0.9,
             "#4d9221"
            ],
            [
             1,
             "#276419"
            ]
           ]
          },
          "xaxis": {
           "gridcolor": "white",
           "linecolor": "white",
           "ticks": "",
           "title": {
            "standoff": 15
           },
           "zerolinecolor": "white",
           "automargin": true,
           "zerolinewidth": 2
          },
          "yaxis": {
           "gridcolor": "white",
           "linecolor": "white",
           "ticks": "",
           "title": {
            "standoff": 15
           },
           "zerolinecolor": "white",
           "automargin": true,
           "zerolinewidth": 2
          },
          "scene": {
           "xaxis": {
            "backgroundcolor": "#E5ECF6",
            "gridcolor": "white",
            "linecolor": "white",
            "showbackground": true,
            "ticks": "",
            "zerolinecolor": "white",
            "gridwidth": 2
           },
           "yaxis": {
            "backgroundcolor": "#E5ECF6",
            "gridcolor": "white",
            "linecolor": "white",
            "showbackground": true,
            "ticks": "",
            "zerolinecolor": "white",
            "gridwidth": 2
           },
           "zaxis": {
            "backgroundcolor": "#E5ECF6",
            "gridcolor": "white",
            "linecolor": "white",
            "showbackground": true,
            "ticks": "",
            "zerolinecolor": "white",
            "gridwidth": 2
           }
          },
          "shapedefaults": {
           "line": {
            "color": "#2a3f5f"
           }
          },
          "annotationdefaults": {
           "arrowcolor": "#2a3f5f",
           "arrowhead": 0,
           "arrowwidth": 1
          },
          "geo": {
           "bgcolor": "white",
           "landcolor": "#E5ECF6",
           "subunitcolor": "white",
           "showland": true,
           "showlakes": true,
           "lakecolor": "white"
          },
          "title": {
           "x": 0.05
          },
          "mapbox": {
           "style": "light"
          }
         }
        },
        "title": {
         "text": "Basic Sankey Diagram"
        },
        "font": {
         "size": 16
        },
        "height": 600,
        "width": 1000
       },
       "config": {
        "toImageButtonOptions": {
         "format": "png",
         "filename": "solhycool_plot",
         "height": 600,
         "width": 1000,
         "scale": 2
        },
        "modeBarButtonsToAdd": [
         "drawline",
         "drawopenpath",
         "drawclosedpath",
         "drawcircle",
         "drawrect",
         "eraseshape"
        ],
        "plotlyServerURL": "https://plot.ly"
       }
      },
      "text/html": "<div>                            <div id=\"46970c8c-98e2-43b6-b2c2-a50d6104fd54\" class=\"plotly-graph-div\" style=\"height:600px; width:1000px;\"></div>            <script type=\"text/javascript\">                require([\"plotly\"], function(Plotly) {                    window.PLOTLYENV=window.PLOTLYENV || {};                                    if (document.getElementById(\"46970c8c-98e2-43b6-b2c2-a50d6104fd54\")) {                    Plotly.newPlot(                        \"46970c8c-98e2-43b6-b2c2-a50d6104fd54\",                        [{\"arrangement\":\"freeform\",\"link\":{\"arrowlen\":1,\"color\":[\"rgba(131, 179, 102, 0.6)\",\"rgba(149, 115, 166, 0.6)\",\"rgba(131, 179, 102, 0.6)\",\"rgba(108, 142, 191, 0.6)\",\"rgba(149, 115, 166, 0.6)\",\"rgba(149, 115, 166, 0.6)\",\"rgba(149, 115, 166, 0.6)\",\"rgba(108, 142, 191, 0.6)\"],\"source\":[0,0,1,4,1,2,3,5],\"target\":[1,2,4,0,3,5,5,0],\"value\":[0.5375768479471943,0.46242315205280565,0.04964870100880724,0.04964870100880724,0.48792814693838704,0.46242315205280565,0.48792814693838704,0.9503512989911926]},\"node\":{\"color\":\"steelblue\",\"label\":[\"q\\u003csub\\u003ec\\u003c\\u002fsub\\u003e\",\"DC\",\"WCT PP\",\"DC-WCT\",\"just DC\",\"WCT\",\"q\\u003csub\\u003ec\\u003c\\u002fsub\\u003e\"],\"line\":{\"color\":\"steelblue\",\"width\":0.5},\"pad\":15,\"thickness\":20,\"x\":[0.1,0.3,0.3,0.5,0.5,0.7,0.9]},\"type\":\"sankey\"}],                        {\"template\":{\"data\":{\"histogram2dcontour\":[{\"type\":\"histogram2dcontour\",\"colorbar\":{\"outlinewidth\":0,\"ticks\":\"\"},\"colorscale\":[[0.0,\"#0d0887\"],[0.1111111111111111,\"#46039f\"],[0.2222222222222222,\"#7201a8\"],[0.3333333333333333,\"#9c179e\"],[0.4444444444444444,\"#bd3786\"],[0.5555555555555556,\"#d8576b\"],[0.6666666666666666,\"#ed7953\"],[0.7777777777777778,\"#fb9f3a\"],[0.8888888888888888,\"#fdca26\"],[1.0,\"#f0f921\"]]}],\"choropleth\":[{\"type\":\"choropleth\",\"colorbar\":{\"outlinewidth\":0,\"ticks\":\"\"}}],\"histogram2d\":[{\"type\":\"histogram2d\",\"colorbar\":{\"outlinewidth\":0,\"ticks\":\"\"},\"colorscale\":[[0.0,\"#0d0887\"],[0.1111111111111111,\"#46039f\"],[0.2222222222222222,\"#7201a8\"],[0.3333333333333333,\"#9c179e\"],[0.4444444444444444,\"#bd3786\"],[0.5555555555555556,\"#d8576b\"],[0.6666666666666666,\"#ed7953\"],[0.7777777777777778,\"#fb9f3a\"],[0.8888888888888888,\"#fdca26\"],[1.0,\"#f0f921\"]]}],\"heatmap\":[{\"type\":\"heatmap\",\"colorbar\":{\"outlinewidth\":0,\"ticks\":\"\"},\"colorscale\":[[0.0,\"#0d0887\"],[0.1111111111111111,\"#46039f\"],[0.2222222222222222,\"#7201a8\"],[0.3333333333333333,\"#9c179e\"],[0.4444444444444444,\"#bd3786\"],[0.5555555555555556,\"#d8576b\"],[0.6666666666666666,\"#ed7953\"],[0.7777777777777778,\"#fb9f3a\"],[0.8888888888888888,\"#fdca26\"],[1.0,\"#f0f921\"]]}],\"heatmapgl\":[{\"type\":\"heatmapgl\",\"colorbar\":{\"outlinewidth\":0,\"ticks\":\"\"},\"colorscale\":[[0.0,\"#0d0887\"],[0.1111111111111111,\"#46039f\"],[0.2222222222222222,\"#7201a8\"],[0.3333333333333333,\"#9c179e\"],[0.4444444444444444,\"#bd3786\"],[0.5555555555555556,\"#d8576b\"],[0.6666666666666666,\"#ed7953\"],[0.7777777777777778,\"#fb9f3a\"],[0.8888888888888888,\"#fdca26\"],[1.0,\"#f0f921\"]]}],\"contourcarpet\":[{\"type\":\"contourcarpet\",\"colorbar\":{\"outlinewidth\":0,\"ticks\":\"\"}}],\"contour\":[{\"type\":\"contour\",\"colorbar\":{\"outlinewidth\":0,\"ticks\":\"\"},\"colorscale\":[[0.0,\"#0d0887\"],[0.1111111111111111,\"#46039f\"],[0.2222222222222222,\"#7201a8\"],[0.3333333333333333,\"#9c179e\"],[0.4444444444444444,\"#bd3786\"],[0.5555555555555556,\"#d8576b\"],[0.6666666666666666,\"#ed7953\"],[0.7777777777777778,\"#fb9f3a\"],[0.8888888888888888,\"#fdca26\"],[1.0,\"#f0f921\"]]}],\"surface\":[{\"type\":\"surface\",\"colorbar\":{\"outlinewidth\":0,\"ticks\":\"\"},\"colorscale\":[[0.0,\"#0d0887\"],[0.1111111111111111,\"#46039f\"],[0.2222222222222222,\"#7201a8\"],[0.3333333333333333,\"#9c179e\"],[0.4444444444444444,\"#bd3786\"],[0.5555555555555556,\"#d8576b\"],[0.6666666666666666,\"#ed7953\"],[0.7777777777777778,\"#fb9f3a\"],[0.8888888888888888,\"#fdca26\"],[1.0,\"#f0f921\"]]}],\"mesh3d\":[{\"type\":\"mesh3d\",\"colorbar\":{\"outlinewidth\":0,\"ticks\":\"\"}}],\"scatter\":[{\"fillpattern\":{\"fillmode\":\"overlay\",\"size\":10,\"solidity\":0.2},\"type\":\"scatter\"}],\"parcoords\":[{\"type\":\"parcoords\",\"line\":{\"colorbar\":{\"outlinewidth\":0,\"ticks\":\"\"}}}],\"scatterpolargl\":[{\"type\":\"scatterpolargl\",\"marker\":{\"colorbar\":{\"outlinewidth\":0,\"ticks\":\"\"}}}],\"bar\":[{\"error_x\":{\"color\":\"#2a3f5f\"},\"error_y\":{\"color\":\"#2a3f5f\"},\"marker\":{\"line\":{\"color\":\"#E5ECF6\",\"width\":0.5},\"pattern\":{\"fillmode\":\"overlay\",\"size\":10,\"solidity\":0.2}},\"type\":\"bar\"}],\"scattergeo\":[{\"type\":\"scattergeo\",\"marker\":{\"colorbar\":{\"outlinewidth\":0,\"ticks\":\"\"}}}],\"scatterpolar\":[{\"type\":\"scatterpolar\",\"marker\":{\"colorbar\":{\"outlinewidth\":0,\"ticks\":\"\"}}}],\"histogram\":[{\"marker\":{\"pattern\":{\"fillmode\":\"overlay\",\"size\":10,\"solidity\":0.2}},\"type\":\"histogram\"}],\"scattergl\":[{\"type\":\"scattergl\",\"marker\":{\"colorbar\":{\"outlinewidth\":0,\"ticks\":\"\"}}}],\"scatter3d\":[{\"type\":\"scatter3d\",\"line\":{\"colorbar\":{\"outlinewidth\":0,\"ticks\":\"\"}},\"marker\":{\"colorbar\":{\"outlinewidth\":0,\"ticks\":\"\"}}}],\"scattermapbox\":[{\"type\":\"scattermapbox\",\"marker\":{\"colorbar\":{\"outlinewidth\":0,\"ticks\":\"\"}}}],\"scatterternary\":[{\"type\":\"scatterternary\",\"marker\":{\"colorbar\":{\"outlinewidth\":0,\"ticks\":\"\"}}}],\"scattercarpet\":[{\"type\":\"scattercarpet\",\"marker\":{\"colorbar\":{\"outlinewidth\":0,\"ticks\":\"\"}}}],\"carpet\":[{\"aaxis\":{\"endlinecolor\":\"#2a3f5f\",\"gridcolor\":\"white\",\"linecolor\":\"white\",\"minorgridcolor\":\"white\",\"startlinecolor\":\"#2a3f5f\"},\"baxis\":{\"endlinecolor\":\"#2a3f5f\",\"gridcolor\":\"white\",\"linecolor\":\"white\",\"minorgridcolor\":\"white\",\"startlinecolor\":\"#2a3f5f\"},\"type\":\"carpet\"}],\"table\":[{\"cells\":{\"fill\":{\"color\":\"#EBF0F8\"},\"line\":{\"color\":\"white\"}},\"header\":{\"fill\":{\"color\":\"#C8D4E3\"},\"line\":{\"color\":\"white\"}},\"type\":\"table\"}],\"barpolar\":[{\"marker\":{\"line\":{\"color\":\"#E5ECF6\",\"width\":0.5},\"pattern\":{\"fillmode\":\"overlay\",\"size\":10,\"solidity\":0.2}},\"type\":\"barpolar\"}],\"pie\":[{\"automargin\":true,\"type\":\"pie\"}]},\"layout\":{\"autotypenumbers\":\"strict\",\"colorway\":[\"#636efa\",\"#EF553B\",\"#00cc96\",\"#ab63fa\",\"#FFA15A\",\"#19d3f3\",\"#FF6692\",\"#B6E880\",\"#FF97FF\",\"#FECB52\"],\"font\":{\"color\":\"#2a3f5f\"},\"hovermode\":\"closest\",\"hoverlabel\":{\"align\":\"left\"},\"paper_bgcolor\":\"white\",\"plot_bgcolor\":\"#E5ECF6\",\"polar\":{\"bgcolor\":\"#E5ECF6\",\"angularaxis\":{\"gridcolor\":\"white\",\"linecolor\":\"white\",\"ticks\":\"\"},\"radialaxis\":{\"gridcolor\":\"white\",\"linecolor\":\"white\",\"ticks\":\"\"}},\"ternary\":{\"bgcolor\":\"#E5ECF6\",\"aaxis\":{\"gridcolor\":\"white\",\"linecolor\":\"white\",\"ticks\":\"\"},\"baxis\":{\"gridcolor\":\"white\",\"linecolor\":\"white\",\"ticks\":\"\"},\"caxis\":{\"gridcolor\":\"white\",\"linecolor\":\"white\",\"ticks\":\"\"}},\"coloraxis\":{\"colorbar\":{\"outlinewidth\":0,\"ticks\":\"\"}},\"colorscale\":{\"sequential\":[[0.0,\"#0d0887\"],[0.1111111111111111,\"#46039f\"],[0.2222222222222222,\"#7201a8\"],[0.3333333333333333,\"#9c179e\"],[0.4444444444444444,\"#bd3786\"],[0.5555555555555556,\"#d8576b\"],[0.6666666666666666,\"#ed7953\"],[0.7777777777777778,\"#fb9f3a\"],[0.8888888888888888,\"#fdca26\"],[1.0,\"#f0f921\"]],\"sequentialminus\":[[0.0,\"#0d0887\"],[0.1111111111111111,\"#46039f\"],[0.2222222222222222,\"#7201a8\"],[0.3333333333333333,\"#9c179e\"],[0.4444444444444444,\"#bd3786\"],[0.5555555555555556,\"#d8576b\"],[0.6666666666666666,\"#ed7953\"],[0.7777777777777778,\"#fb9f3a\"],[0.8888888888888888,\"#fdca26\"],[1.0,\"#f0f921\"]],\"diverging\":[[0,\"#8e0152\"],[0.1,\"#c51b7d\"],[0.2,\"#de77ae\"],[0.3,\"#f1b6da\"],[0.4,\"#fde0ef\"],[0.5,\"#f7f7f7\"],[0.6,\"#e6f5d0\"],[0.7,\"#b8e186\"],[0.8,\"#7fbc41\"],[0.9,\"#4d9221\"],[1,\"#276419\"]]},\"xaxis\":{\"gridcolor\":\"white\",\"linecolor\":\"white\",\"ticks\":\"\",\"title\":{\"standoff\":15},\"zerolinecolor\":\"white\",\"automargin\":true,\"zerolinewidth\":2},\"yaxis\":{\"gridcolor\":\"white\",\"linecolor\":\"white\",\"ticks\":\"\",\"title\":{\"standoff\":15},\"zerolinecolor\":\"white\",\"automargin\":true,\"zerolinewidth\":2},\"scene\":{\"xaxis\":{\"backgroundcolor\":\"#E5ECF6\",\"gridcolor\":\"white\",\"linecolor\":\"white\",\"showbackground\":true,\"ticks\":\"\",\"zerolinecolor\":\"white\",\"gridwidth\":2},\"yaxis\":{\"backgroundcolor\":\"#E5ECF6\",\"gridcolor\":\"white\",\"linecolor\":\"white\",\"showbackground\":true,\"ticks\":\"\",\"zerolinecolor\":\"white\",\"gridwidth\":2},\"zaxis\":{\"backgroundcolor\":\"#E5ECF6\",\"gridcolor\":\"white\",\"linecolor\":\"white\",\"showbackground\":true,\"ticks\":\"\",\"zerolinecolor\":\"white\",\"gridwidth\":2}},\"shapedefaults\":{\"line\":{\"color\":\"#2a3f5f\"}},\"annotationdefaults\":{\"arrowcolor\":\"#2a3f5f\",\"arrowhead\":0,\"arrowwidth\":1},\"geo\":{\"bgcolor\":\"white\",\"landcolor\":\"#E5ECF6\",\"subunitcolor\":\"white\",\"showland\":true,\"showlakes\":true,\"lakecolor\":\"white\"},\"title\":{\"x\":0.05},\"mapbox\":{\"style\":\"light\"}}},\"title\":{\"text\":\"Basic Sankey Diagram\"},\"font\":{\"size\":16},\"height\":600,\"width\":1000},                        {\"toImageButtonOptions\": {\"format\": \"png\", \"filename\": \"solhycool_plot\", \"height\": 600, \"width\": 1000, \"scale\": 2}, \"modeBarButtonsToAdd\": [\"drawline\", \"drawopenpath\", \"drawclosedpath\", \"drawcircle\", \"drawrect\", \"eraseshape\"], \"responsive\": true}                    ).then(function(){\n                            \nvar gd = document.getElementById('46970c8c-98e2-43b6-b2c2-a50d6104fd54');\nvar x = new MutationObserver(function (mutations, observer) {{\n        var display = window.getComputedStyle(gd).display;\n        if (!display || display === 'none') {{\n            console.log([gd, 'removed!']);\n            Plotly.purge(gd);\n            observer.disconnect();\n        }}\n}});\n\n// Listen for the removal of the full notebook cells\nvar notebookContainer = gd.closest('#notebook-container');\nif (notebookContainer) {{\n    x.observe(notebookContainer, {childList: true});\n}}\n\n// Listen for the clearing of the current output cell\nvar outputEl = gd.closest('.output');\nif (outputEl) {{\n    x.observe(outputEl, {childList: true});\n}}\n\n                        })                };                });            </script>        </div>"
     },
     "metadata": {},
     "output_type": "display_data"
    }
   ],
   "source": [
    "import plotly.graph_objects as go\n",
    "from solhycool_visualizations.constants import color_palette, default_fontsize\n",
    "\n",
    "case_study = list(opt_results.values())[0]\n",
    "p = case_study['solutions'][ case_study['selected_solution_idx']+1 ]\n",
    "\n",
    "R1 = p['R1']\n",
    "R2 = p['R2']\n",
    "dc = 1-R1\n",
    "wct_pp = R1\n",
    "just_dc = dc*(1-R2)\n",
    "dc_wct = dc*R2\n",
    "wct = wct_pp + dc_wct\n",
    "\n",
    "N = 5\n",
    "alpha = 0.6\n",
    "cp = color_palette\n",
    "dc_color = f'rgba({cp[\"dc_green_rgb\"]}, {alpha})'\n",
    "wct_color = f'rgba({cp[\"wct_purple_rgb\"]}, {alpha})'\n",
    "c_color = f'rgba({cp[\"c_blue_rgb\"]}, {alpha})'\n",
    "\n",
    "fig = go.Figure(\n",
    "    data=[\n",
    "        go.Sankey(\n",
    "            \n",
    "            arrangement = \"freeform\",\n",
    "            node = dict(\n",
    "                pad = 15,\n",
    "                thickness = 20,\n",
    "                \n",
    "                line = dict(color = color_palette[\"bg_blue\"], width = 0.5),\n",
    "                label = [\"q<sub>c</sub>\", \"DC\", \"WCT PP\", \"DC-WCT\", \"just DC\", \"WCT\", \"q<sub>c</sub>\"],\n",
    "                #      [0                 1      2         3          4        5        6]\n",
    "                color = color_palette[\"bg_blue\"],\n",
    "                x = [0.1, 0.3, 0.3, 0.5, 0.5, 0.7, 0.9 ],\n",
    "                # y = [0.5, 0.7, 0.3, 0.3, 0.7, 0.3, 0.5]\n",
    "            ),\n",
    "            link = dict(\n",
    "                arrowlen=1,\n",
    "                source = [0,  0,      1,        4,      1,      2,      3,         5],\n",
    "                target = [1,  2,      4,        0,      3,      5,      5,         0],\n",
    "                value  = [dc, wct_pp, just_dc, just_dc, dc_wct, wct_pp, dc_wct, wct],\n",
    "                color = [dc_color, wct_color, dc_color, c_color, wct_color, wct_color, wct_color, c_color]\n",
    "            )\n",
    "        )\n",
    "    ]\n",
    ")\n",
    "\n",
    "fig.update_layout(\n",
    "    title_text=\"Basic Sankey Diagram\", \n",
    "    font_size=default_fontsize,\n",
    "    height=600,\n",
    "    width=1000,\n",
    ")\n",
    "\n",
    "fig.show(config=generate_plotly_config(fig))"
   ],
   "metadata": {
    "collapsed": false,
    "ExecuteTime": {
     "end_time": "2024-01-10T12:40:14.469958741Z",
     "start_time": "2024-01-10T12:40:13.455971106Z"
    }
   },
   "id": "da85b76999c0aade",
   "execution_count": 52
  },
  {
   "cell_type": "code",
   "outputs": [
    {
     "name": "stderr",
     "output_type": "stream",
     "text": [
      "\u001B[32m2024-01-10 13:40:26.927\u001B[0m | \u001B[1mINFO    \u001B[0m | \u001B[36msolhycool_visualizations\u001B[0m:\u001B[36msave_figure\u001B[0m:\u001B[36m24\u001B[0m - \u001B[1mFigure saved in /home/patomareao/Nextcloud/Juanmi_MED_PSA/WASCOP/Optimización/202312_PID2024/results/figures/sankey_CS_20240108_11H12M_Ta12_HR48_Tv45_Pth165.png\u001B[0m\n",
      "\u001B[32m2024-01-10 13:40:26.950\u001B[0m | \u001B[1mINFO    \u001B[0m | \u001B[36msolhycool_visualizations\u001B[0m:\u001B[36msave_figure\u001B[0m:\u001B[36m24\u001B[0m - \u001B[1mFigure saved in /home/patomareao/Nextcloud/Juanmi_MED_PSA/WASCOP/Optimización/202312_PID2024/results/figures/sankey_CS_20240108_11H12M_Ta12_HR48_Tv45_Pth165.svg\u001B[0m\n",
      "\u001B[32m2024-01-10 13:40:26.952\u001B[0m | \u001B[1mINFO    \u001B[0m | \u001B[36msolhycool_visualizations\u001B[0m:\u001B[36msave_figure\u001B[0m:\u001B[36m24\u001B[0m - \u001B[1mFigure saved in /home/patomareao/Nextcloud/Juanmi_MED_PSA/WASCOP/Optimización/202312_PID2024/results/figures/sankey_CS_20240108_11H12M_Ta12_HR48_Tv45_Pth165.html\u001B[0m\n"
     ]
    }
   ],
   "source": [
    "save_figure(\n",
    "    figure_name=f\"sankey_{case_study['id']}\",\n",
    "    figure_path=results_path / \"figures\",\n",
    "    fig=fig, formats=['png', 'svg', 'html'],\n",
    "    width=fig.layout.width, height=fig.layout.height, scale=2\n",
    ")"
   ],
   "metadata": {
    "collapsed": false,
    "ExecuteTime": {
     "end_time": "2024-01-10T12:40:26.973576567Z",
     "start_time": "2024-01-10T12:40:26.856023336Z"
    }
   },
   "id": "439ddc51587e2db5",
   "execution_count": 54
  },
  {
   "cell_type": "markdown",
   "source": [
    "## Visualización de las distintas configuraciones escogidas"
   ],
   "metadata": {
    "collapsed": false
   },
   "id": "cc70837d04ba4a5f"
  },
  {
   "cell_type": "code",
   "outputs": [
    {
     "name": "stdout",
     "output_type": "stream",
     "text": [
      "DatetimeIndex(['2024-01-08 11:12:46+00:00', '2024-01-08 11:45:03+00:00',\n",
      "               '2024-01-08 12:17:21+00:00', '2024-01-08 13:30:53+00:00'],\n",
      "              dtype='datetime64[ns, UTC]', name='time', freq=None)\n"
     ]
    }
   ],
   "source": [
    "print(df_opt.index)"
   ],
   "metadata": {
    "collapsed": false,
    "ExecuteTime": {
     "end_time": "2024-01-10T19:58:37.319036685Z",
     "start_time": "2024-01-10T19:58:36.092974202Z"
    }
   },
   "id": "4d52cf560af98e91",
   "execution_count": 71
  },
  {
   "cell_type": "code",
   "outputs": [
    {
     "data": {
      "text/plain": "                                Tamb         HR        R1        R2     Ce_dc  \\\ntime                                                                            \n2024-01-08 11:12:46+00:00  12.235008  48.199804  0.482368  0.950691  0.052505   \n2024-01-08 11:45:03+00:00  12.599754  47.014233  0.381558  0.859442  0.057333   \n2024-01-08 12:17:21+00:00  13.187537  46.045497  0.351124  0.894782  0.101954   \n2024-01-08 13:30:53+00:00  14.071567  39.171157  0.180487  0.940048  0.071204   \n\n                             Ce_wct     Ce_cc      Cw_wct      q_wct  \\\ntime                                                                   \n2024-01-08 11:12:46+00:00  0.130985  0.183489  142.769279  15.343790   \n2024-01-08 11:45:03+00:00  0.141316  0.198650  144.419823  16.767798   \n2024-01-08 12:17:21+00:00  0.132520  0.234474  149.261974  15.248392   \n2024-01-08 13:30:53+00:00  0.130187  0.201391  123.907855  17.727388   \n\n                                q_dc  ...         Pth      Tc_in        Ce  \\\ntime                                  ...                                    \n2024-01-08 11:12:46+00:00   8.150460  ...  164.519621  31.966030  1.807055   \n2024-01-08 11:45:03+00:00  11.357141  ...  189.653332  31.964161  2.571076   \n2024-01-08 12:17:21+00:00  10.619331  ...  173.792500  32.539397  2.019095   \n2024-01-08 13:30:53+00:00  15.278481  ...  194.945777  31.948542  2.664576   \n\n                                   Cw      Ce_c  q_c_min  q_c_max  q_dc_min  \\\ntime                                                                          \n2024-01-08 11:12:46+00:00  142.769279  1.623566       12       24         5   \n2024-01-08 11:45:03+00:00  144.419823  2.372426       12       24         5   \n2024-01-08 12:17:21+00:00  149.261974  1.784620       12       24         5   \n2024-01-08 13:30:53+00:00  123.907855  2.463185       12       24         5   \n\n                           q_wct_min  computation_time  \ntime                                                    \n2024-01-08 11:12:46+00:00        5.7        313.322482  \n2024-01-08 11:45:03+00:00        5.7        419.036150  \n2024-01-08 12:17:21+00:00        5.7        325.013282  \n2024-01-08 13:30:53+00:00        5.7        338.504662  \n\n[4 rows x 31 columns]",
      "text/html": "<div>\n<style scoped>\n    .dataframe tbody tr th:only-of-type {\n        vertical-align: middle;\n    }\n\n    .dataframe tbody tr th {\n        vertical-align: top;\n    }\n\n    .dataframe thead th {\n        text-align: right;\n    }\n</style>\n<table border=\"1\" class=\"dataframe\">\n  <thead>\n    <tr style=\"text-align: right;\">\n      <th></th>\n      <th>Tamb</th>\n      <th>HR</th>\n      <th>R1</th>\n      <th>R2</th>\n      <th>Ce_dc</th>\n      <th>Ce_wct</th>\n      <th>Ce_cc</th>\n      <th>Cw_wct</th>\n      <th>q_wct</th>\n      <th>q_dc</th>\n      <th>...</th>\n      <th>Pth</th>\n      <th>Tc_in</th>\n      <th>Ce</th>\n      <th>Cw</th>\n      <th>Ce_c</th>\n      <th>q_c_min</th>\n      <th>q_c_max</th>\n      <th>q_dc_min</th>\n      <th>q_wct_min</th>\n      <th>computation_time</th>\n    </tr>\n    <tr>\n      <th>time</th>\n      <th></th>\n      <th></th>\n      <th></th>\n      <th></th>\n      <th></th>\n      <th></th>\n      <th></th>\n      <th></th>\n      <th></th>\n      <th></th>\n      <th></th>\n      <th></th>\n      <th></th>\n      <th></th>\n      <th></th>\n      <th></th>\n      <th></th>\n      <th></th>\n      <th></th>\n      <th></th>\n      <th></th>\n    </tr>\n  </thead>\n  <tbody>\n    <tr>\n      <th>2024-01-08 11:12:46+00:00</th>\n      <td>12.235008</td>\n      <td>48.199804</td>\n      <td>0.482368</td>\n      <td>0.950691</td>\n      <td>0.052505</td>\n      <td>0.130985</td>\n      <td>0.183489</td>\n      <td>142.769279</td>\n      <td>15.343790</td>\n      <td>8.150460</td>\n      <td>...</td>\n      <td>164.519621</td>\n      <td>31.966030</td>\n      <td>1.807055</td>\n      <td>142.769279</td>\n      <td>1.623566</td>\n      <td>12</td>\n      <td>24</td>\n      <td>5</td>\n      <td>5.7</td>\n      <td>313.322482</td>\n    </tr>\n    <tr>\n      <th>2024-01-08 11:45:03+00:00</th>\n      <td>12.599754</td>\n      <td>47.014233</td>\n      <td>0.381558</td>\n      <td>0.859442</td>\n      <td>0.057333</td>\n      <td>0.141316</td>\n      <td>0.198650</td>\n      <td>144.419823</td>\n      <td>16.767798</td>\n      <td>11.357141</td>\n      <td>...</td>\n      <td>189.653332</td>\n      <td>31.964161</td>\n      <td>2.571076</td>\n      <td>144.419823</td>\n      <td>2.372426</td>\n      <td>12</td>\n      <td>24</td>\n      <td>5</td>\n      <td>5.7</td>\n      <td>419.036150</td>\n    </tr>\n    <tr>\n      <th>2024-01-08 12:17:21+00:00</th>\n      <td>13.187537</td>\n      <td>46.045497</td>\n      <td>0.351124</td>\n      <td>0.894782</td>\n      <td>0.101954</td>\n      <td>0.132520</td>\n      <td>0.234474</td>\n      <td>149.261974</td>\n      <td>15.248392</td>\n      <td>10.619331</td>\n      <td>...</td>\n      <td>173.792500</td>\n      <td>32.539397</td>\n      <td>2.019095</td>\n      <td>149.261974</td>\n      <td>1.784620</td>\n      <td>12</td>\n      <td>24</td>\n      <td>5</td>\n      <td>5.7</td>\n      <td>325.013282</td>\n    </tr>\n    <tr>\n      <th>2024-01-08 13:30:53+00:00</th>\n      <td>14.071567</td>\n      <td>39.171157</td>\n      <td>0.180487</td>\n      <td>0.940048</td>\n      <td>0.071204</td>\n      <td>0.130187</td>\n      <td>0.201391</td>\n      <td>123.907855</td>\n      <td>17.727388</td>\n      <td>15.278481</td>\n      <td>...</td>\n      <td>194.945777</td>\n      <td>31.948542</td>\n      <td>2.664576</td>\n      <td>123.907855</td>\n      <td>2.463185</td>\n      <td>12</td>\n      <td>24</td>\n      <td>5</td>\n      <td>5.7</td>\n      <td>338.504662</td>\n    </tr>\n  </tbody>\n</table>\n<p>4 rows × 31 columns</p>\n</div>"
     },
     "metadata": {},
     "output_type": "display_data"
    },
    {
     "data": {
      "application/vnd.plotly.v1+json": {
       "data": [
        {
         "name": "Parallel",
         "opacity": 0.6,
         "x": [
          0,
          1,
          2,
          3
         ],
         "y": [
          48.2368417863736,
          38.15584570930084,
          35.1124254551072,
          18.048700700423897
         ],
         "type": "bar"
        },
        {
         "name": "Series DC - WCT",
         "opacity": 0.6,
         "x": [
          0,
          1,
          2,
          3
         ],
         "y": [
          49.21077978738314,
          53.15148255433858,
          58.06021575778776,
          77.03813230452806
         ],
         "type": "bar"
        },
        {
         "name": "DC only",
         "opacity": 0.6,
         "x": [
          0,
          1,
          2,
          3
         ],
         "y": [
          2.5523784262432594,
          8.692671736360582,
          6.827358787105045,
          4.913166995048031
         ],
         "type": "bar"
        }
       ],
       "layout": {
        "template": {
         "data": {
          "histogram2dcontour": [
           {
            "type": "histogram2dcontour",
            "colorbar": {
             "outlinewidth": 0,
             "ticks": ""
            },
            "colorscale": [
             [
              0.0,
              "#0d0887"
             ],
             [
              0.1111111111111111,
              "#46039f"
             ],
             [
              0.2222222222222222,
              "#7201a8"
             ],
             [
              0.3333333333333333,
              "#9c179e"
             ],
             [
              0.4444444444444444,
              "#bd3786"
             ],
             [
              0.5555555555555556,
              "#d8576b"
             ],
             [
              0.6666666666666666,
              "#ed7953"
             ],
             [
              0.7777777777777778,
              "#fb9f3a"
             ],
             [
              0.8888888888888888,
              "#fdca26"
             ],
             [
              1.0,
              "#f0f921"
             ]
            ]
           }
          ],
          "choropleth": [
           {
            "type": "choropleth",
            "colorbar": {
             "outlinewidth": 0,
             "ticks": ""
            }
           }
          ],
          "histogram2d": [
           {
            "type": "histogram2d",
            "colorbar": {
             "outlinewidth": 0,
             "ticks": ""
            },
            "colorscale": [
             [
              0.0,
              "#0d0887"
             ],
             [
              0.1111111111111111,
              "#46039f"
             ],
             [
              0.2222222222222222,
              "#7201a8"
             ],
             [
              0.3333333333333333,
              "#9c179e"
             ],
             [
              0.4444444444444444,
              "#bd3786"
             ],
             [
              0.5555555555555556,
              "#d8576b"
             ],
             [
              0.6666666666666666,
              "#ed7953"
             ],
             [
              0.7777777777777778,
              "#fb9f3a"
             ],
             [
              0.8888888888888888,
              "#fdca26"
             ],
             [
              1.0,
              "#f0f921"
             ]
            ]
           }
          ],
          "heatmap": [
           {
            "type": "heatmap",
            "colorbar": {
             "outlinewidth": 0,
             "ticks": ""
            },
            "colorscale": [
             [
              0.0,
              "#0d0887"
             ],
             [
              0.1111111111111111,
              "#46039f"
             ],
             [
              0.2222222222222222,
              "#7201a8"
             ],
             [
              0.3333333333333333,
              "#9c179e"
             ],
             [
              0.4444444444444444,
              "#bd3786"
             ],
             [
              0.5555555555555556,
              "#d8576b"
             ],
             [
              0.6666666666666666,
              "#ed7953"
             ],
             [
              0.7777777777777778,
              "#fb9f3a"
             ],
             [
              0.8888888888888888,
              "#fdca26"
             ],
             [
              1.0,
              "#f0f921"
             ]
            ]
           }
          ],
          "heatmapgl": [
           {
            "type": "heatmapgl",
            "colorbar": {
             "outlinewidth": 0,
             "ticks": ""
            },
            "colorscale": [
             [
              0.0,
              "#0d0887"
             ],
             [
              0.1111111111111111,
              "#46039f"
             ],
             [
              0.2222222222222222,
              "#7201a8"
             ],
             [
              0.3333333333333333,
              "#9c179e"
             ],
             [
              0.4444444444444444,
              "#bd3786"
             ],
             [
              0.5555555555555556,
              "#d8576b"
             ],
             [
              0.6666666666666666,
              "#ed7953"
             ],
             [
              0.7777777777777778,
              "#fb9f3a"
             ],
             [
              0.8888888888888888,
              "#fdca26"
             ],
             [
              1.0,
              "#f0f921"
             ]
            ]
           }
          ],
          "contourcarpet": [
           {
            "type": "contourcarpet",
            "colorbar": {
             "outlinewidth": 0,
             "ticks": ""
            }
           }
          ],
          "contour": [
           {
            "type": "contour",
            "colorbar": {
             "outlinewidth": 0,
             "ticks": ""
            },
            "colorscale": [
             [
              0.0,
              "#0d0887"
             ],
             [
              0.1111111111111111,
              "#46039f"
             ],
             [
              0.2222222222222222,
              "#7201a8"
             ],
             [
              0.3333333333333333,
              "#9c179e"
             ],
             [
              0.4444444444444444,
              "#bd3786"
             ],
             [
              0.5555555555555556,
              "#d8576b"
             ],
             [
              0.6666666666666666,
              "#ed7953"
             ],
             [
              0.7777777777777778,
              "#fb9f3a"
             ],
             [
              0.8888888888888888,
              "#fdca26"
             ],
             [
              1.0,
              "#f0f921"
             ]
            ]
           }
          ],
          "surface": [
           {
            "type": "surface",
            "colorbar": {
             "outlinewidth": 0,
             "ticks": ""
            },
            "colorscale": [
             [
              0.0,
              "#0d0887"
             ],
             [
              0.1111111111111111,
              "#46039f"
             ],
             [
              0.2222222222222222,
              "#7201a8"
             ],
             [
              0.3333333333333333,
              "#9c179e"
             ],
             [
              0.4444444444444444,
              "#bd3786"
             ],
             [
              0.5555555555555556,
              "#d8576b"
             ],
             [
              0.6666666666666666,
              "#ed7953"
             ],
             [
              0.7777777777777778,
              "#fb9f3a"
             ],
             [
              0.8888888888888888,
              "#fdca26"
             ],
             [
              1.0,
              "#f0f921"
             ]
            ]
           }
          ],
          "mesh3d": [
           {
            "type": "mesh3d",
            "colorbar": {
             "outlinewidth": 0,
             "ticks": ""
            }
           }
          ],
          "scatter": [
           {
            "fillpattern": {
             "fillmode": "overlay",
             "size": 10,
             "solidity": 0.2
            },
            "type": "scatter"
           }
          ],
          "parcoords": [
           {
            "type": "parcoords",
            "line": {
             "colorbar": {
              "outlinewidth": 0,
              "ticks": ""
             }
            }
           }
          ],
          "scatterpolargl": [
           {
            "type": "scatterpolargl",
            "marker": {
             "colorbar": {
              "outlinewidth": 0,
              "ticks": ""
             }
            }
           }
          ],
          "bar": [
           {
            "error_x": {
             "color": "#2a3f5f"
            },
            "error_y": {
             "color": "#2a3f5f"
            },
            "marker": {
             "line": {
              "color": "#E5ECF6",
              "width": 0.5
             },
             "pattern": {
              "fillmode": "overlay",
              "size": 10,
              "solidity": 0.2
             }
            },
            "type": "bar"
           }
          ],
          "scattergeo": [
           {
            "type": "scattergeo",
            "marker": {
             "colorbar": {
              "outlinewidth": 0,
              "ticks": ""
             }
            }
           }
          ],
          "scatterpolar": [
           {
            "type": "scatterpolar",
            "marker": {
             "colorbar": {
              "outlinewidth": 0,
              "ticks": ""
             }
            }
           }
          ],
          "histogram": [
           {
            "marker": {
             "pattern": {
              "fillmode": "overlay",
              "size": 10,
              "solidity": 0.2
             }
            },
            "type": "histogram"
           }
          ],
          "scattergl": [
           {
            "type": "scattergl",
            "marker": {
             "colorbar": {
              "outlinewidth": 0,
              "ticks": ""
             }
            }
           }
          ],
          "scatter3d": [
           {
            "type": "scatter3d",
            "line": {
             "colorbar": {
              "outlinewidth": 0,
              "ticks": ""
             }
            },
            "marker": {
             "colorbar": {
              "outlinewidth": 0,
              "ticks": ""
             }
            }
           }
          ],
          "scattermapbox": [
           {
            "type": "scattermapbox",
            "marker": {
             "colorbar": {
              "outlinewidth": 0,
              "ticks": ""
             }
            }
           }
          ],
          "scatterternary": [
           {
            "type": "scatterternary",
            "marker": {
             "colorbar": {
              "outlinewidth": 0,
              "ticks": ""
             }
            }
           }
          ],
          "scattercarpet": [
           {
            "type": "scattercarpet",
            "marker": {
             "colorbar": {
              "outlinewidth": 0,
              "ticks": ""
             }
            }
           }
          ],
          "carpet": [
           {
            "aaxis": {
             "endlinecolor": "#2a3f5f",
             "gridcolor": "white",
             "linecolor": "white",
             "minorgridcolor": "white",
             "startlinecolor": "#2a3f5f"
            },
            "baxis": {
             "endlinecolor": "#2a3f5f",
             "gridcolor": "white",
             "linecolor": "white",
             "minorgridcolor": "white",
             "startlinecolor": "#2a3f5f"
            },
            "type": "carpet"
           }
          ],
          "table": [
           {
            "cells": {
             "fill": {
              "color": "#EBF0F8"
             },
             "line": {
              "color": "white"
             }
            },
            "header": {
             "fill": {
              "color": "#C8D4E3"
             },
             "line": {
              "color": "white"
             }
            },
            "type": "table"
           }
          ],
          "barpolar": [
           {
            "marker": {
             "line": {
              "color": "#E5ECF6",
              "width": 0.5
             },
             "pattern": {
              "fillmode": "overlay",
              "size": 10,
              "solidity": 0.2
             }
            },
            "type": "barpolar"
           }
          ],
          "pie": [
           {
            "automargin": true,
            "type": "pie"
           }
          ]
         },
         "layout": {
          "autotypenumbers": "strict",
          "colorway": [
           "#636efa",
           "#EF553B",
           "#00cc96",
           "#ab63fa",
           "#FFA15A",
           "#19d3f3",
           "#FF6692",
           "#B6E880",
           "#FF97FF",
           "#FECB52"
          ],
          "font": {
           "color": "#2a3f5f"
          },
          "hovermode": "closest",
          "hoverlabel": {
           "align": "left"
          },
          "paper_bgcolor": "white",
          "plot_bgcolor": "#E5ECF6",
          "polar": {
           "bgcolor": "#E5ECF6",
           "angularaxis": {
            "gridcolor": "white",
            "linecolor": "white",
            "ticks": ""
           },
           "radialaxis": {
            "gridcolor": "white",
            "linecolor": "white",
            "ticks": ""
           }
          },
          "ternary": {
           "bgcolor": "#E5ECF6",
           "aaxis": {
            "gridcolor": "white",
            "linecolor": "white",
            "ticks": ""
           },
           "baxis": {
            "gridcolor": "white",
            "linecolor": "white",
            "ticks": ""
           },
           "caxis": {
            "gridcolor": "white",
            "linecolor": "white",
            "ticks": ""
           }
          },
          "coloraxis": {
           "colorbar": {
            "outlinewidth": 0,
            "ticks": ""
           }
          },
          "colorscale": {
           "sequential": [
            [
             0.0,
             "#0d0887"
            ],
            [
             0.1111111111111111,
             "#46039f"
            ],
            [
             0.2222222222222222,
             "#7201a8"
            ],
            [
             0.3333333333333333,
             "#9c179e"
            ],
            [
             0.4444444444444444,
             "#bd3786"
            ],
            [
             0.5555555555555556,
             "#d8576b"
            ],
            [
             0.6666666666666666,
             "#ed7953"
            ],
            [
             0.7777777777777778,
             "#fb9f3a"
            ],
            [
             0.8888888888888888,
             "#fdca26"
            ],
            [
             1.0,
             "#f0f921"
            ]
           ],
           "sequentialminus": [
            [
             0.0,
             "#0d0887"
            ],
            [
             0.1111111111111111,
             "#46039f"
            ],
            [
             0.2222222222222222,
             "#7201a8"
            ],
            [
             0.3333333333333333,
             "#9c179e"
            ],
            [
             0.4444444444444444,
             "#bd3786"
            ],
            [
             0.5555555555555556,
             "#d8576b"
            ],
            [
             0.6666666666666666,
             "#ed7953"
            ],
            [
             0.7777777777777778,
             "#fb9f3a"
            ],
            [
             0.8888888888888888,
             "#fdca26"
            ],
            [
             1.0,
             "#f0f921"
            ]
           ],
           "diverging": [
            [
             0,
             "#8e0152"
            ],
            [
             0.1,
             "#c51b7d"
            ],
            [
             0.2,
             "#de77ae"
            ],
            [
             0.3,
             "#f1b6da"
            ],
            [
             0.4,
             "#fde0ef"
            ],
            [
             0.5,
             "#f7f7f7"
            ],
            [
             0.6,
             "#e6f5d0"
            ],
            [
             0.7,
             "#b8e186"
            ],
            [
             0.8,
             "#7fbc41"
            ],
            [
             0.9,
             "#4d9221"
            ],
            [
             1,
             "#276419"
            ]
           ]
          },
          "xaxis": {
           "gridcolor": "white",
           "linecolor": "white",
           "ticks": "",
           "title": {
            "standoff": 15
           },
           "zerolinecolor": "white",
           "automargin": true,
           "zerolinewidth": 2
          },
          "yaxis": {
           "gridcolor": "white",
           "linecolor": "white",
           "ticks": "",
           "title": {
            "standoff": 15
           },
           "zerolinecolor": "white",
           "automargin": true,
           "zerolinewidth": 2
          },
          "scene": {
           "xaxis": {
            "backgroundcolor": "#E5ECF6",
            "gridcolor": "white",
            "linecolor": "white",
            "showbackground": true,
            "ticks": "",
            "zerolinecolor": "white",
            "gridwidth": 2
           },
           "yaxis": {
            "backgroundcolor": "#E5ECF6",
            "gridcolor": "white",
            "linecolor": "white",
            "showbackground": true,
            "ticks": "",
            "zerolinecolor": "white",
            "gridwidth": 2
           },
           "zaxis": {
            "backgroundcolor": "#E5ECF6",
            "gridcolor": "white",
            "linecolor": "white",
            "showbackground": true,
            "ticks": "",
            "zerolinecolor": "white",
            "gridwidth": 2
           }
          },
          "shapedefaults": {
           "line": {
            "color": "#2a3f5f"
           }
          },
          "annotationdefaults": {
           "arrowcolor": "#2a3f5f",
           "arrowhead": 0,
           "arrowwidth": 1
          },
          "geo": {
           "bgcolor": "white",
           "landcolor": "#E5ECF6",
           "subunitcolor": "white",
           "showland": true,
           "showlakes": true,
           "lakecolor": "white"
          },
          "title": {
           "x": 0.05
          },
          "mapbox": {
           "style": "light"
          }
         }
        },
        "xaxis": {
         "tickvals": [
          0,
          1,
          2,
          3
         ],
         "ticktext": [
          "11:12",
          "11:45",
          "12:17",
          "13:30"
         ],
         "title": {
          "text": "Case study"
         }
        },
        "title": {
         "text": "<b>Operation strategy</b><br> "
        },
        "font": {
         "size": 16
        },
        "legend": {
         "title": {
          "text": "Configuration"
         },
         "orientation": "h",
         "yanchor": "bottom",
         "y": 0.98,
         "xanchor": "right",
         "x": 1
        },
        "height": 600,
        "width": 800,
        "yaxis": {
         "title": {
          "text": "Percentage"
         }
        },
        "barmode": "group",
        "bargap": 0.15,
        "bargroupgap": 0.1,
        "plot_bgcolor": "rgba(255,255,255,0.5)"
       },
       "config": {
        "toImageButtonOptions": {
         "format": "png",
         "filename": "solhycool_plot",
         "height": 600,
         "width": 800,
         "scale": 2
        },
        "modeBarButtonsToAdd": [
         "drawline",
         "drawopenpath",
         "drawclosedpath",
         "drawcircle",
         "drawrect",
         "eraseshape"
        ],
        "plotlyServerURL": "https://plot.ly"
       }
      },
      "text/html": "<div>                            <div id=\"9db2e97d-19aa-400d-b4ad-79dd5c624a24\" class=\"plotly-graph-div\" style=\"height:600px; width:800px;\"></div>            <script type=\"text/javascript\">                require([\"plotly\"], function(Plotly) {                    window.PLOTLYENV=window.PLOTLYENV || {};                                    if (document.getElementById(\"9db2e97d-19aa-400d-b4ad-79dd5c624a24\")) {                    Plotly.newPlot(                        \"9db2e97d-19aa-400d-b4ad-79dd5c624a24\",                        [{\"name\":\"Parallel\",\"opacity\":0.6,\"x\":[0,1,2,3],\"y\":[48.2368417863736,38.15584570930084,35.1124254551072,18.048700700423897],\"type\":\"bar\"},{\"name\":\"Series DC - WCT\",\"opacity\":0.6,\"x\":[0,1,2,3],\"y\":[49.21077978738314,53.15148255433858,58.06021575778776,77.03813230452806],\"type\":\"bar\"},{\"name\":\"DC only\",\"opacity\":0.6,\"x\":[0,1,2,3],\"y\":[2.5523784262432594,8.692671736360582,6.827358787105045,4.913166995048031],\"type\":\"bar\"}],                        {\"template\":{\"data\":{\"histogram2dcontour\":[{\"type\":\"histogram2dcontour\",\"colorbar\":{\"outlinewidth\":0,\"ticks\":\"\"},\"colorscale\":[[0.0,\"#0d0887\"],[0.1111111111111111,\"#46039f\"],[0.2222222222222222,\"#7201a8\"],[0.3333333333333333,\"#9c179e\"],[0.4444444444444444,\"#bd3786\"],[0.5555555555555556,\"#d8576b\"],[0.6666666666666666,\"#ed7953\"],[0.7777777777777778,\"#fb9f3a\"],[0.8888888888888888,\"#fdca26\"],[1.0,\"#f0f921\"]]}],\"choropleth\":[{\"type\":\"choropleth\",\"colorbar\":{\"outlinewidth\":0,\"ticks\":\"\"}}],\"histogram2d\":[{\"type\":\"histogram2d\",\"colorbar\":{\"outlinewidth\":0,\"ticks\":\"\"},\"colorscale\":[[0.0,\"#0d0887\"],[0.1111111111111111,\"#46039f\"],[0.2222222222222222,\"#7201a8\"],[0.3333333333333333,\"#9c179e\"],[0.4444444444444444,\"#bd3786\"],[0.5555555555555556,\"#d8576b\"],[0.6666666666666666,\"#ed7953\"],[0.7777777777777778,\"#fb9f3a\"],[0.8888888888888888,\"#fdca26\"],[1.0,\"#f0f921\"]]}],\"heatmap\":[{\"type\":\"heatmap\",\"colorbar\":{\"outlinewidth\":0,\"ticks\":\"\"},\"colorscale\":[[0.0,\"#0d0887\"],[0.1111111111111111,\"#46039f\"],[0.2222222222222222,\"#7201a8\"],[0.3333333333333333,\"#9c179e\"],[0.4444444444444444,\"#bd3786\"],[0.5555555555555556,\"#d8576b\"],[0.6666666666666666,\"#ed7953\"],[0.7777777777777778,\"#fb9f3a\"],[0.8888888888888888,\"#fdca26\"],[1.0,\"#f0f921\"]]}],\"heatmapgl\":[{\"type\":\"heatmapgl\",\"colorbar\":{\"outlinewidth\":0,\"ticks\":\"\"},\"colorscale\":[[0.0,\"#0d0887\"],[0.1111111111111111,\"#46039f\"],[0.2222222222222222,\"#7201a8\"],[0.3333333333333333,\"#9c179e\"],[0.4444444444444444,\"#bd3786\"],[0.5555555555555556,\"#d8576b\"],[0.6666666666666666,\"#ed7953\"],[0.7777777777777778,\"#fb9f3a\"],[0.8888888888888888,\"#fdca26\"],[1.0,\"#f0f921\"]]}],\"contourcarpet\":[{\"type\":\"contourcarpet\",\"colorbar\":{\"outlinewidth\":0,\"ticks\":\"\"}}],\"contour\":[{\"type\":\"contour\",\"colorbar\":{\"outlinewidth\":0,\"ticks\":\"\"},\"colorscale\":[[0.0,\"#0d0887\"],[0.1111111111111111,\"#46039f\"],[0.2222222222222222,\"#7201a8\"],[0.3333333333333333,\"#9c179e\"],[0.4444444444444444,\"#bd3786\"],[0.5555555555555556,\"#d8576b\"],[0.6666666666666666,\"#ed7953\"],[0.7777777777777778,\"#fb9f3a\"],[0.8888888888888888,\"#fdca26\"],[1.0,\"#f0f921\"]]}],\"surface\":[{\"type\":\"surface\",\"colorbar\":{\"outlinewidth\":0,\"ticks\":\"\"},\"colorscale\":[[0.0,\"#0d0887\"],[0.1111111111111111,\"#46039f\"],[0.2222222222222222,\"#7201a8\"],[0.3333333333333333,\"#9c179e\"],[0.4444444444444444,\"#bd3786\"],[0.5555555555555556,\"#d8576b\"],[0.6666666666666666,\"#ed7953\"],[0.7777777777777778,\"#fb9f3a\"],[0.8888888888888888,\"#fdca26\"],[1.0,\"#f0f921\"]]}],\"mesh3d\":[{\"type\":\"mesh3d\",\"colorbar\":{\"outlinewidth\":0,\"ticks\":\"\"}}],\"scatter\":[{\"fillpattern\":{\"fillmode\":\"overlay\",\"size\":10,\"solidity\":0.2},\"type\":\"scatter\"}],\"parcoords\":[{\"type\":\"parcoords\",\"line\":{\"colorbar\":{\"outlinewidth\":0,\"ticks\":\"\"}}}],\"scatterpolargl\":[{\"type\":\"scatterpolargl\",\"marker\":{\"colorbar\":{\"outlinewidth\":0,\"ticks\":\"\"}}}],\"bar\":[{\"error_x\":{\"color\":\"#2a3f5f\"},\"error_y\":{\"color\":\"#2a3f5f\"},\"marker\":{\"line\":{\"color\":\"#E5ECF6\",\"width\":0.5},\"pattern\":{\"fillmode\":\"overlay\",\"size\":10,\"solidity\":0.2}},\"type\":\"bar\"}],\"scattergeo\":[{\"type\":\"scattergeo\",\"marker\":{\"colorbar\":{\"outlinewidth\":0,\"ticks\":\"\"}}}],\"scatterpolar\":[{\"type\":\"scatterpolar\",\"marker\":{\"colorbar\":{\"outlinewidth\":0,\"ticks\":\"\"}}}],\"histogram\":[{\"marker\":{\"pattern\":{\"fillmode\":\"overlay\",\"size\":10,\"solidity\":0.2}},\"type\":\"histogram\"}],\"scattergl\":[{\"type\":\"scattergl\",\"marker\":{\"colorbar\":{\"outlinewidth\":0,\"ticks\":\"\"}}}],\"scatter3d\":[{\"type\":\"scatter3d\",\"line\":{\"colorbar\":{\"outlinewidth\":0,\"ticks\":\"\"}},\"marker\":{\"colorbar\":{\"outlinewidth\":0,\"ticks\":\"\"}}}],\"scattermapbox\":[{\"type\":\"scattermapbox\",\"marker\":{\"colorbar\":{\"outlinewidth\":0,\"ticks\":\"\"}}}],\"scatterternary\":[{\"type\":\"scatterternary\",\"marker\":{\"colorbar\":{\"outlinewidth\":0,\"ticks\":\"\"}}}],\"scattercarpet\":[{\"type\":\"scattercarpet\",\"marker\":{\"colorbar\":{\"outlinewidth\":0,\"ticks\":\"\"}}}],\"carpet\":[{\"aaxis\":{\"endlinecolor\":\"#2a3f5f\",\"gridcolor\":\"white\",\"linecolor\":\"white\",\"minorgridcolor\":\"white\",\"startlinecolor\":\"#2a3f5f\"},\"baxis\":{\"endlinecolor\":\"#2a3f5f\",\"gridcolor\":\"white\",\"linecolor\":\"white\",\"minorgridcolor\":\"white\",\"startlinecolor\":\"#2a3f5f\"},\"type\":\"carpet\"}],\"table\":[{\"cells\":{\"fill\":{\"color\":\"#EBF0F8\"},\"line\":{\"color\":\"white\"}},\"header\":{\"fill\":{\"color\":\"#C8D4E3\"},\"line\":{\"color\":\"white\"}},\"type\":\"table\"}],\"barpolar\":[{\"marker\":{\"line\":{\"color\":\"#E5ECF6\",\"width\":0.5},\"pattern\":{\"fillmode\":\"overlay\",\"size\":10,\"solidity\":0.2}},\"type\":\"barpolar\"}],\"pie\":[{\"automargin\":true,\"type\":\"pie\"}]},\"layout\":{\"autotypenumbers\":\"strict\",\"colorway\":[\"#636efa\",\"#EF553B\",\"#00cc96\",\"#ab63fa\",\"#FFA15A\",\"#19d3f3\",\"#FF6692\",\"#B6E880\",\"#FF97FF\",\"#FECB52\"],\"font\":{\"color\":\"#2a3f5f\"},\"hovermode\":\"closest\",\"hoverlabel\":{\"align\":\"left\"},\"paper_bgcolor\":\"white\",\"plot_bgcolor\":\"#E5ECF6\",\"polar\":{\"bgcolor\":\"#E5ECF6\",\"angularaxis\":{\"gridcolor\":\"white\",\"linecolor\":\"white\",\"ticks\":\"\"},\"radialaxis\":{\"gridcolor\":\"white\",\"linecolor\":\"white\",\"ticks\":\"\"}},\"ternary\":{\"bgcolor\":\"#E5ECF6\",\"aaxis\":{\"gridcolor\":\"white\",\"linecolor\":\"white\",\"ticks\":\"\"},\"baxis\":{\"gridcolor\":\"white\",\"linecolor\":\"white\",\"ticks\":\"\"},\"caxis\":{\"gridcolor\":\"white\",\"linecolor\":\"white\",\"ticks\":\"\"}},\"coloraxis\":{\"colorbar\":{\"outlinewidth\":0,\"ticks\":\"\"}},\"colorscale\":{\"sequential\":[[0.0,\"#0d0887\"],[0.1111111111111111,\"#46039f\"],[0.2222222222222222,\"#7201a8\"],[0.3333333333333333,\"#9c179e\"],[0.4444444444444444,\"#bd3786\"],[0.5555555555555556,\"#d8576b\"],[0.6666666666666666,\"#ed7953\"],[0.7777777777777778,\"#fb9f3a\"],[0.8888888888888888,\"#fdca26\"],[1.0,\"#f0f921\"]],\"sequentialminus\":[[0.0,\"#0d0887\"],[0.1111111111111111,\"#46039f\"],[0.2222222222222222,\"#7201a8\"],[0.3333333333333333,\"#9c179e\"],[0.4444444444444444,\"#bd3786\"],[0.5555555555555556,\"#d8576b\"],[0.6666666666666666,\"#ed7953\"],[0.7777777777777778,\"#fb9f3a\"],[0.8888888888888888,\"#fdca26\"],[1.0,\"#f0f921\"]],\"diverging\":[[0,\"#8e0152\"],[0.1,\"#c51b7d\"],[0.2,\"#de77ae\"],[0.3,\"#f1b6da\"],[0.4,\"#fde0ef\"],[0.5,\"#f7f7f7\"],[0.6,\"#e6f5d0\"],[0.7,\"#b8e186\"],[0.8,\"#7fbc41\"],[0.9,\"#4d9221\"],[1,\"#276419\"]]},\"xaxis\":{\"gridcolor\":\"white\",\"linecolor\":\"white\",\"ticks\":\"\",\"title\":{\"standoff\":15},\"zerolinecolor\":\"white\",\"automargin\":true,\"zerolinewidth\":2},\"yaxis\":{\"gridcolor\":\"white\",\"linecolor\":\"white\",\"ticks\":\"\",\"title\":{\"standoff\":15},\"zerolinecolor\":\"white\",\"automargin\":true,\"zerolinewidth\":2},\"scene\":{\"xaxis\":{\"backgroundcolor\":\"#E5ECF6\",\"gridcolor\":\"white\",\"linecolor\":\"white\",\"showbackground\":true,\"ticks\":\"\",\"zerolinecolor\":\"white\",\"gridwidth\":2},\"yaxis\":{\"backgroundcolor\":\"#E5ECF6\",\"gridcolor\":\"white\",\"linecolor\":\"white\",\"showbackground\":true,\"ticks\":\"\",\"zerolinecolor\":\"white\",\"gridwidth\":2},\"zaxis\":{\"backgroundcolor\":\"#E5ECF6\",\"gridcolor\":\"white\",\"linecolor\":\"white\",\"showbackground\":true,\"ticks\":\"\",\"zerolinecolor\":\"white\",\"gridwidth\":2}},\"shapedefaults\":{\"line\":{\"color\":\"#2a3f5f\"}},\"annotationdefaults\":{\"arrowcolor\":\"#2a3f5f\",\"arrowhead\":0,\"arrowwidth\":1},\"geo\":{\"bgcolor\":\"white\",\"landcolor\":\"#E5ECF6\",\"subunitcolor\":\"white\",\"showland\":true,\"showlakes\":true,\"lakecolor\":\"white\"},\"title\":{\"x\":0.05},\"mapbox\":{\"style\":\"light\"}}},\"xaxis\":{\"tickvals\":[0,1,2,3],\"ticktext\":[\"11:12\",\"11:45\",\"12:17\",\"13:30\"],\"title\":{\"text\":\"Case study\"}},\"title\":{\"text\":\"\\u003cb\\u003eOperation strategy\\u003c\\u002fb\\u003e\\u003cbr\\u003e \"},\"font\":{\"size\":16},\"legend\":{\"title\":{\"text\":\"Configuration\"},\"orientation\":\"h\",\"yanchor\":\"bottom\",\"y\":0.98,\"xanchor\":\"right\",\"x\":1},\"height\":600,\"width\":800,\"yaxis\":{\"title\":{\"text\":\"Percentage\"}},\"barmode\":\"group\",\"bargap\":0.15,\"bargroupgap\":0.1,\"plot_bgcolor\":\"rgba(255,255,255,0.5)\"},                        {\"toImageButtonOptions\": {\"format\": \"png\", \"filename\": \"solhycool_plot\", \"height\": 600, \"width\": 800, \"scale\": 2}, \"modeBarButtonsToAdd\": [\"drawline\", \"drawopenpath\", \"drawclosedpath\", \"drawcircle\", \"drawrect\", \"eraseshape\"], \"responsive\": true}                    ).then(function(){\n                            \nvar gd = document.getElementById('9db2e97d-19aa-400d-b4ad-79dd5c624a24');\nvar x = new MutationObserver(function (mutations, observer) {{\n        var display = window.getComputedStyle(gd).display;\n        if (!display || display === 'none') {{\n            console.log([gd, 'removed!']);\n            Plotly.purge(gd);\n            observer.disconnect();\n        }}\n}});\n\n// Listen for the removal of the full notebook cells\nvar notebookContainer = gd.closest('#notebook-container');\nif (notebookContainer) {{\n    x.observe(notebookContainer, {childList: true});\n}}\n\n// Listen for the clearing of the current output cell\nvar outputEl = gd.closest('.output');\nif (outputEl) {{\n    x.observe(outputEl, {childList: true});\n}}\n\n                        })                };                });            </script>        </div>"
     },
     "metadata": {},
     "output_type": "display_data"
    }
   ],
   "source": [
    "import plotly.graph_objs as go\n",
    "from solhycool_visualizations.constants import color_palette, default_fontsize\n",
    "\n",
    "display(df_opt.head())\n",
    "\n",
    "PP = df_opt['R1'] * 100\n",
    "SS = df_opt['q_vm'] / df_opt['q_c'] * 100\n",
    "just_DC = (1 - df_opt['R1']) * (1 - df_opt['R2']) * 100\n",
    "\n",
    "# Create a figure where the xaxis is a categorical axis with the list of case studies, each case study will have two bards, one for PP and one for SS, the height of the bars will be the values of PP and SS\n",
    "\n",
    "xvalues = np.arange(len(df_opt.index))\n",
    "\n",
    "fig = go.Figure(\n",
    "    data=[\n",
    "        go.Bar(\n",
    "            name='Parallel',\n",
    "            x=xvalues, y=PP,\n",
    "            # marker_color=color_palette['dc_green'],\n",
    "            # marker_line_color=color_palette['dc_green'],\n",
    "            # marker_line_width=1.5,\n",
    "            opacity=0.6\n",
    "        ),\n",
    "        go.Bar(\n",
    "            name='Series DC - WCT',\n",
    "            x=xvalues, y=SS,\n",
    "            # marker_color=color_palette['wct_purple'],\n",
    "            # marker_line_color=color_palette['wct_purple'],\n",
    "            # marker_line_width=1.5,\n",
    "            opacity=0.6\n",
    "        ),\n",
    "        go.Bar(\n",
    "            name='DC only',\n",
    "            x=xvalues, y=just_DC,\n",
    "            # marker_color=color_palette['wct_purple'],\n",
    "            # marker_line_color=color_palette['wct_purple'],\n",
    "            # marker_line_width=1.5,\n",
    "            opacity=0.6\n",
    "        )\n",
    "    ]\n",
    ")\n",
    "\n",
    "# Set marks of the xaxis from df_opt.index, space evenly\n",
    "fig.update_xaxes(\n",
    "    tickvals=xvalues,\n",
    "    ticktext=[idx.strftime(\"%H:%M\") for idx in df_opt.index],\n",
    ")\n",
    "\n",
    "fig.update_layout(\n",
    "    title_text=\"<b>Operation strategy</b><br> \",\n",
    "    font_size=default_fontsize,\n",
    "    height=600,\n",
    "    width=800,\n",
    "    xaxis_title=\"Case study\",\n",
    "    yaxis_title=\"Percentage\",\n",
    "    barmode='group',\n",
    "    bargap=0.15, # gap between bars of adjacent location coordinates.\n",
    "    bargroupgap=0.1, # gap between bars of the same location coordinate.\n",
    "    plot_bgcolor='rgba(255,255,255,0.5)',\n",
    "    legend=dict(\n",
    "        title_text=\"Configuration\",\n",
    "        orientation=\"h\",\n",
    "        yanchor=\"bottom\",\n",
    "        y=0.98,\n",
    "        xanchor=\"right\",\n",
    "        x=1\n",
    "    )\n",
    ")\n",
    "\n",
    "fig.show(config=generate_plotly_config(fig))"
   ],
   "metadata": {
    "collapsed": false,
    "ExecuteTime": {
     "end_time": "2024-01-10T20:12:24.986127051Z",
     "start_time": "2024-01-10T20:12:23.830503397Z"
    }
   },
   "id": "b0b77c4f4ed11f76",
   "execution_count": 91
  },
  {
   "cell_type": "code",
   "outputs": [
    {
     "name": "stderr",
     "output_type": "stream",
     "text": [
      "\u001B[32m2024-01-10 21:12:38.278\u001B[0m | \u001B[1mINFO    \u001B[0m | \u001B[36msolhycool_visualizations\u001B[0m:\u001B[36msave_figure\u001B[0m:\u001B[36m24\u001B[0m - \u001B[1mFigure saved in /home/patomareao/Nextcloud/Juanmi_MED_PSA/WASCOP/Optimización/202312_PID2024/results/figures/operation_strategies_20240108.png\u001B[0m\n",
      "\u001B[32m2024-01-10 21:12:38.343\u001B[0m | \u001B[1mINFO    \u001B[0m | \u001B[36msolhycool_visualizations\u001B[0m:\u001B[36msave_figure\u001B[0m:\u001B[36m24\u001B[0m - \u001B[1mFigure saved in /home/patomareao/Nextcloud/Juanmi_MED_PSA/WASCOP/Optimización/202312_PID2024/results/figures/operation_strategies_20240108.svg\u001B[0m\n",
      "\u001B[32m2024-01-10 21:12:38.346\u001B[0m | \u001B[1mINFO    \u001B[0m | \u001B[36msolhycool_visualizations\u001B[0m:\u001B[36msave_figure\u001B[0m:\u001B[36m24\u001B[0m - \u001B[1mFigure saved in /home/patomareao/Nextcloud/Juanmi_MED_PSA/WASCOP/Optimización/202312_PID2024/results/figures/operation_strategies_20240108.html\u001B[0m\n"
     ]
    }
   ],
   "source": [
    "save_figure(\n",
    "    figure_name=f\"operation_strategies_{df_opt.index[0].strftime('%Y%m%d')}\",\n",
    "    figure_path=results_path / \"figures\",\n",
    "    fig=fig, formats=['png', 'svg', 'html'],\n",
    "    width=fig.layout.width, height=fig.layout.height, scale=2\n",
    ")"
   ],
   "metadata": {
    "collapsed": false,
    "ExecuteTime": {
     "end_time": "2024-01-10T20:12:38.382551276Z",
     "start_time": "2024-01-10T20:12:37.954302938Z"
    }
   },
   "id": "35a0c5bdadfbd20f",
   "execution_count": 92
  },
  {
   "cell_type": "markdown",
   "source": [
    "## Diagrama de la instalación\n",
    "Diagrama de la instalación para visualizar el punto de operación estimado por el modelo"
   ],
   "metadata": {
    "collapsed": false
   },
   "id": "62794f7e58e21872"
  },
  {
   "cell_type": "code",
   "outputs": [],
   "source": [
    "from solhycool_visualizations.diagrams import generate_facility_diagram\n",
    "from IPython.display import Image\n",
    "import subprocess\n",
    "\n",
    "src_diagram_path = f\"{os.getenv('HOME')}/Nextcloud/Juanmi_MED_PSA/WASCOP/Optimización/202309_JJA23/wascop_app/assets/optimization_V1/aux/WASCOP-Resultados JJAA.svg\"\n",
    "\n",
    "for case_study_id in opt_results:\n",
    "    case_study = opt_results[case_study_id] \n",
    "    \n",
    "    # Manual variable renaming, suposed to be fixed for future versions\n",
    "    # TODO: Remove this when fixed in the optimization code (get_bounds.m)\n",
    "    case_study['limits']['w_dc_min'] = case_study['limits']['w_fan_min']\n",
    "    case_study['limits']['w_wct_min'] = case_study['limits']['w_fan_min']\n",
    "    case_study['limits']['w_dc_max'] = case_study['limits']['w_fan_dc_max']\n",
    "    case_study['limits']['w_wct_max'] = case_study['limits']['w_fan_wct_max']\n",
    "    \n",
    "    output_path = results_path / \"figures\"\n",
    "    filename = f\"{case_study['time'].strftime('%Y%m%dT%HH%MM')}_facility_diagram\"\n",
    "    \n",
    "    generate_facility_diagram(src_diagram_path, case_study, save_diagram=True, output_path=output_path / f'{filename}.svg')\n",
    "    \n",
    "    # Convert to png using inkscape and subprocess\n",
    "    subprocess.run(\n",
    "        [\n",
    "            \"inkscape\", \n",
    "            '--export-type=png', \n",
    "            '--export-dpi=200', \n",
    "            output_path / f'{filename}.svg'\n",
    "        ]\n",
    "    )\n",
    "    \n",
    "    display( Image(output_path / f'{filename}.png') )"
   ],
   "metadata": {
    "collapsed": false,
    "ExecuteTime": {
     "end_time": "2024-01-10T08:04:22.521434111Z",
     "start_time": "2024-01-10T08:04:22.521049793Z"
    }
   },
   "id": "cf5279e3f5bba468",
   "execution_count": null
  },
  {
   "cell_type": "code",
   "outputs": [],
   "source": [
    "# For one of the case studies, generate diagrams for all pareto points to visualize how the operation strategy changes\n",
    "\n",
    "for case_study_id in opt_results:\n",
    "\n",
    "    # # Choose one case study\n",
    "    # case_study = opt_results[ list(opt_results.keys())[1] ]\n",
    "    case_study = opt_results[case_study_id]\n",
    "    \n",
    "    # Create directory for the diagrams\n",
    "    os.makedirs(results_path / \"figures\" / case_study_id, exist_ok=True)\n",
    "    \n",
    "    # Manual variable renaming, suposed to be fixed for future versions\n",
    "    # TODO: Remove this when fixed in the optimization code (get_bounds.m)\n",
    "    case_study['limits']['w_dc_min'] = case_study['limits']['w_fan_min']\n",
    "    case_study['limits']['w_wct_min'] = case_study['limits']['w_fan_min']\n",
    "    case_study['limits']['w_dc_max'] = case_study['limits']['w_fan_dc_max']\n",
    "    case_study['limits']['w_wct_max'] = case_study['limits']['w_fan_wct_max']\n",
    "    \n",
    "    for idx, ptop in enumerate(case_study['solutions']):\n",
    "        \n",
    "        output_path = results_path / f\"figures/{case_study_id}\"\n",
    "        filename = f\"cs_{case_study['id']}_ptop_{idx}_facility_diagram\"\n",
    "        \n",
    "        case_study['selected_solution_idx'] = idx + 1\n",
    "        \n",
    "        generate_facility_diagram(src_diagram_path, case_study, save_diagram=True, output_path=output_path / f'{filename}.svg')\n",
    "        \n",
    "        # Convert to png using inkscape and subprocess\n",
    "        subprocess.run(\n",
    "            [\n",
    "                \"inkscape\", \n",
    "                '--export-type=png', \n",
    "                '--export-dpi=200', \n",
    "                output_path / f'{filename}.svg'\n",
    "            ]\n",
    "        )"
   ],
   "metadata": {
    "collapsed": false,
    "ExecuteTime": {
     "start_time": "2024-01-10T08:04:22.521832947Z"
    }
   },
   "id": "5530d5cb2073a3a8",
   "execution_count": null
  }
 ],
 "metadata": {
  "kernelspec": {
   "display_name": "Python 3",
   "language": "python",
   "name": "python3"
  },
  "language_info": {
   "codemirror_mode": {
    "name": "ipython",
    "version": 2
   },
   "file_extension": ".py",
   "mimetype": "text/x-python",
   "name": "python",
   "nbconvert_exporter": "python",
   "pygments_lexer": "ipython2",
   "version": "2.7.6"
  }
 },
 "nbformat": 4,
 "nbformat_minor": 5
}
