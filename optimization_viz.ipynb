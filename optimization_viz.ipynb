{
 "cells": [
  {
   "cell_type": "code",
   "execution_count": 119,
   "id": "initial_id",
   "metadata": {
    "collapsed": true,
    "ExecuteTime": {
     "end_time": "2024-01-08T15:14:39.877584309Z",
     "start_time": "2024-01-08T15:14:39.803353575Z"
    }
   },
   "outputs": [
    {
     "name": "stdout",
     "output_type": "stream",
     "text": [
      "The autoreload extension is already loaded. To reload it, use:\n",
      "  %reload_ext autoreload\n"
     ]
    }
   ],
   "source": [
    "from pathlib import Path\n",
    "import os\n",
    "import hjson\n",
    "import json\n",
    "import numpy as np\n",
    "import pandas as pd\n",
    "\n",
    "from solhycool_visualizations import save_figure\n",
    "\n",
    "# reload\n",
    "%load_ext autoreload\n",
    "\n",
    "# Paths definition\n",
    "src_path = Path(f'{os.getenv(\"HOME\")}/Nextcloud/Juanmi_MED_PSA/WASCOP/Optimización/202312_PID2024')\n",
    "results_path: Path = src_path / 'results'\n",
    "data_path: Path = src_path / 'data'\n",
    "\n",
    "filename_opt_result = '20240108_optimization_results.json'\n",
    "filename_process_data = '20240108_process_timeseries.csv'\n",
    "\n",
    "sample_rate = '60s'"
   ]
  },
  {
   "cell_type": "markdown",
   "source": [
    "# Pre-processing"
   ],
   "metadata": {
    "collapsed": false
   },
   "id": "eeccf9e03b6c78bd"
  },
  {
   "cell_type": "code",
   "outputs": [
    {
     "ename": "FileNotFoundError",
     "evalue": "[Errno 2] No such file or directory: '/home/jmserrano/Nextcloud/Juanmi_MED_PSA/WASCOP/Optimización/202312_PID2024/data/config.json'",
     "output_type": "error",
     "traceback": [
      "\u001B[0;31m---------------------------------------------------------------------------\u001B[0m",
      "\u001B[0;31mFileNotFoundError\u001B[0m                         Traceback (most recent call last)",
      "Cell \u001B[0;32mIn[120], line 2\u001B[0m\n\u001B[1;32m      1\u001B[0m \u001B[38;5;66;03m# Load system information and data\u001B[39;00m\n\u001B[0;32m----> 2\u001B[0m \u001B[38;5;28;01mwith\u001B[39;00m \u001B[38;5;28;43mopen\u001B[39;49m\u001B[43m(\u001B[49m\u001B[43mdata_path\u001B[49m\u001B[43m \u001B[49m\u001B[38;5;241;43m/\u001B[39;49m\u001B[43m \u001B[49m\u001B[38;5;124;43m'\u001B[39;49m\u001B[38;5;124;43mconfig.json\u001B[39;49m\u001B[38;5;124;43m'\u001B[39;49m\u001B[43m)\u001B[49m \u001B[38;5;28;01mas\u001B[39;00m f:\n\u001B[1;32m      3\u001B[0m     config \u001B[38;5;241m=\u001B[39m json\u001B[38;5;241m.\u001B[39mload(f)\n\u001B[1;32m      5\u001B[0m \u001B[38;5;28;01mwith\u001B[39;00m \u001B[38;5;28mopen\u001B[39m(results_path \u001B[38;5;241m/\u001B[39m filename_opt_result) \u001B[38;5;28;01mas\u001B[39;00m f:\n",
      "File \u001B[0;32m~/development_psa/solhycool_optimization/venv/lib/python3.11/site-packages/IPython/core/interactiveshell.py:310\u001B[0m, in \u001B[0;36m_modified_open\u001B[0;34m(file, *args, **kwargs)\u001B[0m\n\u001B[1;32m    303\u001B[0m \u001B[38;5;28;01mif\u001B[39;00m file \u001B[38;5;129;01min\u001B[39;00m {\u001B[38;5;241m0\u001B[39m, \u001B[38;5;241m1\u001B[39m, \u001B[38;5;241m2\u001B[39m}:\n\u001B[1;32m    304\u001B[0m     \u001B[38;5;28;01mraise\u001B[39;00m \u001B[38;5;167;01mValueError\u001B[39;00m(\n\u001B[1;32m    305\u001B[0m         \u001B[38;5;124mf\u001B[39m\u001B[38;5;124m\"\u001B[39m\u001B[38;5;124mIPython won\u001B[39m\u001B[38;5;124m'\u001B[39m\u001B[38;5;124mt let you open fd=\u001B[39m\u001B[38;5;132;01m{\u001B[39;00mfile\u001B[38;5;132;01m}\u001B[39;00m\u001B[38;5;124m by default \u001B[39m\u001B[38;5;124m\"\u001B[39m\n\u001B[1;32m    306\u001B[0m         \u001B[38;5;124m\"\u001B[39m\u001B[38;5;124mas it is likely to crash IPython. If you know what you are doing, \u001B[39m\u001B[38;5;124m\"\u001B[39m\n\u001B[1;32m    307\u001B[0m         \u001B[38;5;124m\"\u001B[39m\u001B[38;5;124myou can use builtins\u001B[39m\u001B[38;5;124m'\u001B[39m\u001B[38;5;124m open.\u001B[39m\u001B[38;5;124m\"\u001B[39m\n\u001B[1;32m    308\u001B[0m     )\n\u001B[0;32m--> 310\u001B[0m \u001B[38;5;28;01mreturn\u001B[39;00m \u001B[43mio_open\u001B[49m\u001B[43m(\u001B[49m\u001B[43mfile\u001B[49m\u001B[43m,\u001B[49m\u001B[43m \u001B[49m\u001B[38;5;241;43m*\u001B[39;49m\u001B[43margs\u001B[49m\u001B[43m,\u001B[49m\u001B[43m \u001B[49m\u001B[38;5;241;43m*\u001B[39;49m\u001B[38;5;241;43m*\u001B[39;49m\u001B[43mkwargs\u001B[49m\u001B[43m)\u001B[49m\n",
      "\u001B[0;31mFileNotFoundError\u001B[0m: [Errno 2] No such file or directory: '/home/jmserrano/Nextcloud/Juanmi_MED_PSA/WASCOP/Optimización/202312_PID2024/data/config.json'"
     ]
    }
   ],
   "source": [
    "# Load system information and data\n",
    "with open(data_path / 'config.json') as f:\n",
    "    config = json.load(f)\n",
    "    \n",
    "with open(results_path / filename_opt_result) as f:\n",
    "    opt_results = json.load(f)\n",
    "        \n",
    "with open(src_path / \"visualizations\" / \"plot_config.hjson\") as f:\n",
    "    plt_config = hjson.load(f)\n",
    "    \n",
    "# Read data from csv, the index column is the one named \"time\", which is not the first one\n",
    "df = pd.read_csv(results_path / filename_process_data, parse_dates=True, index_col='time')\n",
    "\n",
    "# Set UTC timezone\n",
    "df = df.tz_localize('UTC')"
   ],
   "metadata": {
    "collapsed": false,
    "ExecuteTime": {
     "end_time": "2024-01-08T15:14:39.985170014Z",
     "start_time": "2024-01-08T15:14:39.817833620Z"
    }
   },
   "id": "e6ce7b6b8d78dfa6",
   "execution_count": 120
  },
  {
   "cell_type": "code",
   "outputs": [],
   "source": [
    "# Remove the last 19 min since the system was not operating\n",
    "# df = df[:-19*60]\n",
    "\n",
    "# Sample every 60 seconds to reduce the size of the dataframe\n",
    "df = df.resample(sample_rate).mean()"
   ],
   "metadata": {
    "collapsed": false,
    "ExecuteTime": {
     "start_time": "2024-01-08T15:14:39.882002235Z"
    }
   },
   "id": "68a9c292c116fede",
   "execution_count": null
  },
  {
   "cell_type": "code",
   "execution_count": null,
   "outputs": [],
   "source": [
    "opt_results[ list(opt_results.keys())[0] ]['selected_solution_idx'] = 3"
   ],
   "metadata": {
    "collapsed": false,
    "ExecuteTime": {
     "start_time": "2024-01-08T15:14:39.882178412Z"
    }
   },
   "id": "c018a6dd68cf3422"
  },
  {
   "cell_type": "code",
   "execution_count": null,
   "outputs": [],
   "source": [
    "# From each dictionary in opt_results, append a row to the dataframe with:\n",
    "# time, computation_time, and the values of solutions[selected_solution_idx+1]\n",
    "\n",
    "temp_data = []\n",
    "\n",
    "for i, opt_result in enumerate(opt_results.values()):\n",
    "    solution_obj = opt_result['solutions'][opt_result['selected_solution_idx'] - 1] # MATLAB index starts at 1\n",
    "    solution_obj['time'] = opt_result['time']\n",
    "    solution_obj['computation_time'] = opt_result['computation_time']\n",
    "    \n",
    "    temp_data.append(solution_obj)\n",
    "    \n",
    "temp_df = pd.DataFrame(temp_data)\n",
    "\n",
    "\n",
    "# First convert the time field to datetime\n",
    "# temp_df = pd.DataFrame(opt_results)\n",
    "temp_df['time'] = pd.to_datetime(temp_df['time'])\n",
    "temp_df.set_index('time', inplace=True)\n",
    "# temp_df = temp_df.tz_localize('UTC')\n",
    "\n",
    "continuous_time_index = pd.date_range(start=temp_df.index.min(), end=df.index.max(), freq='1S')\n",
    "df_opt = temp_df.reindex(continuous_time_index)\n",
    "df_opt.ffill(inplace=True)\n",
    "df_opt = df_opt.resample(sample_rate).mean()"
   ],
   "metadata": {
    "collapsed": false,
    "ExecuteTime": {
     "start_time": "2024-01-08T15:14:39.882289194Z"
    }
   },
   "id": "577e9c110f0ca125"
  },
  {
   "cell_type": "code",
   "execution_count": null,
   "outputs": [],
   "source": [
    "# Combine the optimization results with the timeseries data\n",
    "# From optimization result, build a dataframe with the same index as df, by concatenating the values using the time field\n",
    "\n",
    "# Add suffix to colums and join with df\n",
    "df_opt = df_opt.add_suffix('_opt')\n",
    "\n",
    "df = df.join(df_opt, how='outer')\n",
    "\n",
    "# Return to original index to be used later in the plot\n",
    "df_opt = temp_df"
   ],
   "metadata": {
    "collapsed": false,
    "ExecuteTime": {
     "start_time": "2024-01-08T15:14:39.882409850Z"
    }
   },
   "id": "185de370f5b92ff8"
  },
  {
   "cell_type": "code",
   "outputs": [],
   "source": [
    "# Filter out unreasonable consumption values\n",
    "\n",
    "df['Ce_opt'].where(df['Ce_opt'] < 100, np.nan, inplace=True)\n",
    "df['Cw_opt'].where(df['Cw_opt'] < 1000, np.nan, inplace=True)\n",
    "df_opt['Ce'].where(df_opt['Ce'] < 100, np.nan, inplace=True)\n",
    "df_opt['Cw'].where(df_opt['Cw'] < 1000, np.nan, inplace=True)\n",
    "\n",
    "# Calculate active states for DC and WCT, this should be read from the timeseries data\n",
    "df['dc_active'] = df['w_dc'] > 11\n",
    "df['wct_active'] = df['w_wct'] > 21"
   ],
   "metadata": {
    "collapsed": false,
    "ExecuteTime": {
     "start_time": "2024-01-08T15:14:39.882481956Z"
    }
   },
   "id": "e769c5db0f9cd129",
   "execution_count": null
  },
  {
   "cell_type": "code",
   "outputs": [],
   "source": [
    "# Calculate additional variables\n",
    "from solhycool_visualizations.calculations import power_consumption\n",
    "\n",
    "# df[\"C_e\"] = consumption_fit(df[\"pump flow or freq\"]) ...\n",
    "# df[\"C\"] = df[\"C_e\"] * lambda_e + df[\"C_w\"] * lambda_w\n",
    "\n",
    "df[\"Ce_dc\"] = power_consumption(df[\"w_dc\"].to_numpy(), actuator='fan_dc')\n",
    "df[\"Ce_wct\"] = power_consumption(df[\"w_wct\"].to_numpy(), actuator='fan_wct')\n",
    "df[\"Ce_c\"] = power_consumption(df[\"q_c\"].to_numpy(), actuator='pump_c')\n",
    "\n",
    "df[\"Ce\"] = df[\"Ce_dc\"] + df[\"Ce_wct\"] + df[\"Ce_c\"] \n",
    "df[\"Cw\"] = df[\"Cw\"] * 60"
   ],
   "metadata": {
    "collapsed": false,
    "ExecuteTime": {
     "start_time": "2024-01-08T15:14:39.882629513Z"
    }
   },
   "id": "e6fc7b4303850e60",
   "execution_count": null
  },
  {
   "cell_type": "markdown",
   "source": [
    "# Visualizations"
   ],
   "metadata": {
    "collapsed": false
   },
   "id": "8f698323d3d2b901"
  },
  {
   "cell_type": "markdown",
   "source": [
    "## Frente de pareto\n",
    "Frentes de pareto acumulados hasta ahora para los distintos casos de estudio, punto seleccionado se muestra resaltado"
   ],
   "metadata": {
    "collapsed": false
   },
   "id": "ee00600ea001f1b9"
  },
  {
   "cell_type": "code",
   "outputs": [],
   "source": [
    "%autoreload 2\n",
    "\n",
    "from solhycool_visualizations.pareto import pareto_plot\n",
    "\n",
    "fig = pareto_plot(opt_results)\n",
    "\n",
    "fig.show()"
   ],
   "metadata": {
    "collapsed": false,
    "ExecuteTime": {
     "start_time": "2024-01-08T15:14:39.882720716Z"
    }
   },
   "id": "479f0c92f3f150c6",
   "execution_count": null
  },
  {
   "cell_type": "code",
   "execution_count": null,
   "outputs": [],
   "source": [
    "save_figure(\n",
    "    figure_name=f\"pareto_{df.index[0].strftime('%Y%m%d')}\", \n",
    "    figure_path=results_path / \"figures\", \n",
    "    fig=fig, formats=['png', 'svg', 'html'], \n",
    "    width=fig.layout.width, height=fig.layout.height, scale=2\n",
    ")"
   ],
   "metadata": {
    "collapsed": false,
    "ExecuteTime": {
     "start_time": "2024-01-08T15:14:39.882796752Z"
    }
   },
   "id": "5b7272981d9583c"
  },
  {
   "cell_type": "markdown",
   "source": [
    "## Evolución temporal de consumos\n",
    "Comparación de los consumos de consumos entre la evolución de la serie temporal y los estimados por el modelo "
   ],
   "metadata": {
    "collapsed": false
   },
   "id": "15ea8f16f3d82c2e"
  },
  {
   "cell_type": "code",
   "outputs": [],
   "source": [
    "from solhycool_visualizations import costs_plot\n",
    "\n",
    "fig = costs_plot(df)\n",
    "\n",
    "fig.show()"
   ],
   "metadata": {
    "collapsed": false,
    "ExecuteTime": {
     "start_time": "2024-01-08T15:14:39.882863519Z"
    }
   },
   "id": "f0b761dc61f111fb",
   "execution_count": null
  },
  {
   "cell_type": "code",
   "execution_count": null,
   "outputs": [],
   "source": [
    "save_figure(\n",
    "    figure_name=f\"costs_{df.index[0].strftime('%Y%m%d')}\", \n",
    "    figure_path=results_path / \"figures\", \n",
    "    fig=fig, formats=['png', 'svg', 'html'], \n",
    "    width=fig.layout.width, height=fig.layout.height, scale=2\n",
    ")"
   ],
   "metadata": {
    "collapsed": false,
    "ExecuteTime": {
     "start_time": "2024-01-08T15:14:39.882925030Z"
    }
   },
   "id": "c55f8912f84df9b1"
  },
  {
   "cell_type": "markdown",
   "source": [],
   "metadata": {
    "collapsed": false
   },
   "id": "e40a5c978bbd8cab"
  },
  {
   "cell_type": "markdown",
   "source": [
    "## Resultados experimentales\n",
    "Gráfica del sistema completo mostrando comparativa entre las series temporales obtenidas experimentalmente y las estimadas por el modelo"
   ],
   "metadata": {
    "collapsed": false
   },
   "id": "92e832f3335abfd1"
  },
  {
   "cell_type": "code",
   "outputs": [],
   "source": [
    "from solhycool_visualizations.experimental_results import experimental_results_plot\n",
    "\n",
    "fig = experimental_results_plot(plt_config, df, df_opt)\n",
    "\n",
    "fig.show()"
   ],
   "metadata": {
    "collapsed": false,
    "ExecuteTime": {
     "start_time": "2024-01-08T15:14:39.882984651Z"
    }
   },
   "id": "e495c01b2d4a7441",
   "execution_count": null
  },
  {
   "cell_type": "markdown",
   "source": [
    "## Diagrama de la instalación\n",
    "Diagrama de la instalación para visualizar el punto de operación estimado por el modelo"
   ],
   "metadata": {
    "collapsed": false
   },
   "id": "62794f7e58e21872"
  },
  {
   "cell_type": "code",
   "outputs": [],
   "source": [
    "from solhycool_visualizations.facility_diagram import generate_facility_diagram\n",
    "from IPython.display import SVG\n",
    "\n",
    "fig = generate_facility_diagram()\n",
    "\n",
    "SVG(etree.tostring(diagram_file))"
   ],
   "metadata": {
    "collapsed": false,
    "ExecuteTime": {
     "start_time": "2024-01-08T15:14:39.883040082Z"
    }
   },
   "id": "cf5279e3f5bba468",
   "execution_count": null
  }
 ],
 "metadata": {
  "kernelspec": {
   "display_name": "Python 3",
   "language": "python",
   "name": "python3"
  },
  "language_info": {
   "codemirror_mode": {
    "name": "ipython",
    "version": 2
   },
   "file_extension": ".py",
   "mimetype": "text/x-python",
   "name": "python",
   "nbconvert_exporter": "python",
   "pygments_lexer": "ipython2",
   "version": "2.7.6"
  }
 },
 "nbformat": 4,
 "nbformat_minor": 5
}
