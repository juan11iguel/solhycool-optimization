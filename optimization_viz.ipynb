{
 "cells": [
  {
   "cell_type": "code",
   "execution_count": null,
   "id": "initial_id",
   "metadata": {
    "collapsed": true
   },
   "outputs": [],
   "source": [
    "from pathlib import Path\n",
    "import hjson\n",
    "import json\n",
    "\n",
    "import numpy as np\n",
    "import pandas as pd\n",
    "\n",
    "# Paths definition\n",
    "src_path = Path('/home/patomareao/Nextcloud/Juanmi_MED_PSA/WASCOP/Optimización/202312_PID2024')\n",
    "results_path: Path = src_path / 'results'\n",
    "data_path: Path = src_path / 'data'\n",
    "\n",
    "filename_opt_result = '20231218_optimization_results.json'\n",
    "filename_process_data = '20231218_process_timeseries.csv'\n",
    "\n",
    "sample_rate = '60s'"
   ]
  },
  {
   "cell_type": "markdown",
   "source": [
    "# Pre-processing"
   ],
   "metadata": {
    "collapsed": false
   },
   "id": "eeccf9e03b6c78bd"
  },
  {
   "cell_type": "code",
   "outputs": [],
   "source": [
    "# Load system information and data\n",
    "with open(data_path / 'config.json') as f:\n",
    "    config = json.load(f)\n",
    "    \n",
    "with open(results_path / filename_opt_result) as f:\n",
    "    opt_results = json.load(f)\n",
    "        \n",
    "with open(src_path / \"visualizations\" / \"plot_config.hjson\") as f:\n",
    "    plt_config = hjson.load(f)\n",
    "    \n",
    "# Read data from csv, the index column is the one named \"time\", which is not the first one\n",
    "df = pd.read_csv(results_path / filename_process_data, parse_dates=True, index_col='time')\n",
    "\n",
    "# Set UTC timezone\n",
    "df = df.tz_localize('UTC')"
   ],
   "metadata": {
    "collapsed": false
   },
   "id": "e6ce7b6b8d78dfa6"
  },
  {
   "cell_type": "code",
   "outputs": [],
   "source": [
    "# Remove the last 19 min since the system was not operating\n",
    "df = df[:-19*60]\n",
    "\n",
    "# Sample every 60 seconds to reduce the size of the dataframe\n",
    "df = df.resample(sample_rate).mean()\n",
    "\n",
    "# Combine the optimization results with the timeseries data\n",
    "# From optimization result, build a dataframe with the same index as df, by concatenating the values using the time field\n",
    "\n",
    "# First convert the time field to datetime\n",
    "temp_df = pd.DataFrame(opt_results)\n",
    "temp_df['time'] = pd.to_datetime(temp_df['time'])\n",
    "temp_df.set_index('time', inplace=True)\n",
    "temp_df = temp_df.tz_localize('UTC')\n",
    "\n",
    "continuous_time_index = pd.date_range(start=temp_df.index.min(), end=temp_df.index.max(), freq='1S')\n",
    "df_opt = temp_df.reindex(continuous_time_index)\n",
    "df_opt.ffill(inplace=True)\n",
    "df_opt = df_opt.resample(sample_rate).mean()\n",
    "\n",
    "# Add suffix to colums and join with df\n",
    "df_opt = df_opt.add_suffix('_opt')\n",
    "\n",
    "\n",
    "df = df.join(df_opt, how='outer')\n",
    "\n",
    "# Return to original index to be used later in the plot\n",
    "df_opt = temp_df"
   ],
   "metadata": {
    "collapsed": false
   },
   "id": "68a9c292c116fede"
  },
  {
   "cell_type": "code",
   "outputs": [],
   "source": [
    "# Filter out unreasonable consumption values\n",
    "\n",
    "df['Ce_opt'].where(df['Ce_opt'] < 100, np.nan, inplace=True)\n",
    "df['Cw_opt'].where(df['Cw_opt'] < 1000, np.nan, inplace=True)\n",
    "df_opt['Ce'].where(df_opt['Ce'] < 100, np.nan, inplace=True)\n",
    "df_opt['Cw'].where(df_opt['Cw'] < 1000, np.nan, inplace=True)\n",
    "\n",
    "# Calculate active states for DC and WCT, this should be read from the timeseries data\n",
    "df['dc_active'] = df['w_dc'] > 11\n",
    "df['wct_active'] = df['w_wct'] > 21"
   ],
   "metadata": {
    "collapsed": false
   },
   "id": "e769c5db0f9cd129"
  },
  {
   "cell_type": "code",
   "outputs": [],
   "source": [
    "# Calculate additional variables\n",
    "\n",
    "from solhycool_visualizations.calculations import power_consumption\n",
    "\n",
    "# df[\"C_e\"] = consumption_fit(df[\"pump flow or freq\"]) ...\n",
    "# df[\"C\"] = df[\"C_e\"] * lambda_e + df[\"C_w\"] * lambda_w\n",
    "\n",
    "df[\"Ce_dc\"] = power_consumption(df[\"w_dc\"].to_numpy(), actuator='fan_dc')\n",
    "df[\"Ce_wct\"] = power_consumption(df[\"w_wct\"].to_numpy(), actuator='fan_wct')\n",
    "df[\"Ce_c\"] = power_consumption(df[\"q_c\"].to_numpy(), actuator='pump_c')\n",
    "\n",
    "df[\"Ce\"] = df[\"Ce_dc\"] + df[\"Ce_wct\"] + df[\"Ce_c\"] "
   ],
   "metadata": {
    "collapsed": false
   },
   "id": "e6fc7b4303850e60"
  },
  {
   "cell_type": "markdown",
   "source": [
    "# Visualizations"
   ],
   "metadata": {
    "collapsed": false
   },
   "id": "8f698323d3d2b901"
  },
  {
   "cell_type": "markdown",
   "source": [
    "## Frente de pareto\n",
    "Frentes de pareto acumulados hasta ahora para los distintos casos de estudio, punto seleccionado se muestra resaltado"
   ],
   "metadata": {
    "collapsed": false
   },
   "id": "ee00600ea001f1b9"
  },
  {
   "cell_type": "code",
   "outputs": [],
   "source": [
    "from solhycool_visualizations.pareto import pareto_plot\n",
    "\n",
    "fig = pareto_plot()\n",
    "\n",
    "fig.show()"
   ],
   "metadata": {
    "collapsed": false
   },
   "id": "479f0c92f3f150c6"
  },
  {
   "cell_type": "markdown",
   "source": [
    "## Evolución temporal de consumos\n",
    "Comparación de los consumos de consumos entre la evolución de la serie temporal y los estimados por el modelo "
   ],
   "metadata": {
    "collapsed": false
   },
   "id": "15ea8f16f3d82c2e"
  },
  {
   "cell_type": "code",
   "outputs": [],
   "source": [
    "from solhycool_visualizations import consumptions_plot\n",
    "\n",
    "fig = consumptions_plot()\n",
    "\n",
    "fig.show()"
   ],
   "metadata": {
    "collapsed": false
   },
   "id": "f0b761dc61f111fb"
  },
  {
   "cell_type": "markdown",
   "source": [],
   "metadata": {
    "collapsed": false
   },
   "id": "e40a5c978bbd8cab"
  },
  {
   "cell_type": "markdown",
   "source": [
    "## Resultados experimentales\n",
    "Gráfica del sistema completo mostrando comparativa entre las series temporales obtenidas experimentalmente y las estimadas por el modelo"
   ],
   "metadata": {
    "collapsed": false
   },
   "id": "92e832f3335abfd1"
  },
  {
   "cell_type": "code",
   "outputs": [],
   "source": [
    "from solhycool_visualizations.experimental_results import experimental_results_plot\n",
    "\n",
    "fig = experimental_results_plot()\n",
    "\n",
    "fig.show()"
   ],
   "metadata": {
    "collapsed": false
   },
   "id": "e495c01b2d4a7441"
  },
  {
   "cell_type": "markdown",
   "source": [
    "## Diagrama de la instalación\n",
    "Diagrama de la instalación para visualizar el punto de operación estimado por el modelo"
   ],
   "metadata": {
    "collapsed": false
   },
   "id": "62794f7e58e21872"
  },
  {
   "cell_type": "code",
   "outputs": [],
   "source": [
    "from solhycool_visualizations.facility_diagram import generate_facility_diagram\n",
    "from IPython.display import SVG\n",
    "\n",
    "fig = generate_facility_diagram()\n",
    "\n",
    "SVG(etree.tostring(diagram_file))"
   ],
   "metadata": {
    "collapsed": false
   },
   "id": "cf5279e3f5bba468"
  }
 ],
 "metadata": {
  "kernelspec": {
   "display_name": "Python 3",
   "language": "python",
   "name": "python3"
  },
  "language_info": {
   "codemirror_mode": {
    "name": "ipython",
    "version": 2
   },
   "file_extension": ".py",
   "mimetype": "text/x-python",
   "name": "python",
   "nbconvert_exporter": "python",
   "pygments_lexer": "ipython2",
   "version": "2.7.6"
  }
 },
 "nbformat": 4,
 "nbformat_minor": 5
}
