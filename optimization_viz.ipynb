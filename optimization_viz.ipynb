{
 "cells": [
  {
   "cell_type": "code",
   "execution_count": null,
   "id": "initial_id",
   "metadata": {
    "collapsed": true
   },
   "outputs": [],
   "source": []
  },
  {
   "cell_type": "markdown",
   "source": [
    "## Frente de pareto\n",
    "Frentes de pareto acumulados hasta ahora para los distintos casos de estudio, punto seleccionado se muestra resaltado"
   ],
   "metadata": {
    "collapsed": false
   },
   "id": "ee00600ea001f1b9"
  },
  {
   "cell_type": "code",
   "outputs": [],
   "source": [],
   "metadata": {
    "collapsed": false
   },
   "id": "479f0c92f3f150c6"
  },
  {
   "cell_type": "markdown",
   "source": [
    "## Evolución temporal de consumos\n",
    "Comparación de los consumos de consumos entre la evolución de la serie temporal y los estimados por el modelo "
   ],
   "metadata": {
    "collapsed": false
   },
   "id": "15ea8f16f3d82c2e"
  },
  {
   "cell_type": "code",
   "outputs": [],
   "source": [],
   "metadata": {
    "collapsed": false
   },
   "id": "f0b761dc61f111fb"
  },
  {
   "cell_type": "markdown",
   "source": [],
   "metadata": {
    "collapsed": false
   },
   "id": "e40a5c978bbd8cab"
  },
  {
   "cell_type": "markdown",
   "source": [
    "## Resultados experimentales\n",
    "Gráfica del sistema completo mostrando comparativa entre las series temporales obtenidas experimentalmente y las estimadas por el modelo"
   ],
   "metadata": {
    "collapsed": false
   },
   "id": "92e832f3335abfd1"
  },
  {
   "cell_type": "code",
   "outputs": [],
   "source": [],
   "metadata": {
    "collapsed": false
   },
   "id": "e495c01b2d4a7441"
  },
  {
   "cell_type": "markdown",
   "source": [
    "## Diagrama de la instalación\n",
    "Diagrama de la instalación para visualizar el punto de operación estimado por el modelo"
   ],
   "metadata": {
    "collapsed": false
   },
   "id": "62794f7e58e21872"
  },
  {
   "cell_type": "code",
   "outputs": [],
   "source": [],
   "metadata": {
    "collapsed": false
   },
   "id": "cf5279e3f5bba468"
  }
 ],
 "metadata": {
  "kernelspec": {
   "display_name": "Python 3",
   "language": "python",
   "name": "python3"
  },
  "language_info": {
   "codemirror_mode": {
    "name": "ipython",
    "version": 2
   },
   "file_extension": ".py",
   "mimetype": "text/x-python",
   "name": "python",
   "nbconvert_exporter": "python",
   "pygments_lexer": "ipython2",
   "version": "2.7.6"
  }
 },
 "nbformat": 4,
 "nbformat_minor": 5
}
